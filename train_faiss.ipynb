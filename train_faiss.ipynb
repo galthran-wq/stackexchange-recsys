{
 "cells": [
  {
   "cell_type": "code",
   "id": "initial_id",
   "metadata": {
    "collapsed": true,
    "ExecuteTime": {
     "end_time": "2024-12-20T03:10:52.955129Z",
     "start_time": "2024-12-20T03:10:46.415506Z"
    }
   },
   "source": "from data_utils import load_data, preprocess_data_faiss",
   "outputs": [],
   "execution_count": 1
  },
  {
   "metadata": {
    "ExecuteTime": {
     "end_time": "2024-12-20T03:11:14.290750Z",
     "start_time": "2024-12-20T03:10:53.662208Z"
    }
   },
   "cell_type": "code",
   "source": [
    "data = load_data(\"data\")\n",
    "data = preprocess_data_faiss(data)\n",
    "data"
   ],
   "id": "d3107880e814ff45",
   "outputs": [
    {
     "name": "stderr",
     "output_type": "stream",
     "text": [
      "/mnt/c/Users/Raman/PycharmProjects/stackexchange-recsys/data_utils.py:199: SettingWithCopyWarning: \n",
      "A value is trying to be set on a copy of a slice from a DataFrame.\n",
      "Try using .loc[row_indexer,col_indexer] = value instead\n",
      "\n",
      "See the caveats in the documentation: https://pandas.pydata.org/pandas-docs/stable/user_guide/indexing.html#returning-a-view-versus-a-copy\n",
      "  posts['body'] = posts['body'].map(clean_html)\n"
     ]
    },
    {
     "data": {
      "text/plain": [
       "          id posttypeid acceptedanswerid             creationdate score  \\\n",
       "0          1          1              925  2010-07-09T19:07:45.460    54   \n",
       "1          2          1               26  2010-07-09T19:08:34.570    29   \n",
       "2          3          1               25  2010-07-09T19:08:47.673    62   \n",
       "3          4          1               13  2010-07-09T19:09:20.653    39   \n",
       "4          5          1             4122  2010-07-09T19:09:59.187    48   \n",
       "...      ...        ...              ...                      ...   ...   \n",
       "42862  55491          1              NaN  2015-03-07T17:00:51.300     0   \n",
       "42866  55495          1              NaN  2015-03-07T18:25:41.330     0   \n",
       "42867  55496          1              NaN  2015-03-07T18:30:56.803     0   \n",
       "42878  55508          1              NaN  2015-03-07T22:16:59.250     1   \n",
       "42880  55514          1              NaN  2015-03-08T01:27:37.143     0   \n",
       "\n",
       "      viewcount                                               body  \\\n",
       "0          8441  My chocolate chips cookies are always too cris...   \n",
       "1         76282  I've heard of people cooking bacon in an oven ...   \n",
       "2          2883  I always use brown extra large eggs, but I can...   \n",
       "3          2877  And can I use one in place of the other in cer...   \n",
       "4        154625  It seems that every time I make a tomato sauce...   \n",
       "...         ...                                                ...   \n",
       "42862        22  I want to know if my food I cooked in my stain...   \n",
       "42866        13  I boil rice often and then store them. Next da...   \n",
       "42867        18  when I am cooking curry, I add chopped tomatoe...   \n",
       "42878        18  I'm making oven baked caponata and the recipe ...   \n",
       "42880        19  I have a copper pot that is quite flared at th...   \n",
       "\n",
       "      owneruserid lasteditoruserid             lasteditdate  ...  \\\n",
       "0              16               41  2011-08-22T23:44:41.317  ...   \n",
       "1              17               41  2010-11-10T04:44:49.043  ...   \n",
       "2              14             1672  2013-03-24T21:42:44.057  ...   \n",
       "3              24             1443  2010-07-31T06:42:51.347  ...   \n",
       "4              21               41  2010-10-14T14:52:44.257  ...   \n",
       "...           ...              ...                      ...  ...   \n",
       "42862       34057              NaN                      NaN  ...   \n",
       "42866       34059              NaN                      NaN  ...   \n",
       "42867       34059              NaN                      NaN  ...   \n",
       "42878       34065              NaN                      NaN  ...   \n",
       "42880       34069              NaN                      NaN  ...   \n",
       "\n",
       "                                                   title  \\\n",
       "0            How can I get chewy chocolate chip cookies?   \n",
       "1                    How should I cook bacon in an oven?   \n",
       "2      What is the difference between white and brown...   \n",
       "3      What is the difference between baking soda and...   \n",
       "4      In a tomato sauce recipe, how can I cut the ac...   \n",
       "...                                                  ...   \n",
       "42862  gray film on my stainless steel stockpot food ...   \n",
       "42866  When I boil rice, they lump together after a w...   \n",
       "42867     Why does tomato not dissolve when I make curry   \n",
       "42878                      Definition of a \"half glass?\"   \n",
       "42880                          What is this pot used for   \n",
       "\n",
       "                                                    tags answercount  \\\n",
       "0                             <baking><cookies><texture>           9   \n",
       "1                            <oven><cooking-time><bacon>          13   \n",
       "2                                                 <eggs>           4   \n",
       "3      <substitutions><please-remove-this-tag><baking...           4   \n",
       "4              <sauce><pasta><tomatoes><italian-cuisine>          25   \n",
       "...                                                  ...         ...   \n",
       "42862                                      <food-safety>           0   \n",
       "42866                                             <rice>           1   \n",
       "42867                                  <tomatoes><curry>           0   \n",
       "42878                                  <italian-cuisine>           0   \n",
       "42880                                        <equipment>           1   \n",
       "\n",
       "      commentcount favoritecount parentid communityowneddate closeddate  \\\n",
       "0                5            19      NaN                NaN        NaN   \n",
       "1                3             4      NaN                NaN        NaN   \n",
       "2                1             1      NaN                NaN        NaN   \n",
       "3                0             4      NaN                NaN        NaN   \n",
       "4                1             8      NaN                NaN        NaN   \n",
       "...            ...           ...      ...                ...        ...   \n",
       "42862            3           NaN      NaN                NaN        NaN   \n",
       "42866            1           NaN      NaN                NaN        NaN   \n",
       "42867            3           NaN      NaN                NaN        NaN   \n",
       "42878            1           NaN      NaN                NaN        NaN   \n",
       "42880            5           NaN      NaN                NaN        NaN   \n",
       "\n",
       "      ownerdisplayname lasteditordisplayname  \n",
       "0                  NaN                   NaN  \n",
       "1                  NaN                   NaN  \n",
       "2                  NaN                   NaN  \n",
       "3                  NaN                   NaN  \n",
       "4                  NaN                   NaN  \n",
       "...                ...                   ...  \n",
       "42862              NaN                   NaN  \n",
       "42866              NaN                   NaN  \n",
       "42867              NaN                   NaN  \n",
       "42878              NaN                   NaN  \n",
       "42880              NaN                   NaN  \n",
       "\n",
       "[11812 rows x 21 columns]"
      ],
      "text/html": [
       "<div>\n",
       "<style scoped>\n",
       "    .dataframe tbody tr th:only-of-type {\n",
       "        vertical-align: middle;\n",
       "    }\n",
       "\n",
       "    .dataframe tbody tr th {\n",
       "        vertical-align: top;\n",
       "    }\n",
       "\n",
       "    .dataframe thead th {\n",
       "        text-align: right;\n",
       "    }\n",
       "</style>\n",
       "<table border=\"1\" class=\"dataframe\">\n",
       "  <thead>\n",
       "    <tr style=\"text-align: right;\">\n",
       "      <th></th>\n",
       "      <th>id</th>\n",
       "      <th>posttypeid</th>\n",
       "      <th>acceptedanswerid</th>\n",
       "      <th>creationdate</th>\n",
       "      <th>score</th>\n",
       "      <th>viewcount</th>\n",
       "      <th>body</th>\n",
       "      <th>owneruserid</th>\n",
       "      <th>lasteditoruserid</th>\n",
       "      <th>lasteditdate</th>\n",
       "      <th>...</th>\n",
       "      <th>title</th>\n",
       "      <th>tags</th>\n",
       "      <th>answercount</th>\n",
       "      <th>commentcount</th>\n",
       "      <th>favoritecount</th>\n",
       "      <th>parentid</th>\n",
       "      <th>communityowneddate</th>\n",
       "      <th>closeddate</th>\n",
       "      <th>ownerdisplayname</th>\n",
       "      <th>lasteditordisplayname</th>\n",
       "    </tr>\n",
       "  </thead>\n",
       "  <tbody>\n",
       "    <tr>\n",
       "      <th>0</th>\n",
       "      <td>1</td>\n",
       "      <td>1</td>\n",
       "      <td>925</td>\n",
       "      <td>2010-07-09T19:07:45.460</td>\n",
       "      <td>54</td>\n",
       "      <td>8441</td>\n",
       "      <td>My chocolate chips cookies are always too cris...</td>\n",
       "      <td>16</td>\n",
       "      <td>41</td>\n",
       "      <td>2011-08-22T23:44:41.317</td>\n",
       "      <td>...</td>\n",
       "      <td>How can I get chewy chocolate chip cookies?</td>\n",
       "      <td>&lt;baking&gt;&lt;cookies&gt;&lt;texture&gt;</td>\n",
       "      <td>9</td>\n",
       "      <td>5</td>\n",
       "      <td>19</td>\n",
       "      <td>NaN</td>\n",
       "      <td>NaN</td>\n",
       "      <td>NaN</td>\n",
       "      <td>NaN</td>\n",
       "      <td>NaN</td>\n",
       "    </tr>\n",
       "    <tr>\n",
       "      <th>1</th>\n",
       "      <td>2</td>\n",
       "      <td>1</td>\n",
       "      <td>26</td>\n",
       "      <td>2010-07-09T19:08:34.570</td>\n",
       "      <td>29</td>\n",
       "      <td>76282</td>\n",
       "      <td>I've heard of people cooking bacon in an oven ...</td>\n",
       "      <td>17</td>\n",
       "      <td>41</td>\n",
       "      <td>2010-11-10T04:44:49.043</td>\n",
       "      <td>...</td>\n",
       "      <td>How should I cook bacon in an oven?</td>\n",
       "      <td>&lt;oven&gt;&lt;cooking-time&gt;&lt;bacon&gt;</td>\n",
       "      <td>13</td>\n",
       "      <td>3</td>\n",
       "      <td>4</td>\n",
       "      <td>NaN</td>\n",
       "      <td>NaN</td>\n",
       "      <td>NaN</td>\n",
       "      <td>NaN</td>\n",
       "      <td>NaN</td>\n",
       "    </tr>\n",
       "    <tr>\n",
       "      <th>2</th>\n",
       "      <td>3</td>\n",
       "      <td>1</td>\n",
       "      <td>25</td>\n",
       "      <td>2010-07-09T19:08:47.673</td>\n",
       "      <td>62</td>\n",
       "      <td>2883</td>\n",
       "      <td>I always use brown extra large eggs, but I can...</td>\n",
       "      <td>14</td>\n",
       "      <td>1672</td>\n",
       "      <td>2013-03-24T21:42:44.057</td>\n",
       "      <td>...</td>\n",
       "      <td>What is the difference between white and brown...</td>\n",
       "      <td>&lt;eggs&gt;</td>\n",
       "      <td>4</td>\n",
       "      <td>1</td>\n",
       "      <td>1</td>\n",
       "      <td>NaN</td>\n",
       "      <td>NaN</td>\n",
       "      <td>NaN</td>\n",
       "      <td>NaN</td>\n",
       "      <td>NaN</td>\n",
       "    </tr>\n",
       "    <tr>\n",
       "      <th>3</th>\n",
       "      <td>4</td>\n",
       "      <td>1</td>\n",
       "      <td>13</td>\n",
       "      <td>2010-07-09T19:09:20.653</td>\n",
       "      <td>39</td>\n",
       "      <td>2877</td>\n",
       "      <td>And can I use one in place of the other in cer...</td>\n",
       "      <td>24</td>\n",
       "      <td>1443</td>\n",
       "      <td>2010-07-31T06:42:51.347</td>\n",
       "      <td>...</td>\n",
       "      <td>What is the difference between baking soda and...</td>\n",
       "      <td>&lt;substitutions&gt;&lt;please-remove-this-tag&gt;&lt;baking...</td>\n",
       "      <td>4</td>\n",
       "      <td>0</td>\n",
       "      <td>4</td>\n",
       "      <td>NaN</td>\n",
       "      <td>NaN</td>\n",
       "      <td>NaN</td>\n",
       "      <td>NaN</td>\n",
       "      <td>NaN</td>\n",
       "    </tr>\n",
       "    <tr>\n",
       "      <th>4</th>\n",
       "      <td>5</td>\n",
       "      <td>1</td>\n",
       "      <td>4122</td>\n",
       "      <td>2010-07-09T19:09:59.187</td>\n",
       "      <td>48</td>\n",
       "      <td>154625</td>\n",
       "      <td>It seems that every time I make a tomato sauce...</td>\n",
       "      <td>21</td>\n",
       "      <td>41</td>\n",
       "      <td>2010-10-14T14:52:44.257</td>\n",
       "      <td>...</td>\n",
       "      <td>In a tomato sauce recipe, how can I cut the ac...</td>\n",
       "      <td>&lt;sauce&gt;&lt;pasta&gt;&lt;tomatoes&gt;&lt;italian-cuisine&gt;</td>\n",
       "      <td>25</td>\n",
       "      <td>1</td>\n",
       "      <td>8</td>\n",
       "      <td>NaN</td>\n",
       "      <td>NaN</td>\n",
       "      <td>NaN</td>\n",
       "      <td>NaN</td>\n",
       "      <td>NaN</td>\n",
       "    </tr>\n",
       "    <tr>\n",
       "      <th>...</th>\n",
       "      <td>...</td>\n",
       "      <td>...</td>\n",
       "      <td>...</td>\n",
       "      <td>...</td>\n",
       "      <td>...</td>\n",
       "      <td>...</td>\n",
       "      <td>...</td>\n",
       "      <td>...</td>\n",
       "      <td>...</td>\n",
       "      <td>...</td>\n",
       "      <td>...</td>\n",
       "      <td>...</td>\n",
       "      <td>...</td>\n",
       "      <td>...</td>\n",
       "      <td>...</td>\n",
       "      <td>...</td>\n",
       "      <td>...</td>\n",
       "      <td>...</td>\n",
       "      <td>...</td>\n",
       "      <td>...</td>\n",
       "      <td>...</td>\n",
       "    </tr>\n",
       "    <tr>\n",
       "      <th>42862</th>\n",
       "      <td>55491</td>\n",
       "      <td>1</td>\n",
       "      <td>NaN</td>\n",
       "      <td>2015-03-07T17:00:51.300</td>\n",
       "      <td>0</td>\n",
       "      <td>22</td>\n",
       "      <td>I want to know if my food I cooked in my stain...</td>\n",
       "      <td>34057</td>\n",
       "      <td>NaN</td>\n",
       "      <td>NaN</td>\n",
       "      <td>...</td>\n",
       "      <td>gray film on my stainless steel stockpot food ...</td>\n",
       "      <td>&lt;food-safety&gt;</td>\n",
       "      <td>0</td>\n",
       "      <td>3</td>\n",
       "      <td>NaN</td>\n",
       "      <td>NaN</td>\n",
       "      <td>NaN</td>\n",
       "      <td>NaN</td>\n",
       "      <td>NaN</td>\n",
       "      <td>NaN</td>\n",
       "    </tr>\n",
       "    <tr>\n",
       "      <th>42866</th>\n",
       "      <td>55495</td>\n",
       "      <td>1</td>\n",
       "      <td>NaN</td>\n",
       "      <td>2015-03-07T18:25:41.330</td>\n",
       "      <td>0</td>\n",
       "      <td>13</td>\n",
       "      <td>I boil rice often and then store them. Next da...</td>\n",
       "      <td>34059</td>\n",
       "      <td>NaN</td>\n",
       "      <td>NaN</td>\n",
       "      <td>...</td>\n",
       "      <td>When I boil rice, they lump together after a w...</td>\n",
       "      <td>&lt;rice&gt;</td>\n",
       "      <td>1</td>\n",
       "      <td>1</td>\n",
       "      <td>NaN</td>\n",
       "      <td>NaN</td>\n",
       "      <td>NaN</td>\n",
       "      <td>NaN</td>\n",
       "      <td>NaN</td>\n",
       "      <td>NaN</td>\n",
       "    </tr>\n",
       "    <tr>\n",
       "      <th>42867</th>\n",
       "      <td>55496</td>\n",
       "      <td>1</td>\n",
       "      <td>NaN</td>\n",
       "      <td>2015-03-07T18:30:56.803</td>\n",
       "      <td>0</td>\n",
       "      <td>18</td>\n",
       "      <td>when I am cooking curry, I add chopped tomatoe...</td>\n",
       "      <td>34059</td>\n",
       "      <td>NaN</td>\n",
       "      <td>NaN</td>\n",
       "      <td>...</td>\n",
       "      <td>Why does tomato not dissolve when I make curry</td>\n",
       "      <td>&lt;tomatoes&gt;&lt;curry&gt;</td>\n",
       "      <td>0</td>\n",
       "      <td>3</td>\n",
       "      <td>NaN</td>\n",
       "      <td>NaN</td>\n",
       "      <td>NaN</td>\n",
       "      <td>NaN</td>\n",
       "      <td>NaN</td>\n",
       "      <td>NaN</td>\n",
       "    </tr>\n",
       "    <tr>\n",
       "      <th>42878</th>\n",
       "      <td>55508</td>\n",
       "      <td>1</td>\n",
       "      <td>NaN</td>\n",
       "      <td>2015-03-07T22:16:59.250</td>\n",
       "      <td>1</td>\n",
       "      <td>18</td>\n",
       "      <td>I'm making oven baked caponata and the recipe ...</td>\n",
       "      <td>34065</td>\n",
       "      <td>NaN</td>\n",
       "      <td>NaN</td>\n",
       "      <td>...</td>\n",
       "      <td>Definition of a \"half glass?\"</td>\n",
       "      <td>&lt;italian-cuisine&gt;</td>\n",
       "      <td>0</td>\n",
       "      <td>1</td>\n",
       "      <td>NaN</td>\n",
       "      <td>NaN</td>\n",
       "      <td>NaN</td>\n",
       "      <td>NaN</td>\n",
       "      <td>NaN</td>\n",
       "      <td>NaN</td>\n",
       "    </tr>\n",
       "    <tr>\n",
       "      <th>42880</th>\n",
       "      <td>55514</td>\n",
       "      <td>1</td>\n",
       "      <td>NaN</td>\n",
       "      <td>2015-03-08T01:27:37.143</td>\n",
       "      <td>0</td>\n",
       "      <td>19</td>\n",
       "      <td>I have a copper pot that is quite flared at th...</td>\n",
       "      <td>34069</td>\n",
       "      <td>NaN</td>\n",
       "      <td>NaN</td>\n",
       "      <td>...</td>\n",
       "      <td>What is this pot used for</td>\n",
       "      <td>&lt;equipment&gt;</td>\n",
       "      <td>1</td>\n",
       "      <td>5</td>\n",
       "      <td>NaN</td>\n",
       "      <td>NaN</td>\n",
       "      <td>NaN</td>\n",
       "      <td>NaN</td>\n",
       "      <td>NaN</td>\n",
       "      <td>NaN</td>\n",
       "    </tr>\n",
       "  </tbody>\n",
       "</table>\n",
       "<p>11812 rows × 21 columns</p>\n",
       "</div>"
      ]
     },
     "execution_count": 2,
     "metadata": {},
     "output_type": "execute_result"
    }
   ],
   "execution_count": 2
  },
  {
   "metadata": {
    "ExecuteTime": {
     "end_time": "2024-12-20T03:11:28.427357Z",
     "start_time": "2024-12-20T03:11:28.306512Z"
    }
   },
   "cell_type": "code",
   "source": [
    "import faiss\n",
    "from sentence_transformers import SentenceTransformer\n",
    "import numpy as np"
   ],
   "id": "8b3347ad0d980eb",
   "outputs": [],
   "execution_count": 3
  },
  {
   "metadata": {
    "ExecuteTime": {
     "end_time": "2024-12-20T03:21:41.121132Z",
     "start_time": "2024-12-20T03:11:34.520463Z"
    }
   },
   "cell_type": "code",
   "source": "model = SentenceTransformer(\"BAAI/bge-m3\")",
   "id": "be70177292db0cfa",
   "outputs": [
    {
     "data": {
      "text/plain": [
       "modules.json:   0%|          | 0.00/349 [00:00<?, ?B/s]"
      ],
      "application/vnd.jupyter.widget-view+json": {
       "version_major": 2,
       "version_minor": 0,
       "model_id": "2debf407d76f4626bbfe386b8b33a9f4"
      }
     },
     "metadata": {},
     "output_type": "display_data"
    },
    {
     "data": {
      "text/plain": [
       "config_sentence_transformers.json:   0%|          | 0.00/123 [00:00<?, ?B/s]"
      ],
      "application/vnd.jupyter.widget-view+json": {
       "version_major": 2,
       "version_minor": 0,
       "model_id": "585f26f1fd75411da37182145e478935"
      }
     },
     "metadata": {},
     "output_type": "display_data"
    },
    {
     "data": {
      "text/plain": [
       "README.md:   0%|          | 0.00/15.8k [00:00<?, ?B/s]"
      ],
      "application/vnd.jupyter.widget-view+json": {
       "version_major": 2,
       "version_minor": 0,
       "model_id": "5ebb396ad4324a4c8b0a10e5bd8dbed0"
      }
     },
     "metadata": {},
     "output_type": "display_data"
    },
    {
     "data": {
      "text/plain": [
       "sentence_bert_config.json:   0%|          | 0.00/54.0 [00:00<?, ?B/s]"
      ],
      "application/vnd.jupyter.widget-view+json": {
       "version_major": 2,
       "version_minor": 0,
       "model_id": "e6c9ed198da6438bb56401ec87ba5f6a"
      }
     },
     "metadata": {},
     "output_type": "display_data"
    },
    {
     "data": {
      "text/plain": [
       "config.json:   0%|          | 0.00/687 [00:00<?, ?B/s]"
      ],
      "application/vnd.jupyter.widget-view+json": {
       "version_major": 2,
       "version_minor": 0,
       "model_id": "5ef615510b88479a8fcb2129a7181d67"
      }
     },
     "metadata": {},
     "output_type": "display_data"
    },
    {
     "data": {
      "text/plain": [
       "pytorch_model.bin:   0%|          | 0.00/2.27G [00:00<?, ?B/s]"
      ],
      "application/vnd.jupyter.widget-view+json": {
       "version_major": 2,
       "version_minor": 0,
       "model_id": "003d03afd227418cb15d679d2fc5ca90"
      }
     },
     "metadata": {},
     "output_type": "display_data"
    },
    {
     "data": {
      "text/plain": [
       "tokenizer_config.json:   0%|          | 0.00/444 [00:00<?, ?B/s]"
      ],
      "application/vnd.jupyter.widget-view+json": {
       "version_major": 2,
       "version_minor": 0,
       "model_id": "115722c19e3947c5bf7a3d423a131aa2"
      }
     },
     "metadata": {},
     "output_type": "display_data"
    },
    {
     "data": {
      "text/plain": [
       "sentencepiece.bpe.model:   0%|          | 0.00/5.07M [00:00<?, ?B/s]"
      ],
      "application/vnd.jupyter.widget-view+json": {
       "version_major": 2,
       "version_minor": 0,
       "model_id": "08b7ac3252554a16961b7deadc1b1278"
      }
     },
     "metadata": {},
     "output_type": "display_data"
    },
    {
     "data": {
      "text/plain": [
       "tokenizer.json:   0%|          | 0.00/17.1M [00:00<?, ?B/s]"
      ],
      "application/vnd.jupyter.widget-view+json": {
       "version_major": 2,
       "version_minor": 0,
       "model_id": "bc9dc5b44f034f45a8c1fc8856c593fd"
      }
     },
     "metadata": {},
     "output_type": "display_data"
    },
    {
     "data": {
      "text/plain": [
       "special_tokens_map.json:   0%|          | 0.00/964 [00:00<?, ?B/s]"
      ],
      "application/vnd.jupyter.widget-view+json": {
       "version_major": 2,
       "version_minor": 0,
       "model_id": "5e418f6db7a843a59c36275fce4ee629"
      }
     },
     "metadata": {},
     "output_type": "display_data"
    },
    {
     "data": {
      "text/plain": [
       "1_Pooling/config.json:   0%|          | 0.00/191 [00:00<?, ?B/s]"
      ],
      "application/vnd.jupyter.widget-view+json": {
       "version_major": 2,
       "version_minor": 0,
       "model_id": "707e27d4a76443a68900eccf6da0588f"
      }
     },
     "metadata": {},
     "output_type": "display_data"
    }
   ],
   "execution_count": 5
  },
  {
   "metadata": {
    "ExecuteTime": {
     "end_time": "2024-12-20T03:33:39.688709Z",
     "start_time": "2024-12-20T03:24:36.988701Z"
    }
   },
   "cell_type": "code",
   "source": [
    "body_embeddings = model.encode(data[\"body\"].tolist())\n",
    "title_embeddings = model.encode(data[\"title\"].tolist())"
   ],
   "id": "2616dccc2b8b81d3",
   "outputs": [],
   "execution_count": 6
  },
  {
   "metadata": {
    "ExecuteTime": {
     "end_time": "2024-12-20T04:02:24.336519Z",
     "start_time": "2024-12-20T04:02:19.917040Z"
    }
   },
   "cell_type": "code",
   "source": "combined_embeddings = np.hstack((body_embeddings, title_embeddings))",
   "id": "80978c1e16e9fafc",
   "outputs": [],
   "execution_count": 73
  },
  {
   "metadata": {
    "ExecuteTime": {
     "end_time": "2024-12-20T04:02:45.485337Z",
     "start_time": "2024-12-20T04:02:45.247005Z"
    }
   },
   "cell_type": "code",
   "source": [
    "index = faiss.IndexFlatL2(combined_embeddings.shape[1])\n",
    "index.add(combined_embeddings)"
   ],
   "id": "86c48a2ba53728a3",
   "outputs": [],
   "execution_count": 74
  },
  {
   "metadata": {
    "ExecuteTime": {
     "end_time": "2024-12-20T04:03:28.750522Z",
     "start_time": "2024-12-20T04:03:28.742374Z"
    }
   },
   "cell_type": "code",
   "source": [
    "random_embedding = combined_embeddings[\n",
    "    np.random.choice(combined_embeddings.shape[0])\n",
    "].reshape(1, -1)\n",
    "random_embedding.shape"
   ],
   "id": "50ac79512cb65b44",
   "outputs": [
    {
     "data": {
      "text/plain": [
       "(1, 2048)"
      ]
     },
     "execution_count": 83,
     "metadata": {},
     "output_type": "execute_result"
    }
   ],
   "execution_count": 83
  },
  {
   "metadata": {
    "ExecuteTime": {
     "end_time": "2024-12-20T04:03:29.160446Z",
     "start_time": "2024-12-20T04:03:29.142727Z"
    }
   },
   "cell_type": "code",
   "source": "D, I = index.search(random_embedding, k=6)",
   "id": "dd54a380e05a4080",
   "outputs": [],
   "execution_count": 84
  },
  {
   "metadata": {
    "ExecuteTime": {
     "end_time": "2024-12-20T04:03:29.553645Z",
     "start_time": "2024-12-20T04:03:29.548468Z"
    }
   },
   "cell_type": "code",
   "source": [
    "print(f\"Distances (GPU): {D}\")\n",
    "print(f\"Indices (GPU): {I}\")"
   ],
   "id": "478cdd20980e0092",
   "outputs": [
    {
     "name": "stdout",
     "output_type": "stream",
     "text": [
      "Distances (GPU): [[0.        1.0208561 1.2423382 1.296716  1.3081752 1.3465927]]\n",
      "Indices (GPU): [[ 6396 11036 11634  7172 11081   912]]\n"
     ]
    }
   ],
   "execution_count": 85
  },
  {
   "metadata": {
    "ExecuteTime": {
     "end_time": "2024-12-20T04:03:30.045160Z",
     "start_time": "2024-12-20T04:03:30.035764Z"
    }
   },
   "cell_type": "code",
   "source": [
    "print(\n",
    "    f\"===ORIGINAL POST===\\n\"\n",
    "    f\"TITLE: {data['title'].iloc[I[0][0]]}\\n\"\n",
    "    f\"CONTENT: {data['body'].iloc[I[0][0]]}\"\n",
    ")\n",
    "\n",
    "for i in range(1, 6):\n",
    "    print(\n",
    "        f\"===RECOMMENDATION {i} (distance = {D[0][i]})===\\n\"\n",
    "        f\"TITLE: {data['title'].iloc[I[0][i]]}\\n\"\n",
    "        f\"CONTENT: {data['body'].iloc[I[0][i]]}\"\n",
    "    )"
   ],
   "id": "9ac07237438060e9",
   "outputs": [
    {
     "name": "stdout",
     "output_type": "stream",
     "text": [
      "===ORIGINAL POST===\n",
      "TITLE: Egg yolks vs Whole eggs\n",
      "CONTENT: I'm about to make cinnamon rolls & one recipe calls for 2 whole eggs. The other recipe calls for 3 egg yolks. Which one will give me a moist, soft, cinnamon roll? \n",
      "\n",
      "===RECOMMENDATION 1 (distance = 1.0208561420440674)===\n",
      "TITLE: Whole eggs versus folding in egg whites\n",
      "CONTENT: I have a cake recipe that calls for egg yolks and separately folding in egg whites. What would be the difference in eliminating folding in the whipped egg whites and just using the whole egg? Would it work if I want a \"sturdier\" cake? That was my thinking but I wasn't certain of the outcome.\n",
      "\n",
      "===RECOMMENDATION 2 (distance = 1.2423381805419922)===\n",
      "TITLE: egg yolks and egg whites\n",
      "CONTENT: I was making an old recipe to serve and it is with pineapple, cream cheese, dream whip and other ingredients and it says to beat 2 egg yolks and mix in then beat the 2 egg whites and fold in at no time do you cook this recipe.  You put vanilla wafers for the crust and then layer this pineapple mixture until you have used it all and top with dream whip and refrigerate for at lease 24 hours.\n",
      "My question is will the egg yolks and egg whites be ok not being cooked?  It has been over 30 years that I have made this and I just can't remember ever using raw eggs. \n",
      "\n",
      "===RECOMMENDATION 3 (distance = 1.2967159748077393)===\n",
      "TITLE: Should I use whole eggs or only yolks in Spaghetti alla Carbonara?\n",
      "CONTENT: I tried to cook spaghetti alla carbonara and searching out I found out that some recipes use whole eggs and some only the egg yolks. Which way gives the better result?\n",
      "\n",
      "===RECOMMENDATION 4 (distance = 1.3081752061843872)===\n",
      "TITLE: Egg Yolks in Making Tassies\n",
      "CONTENT: I am making the pecan filling for some tassies.  I have extra egg yolks, and want to know if I can use 2 yolks intstead of 1 whole egg.\n",
      "\n",
      "===RECOMMENDATION 5 (distance = 1.346592664718628)===\n",
      "TITLE: Impact of using egg yolks vs whites in a spaghetti dish?\n",
      "CONTENT: I'm making a dish that calls for several egg yolks and 1 full egg (all scrambled together) to be poured over hot spaghetti and cooked salt pork (to cook the egg), and I'm wondering how much of a difference using yolks vs using whites makes.\n",
      "If I could use the entire egg, I would be able to use less total eggs; but if this will have a serious impact on the dish, then I don't want to mess it up. \n",
      "Thoughts?\n",
      "\n"
     ]
    }
   ],
   "execution_count": 86
  }
 ],
 "metadata": {
  "kernelspec": {
   "display_name": "Python 3",
   "language": "python",
   "name": "python3"
  },
  "language_info": {
   "codemirror_mode": {
    "name": "ipython",
    "version": 2
   },
   "file_extension": ".py",
   "mimetype": "text/x-python",
   "name": "python",
   "nbconvert_exporter": "python",
   "pygments_lexer": "ipython2",
   "version": "2.7.6"
  }
 },
 "nbformat": 4,
 "nbformat_minor": 5
}
