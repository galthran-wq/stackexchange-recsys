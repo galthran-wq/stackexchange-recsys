{
 "cells": [
  {
   "cell_type": "code",
   "id": "initial_id",
   "metadata": {
    "collapsed": true,
    "ExecuteTime": {
     "end_time": "2024-12-20T15:08:53.461833Z",
     "start_time": "2024-12-20T15:08:49.755908Z"
    }
   },
   "source": "from data_utils import load_data, preprocess_data_faiss, preprocess_data_faiss_test",
   "outputs": [],
   "execution_count": 1
  },
  {
   "metadata": {
    "ExecuteTime": {
     "end_time": "2024-12-20T15:09:10.057127Z",
     "start_time": "2024-12-20T15:08:53.952126Z"
    }
   },
   "cell_type": "code",
   "source": "data = load_data(\"data\")",
   "id": "d3107880e814ff45",
   "outputs": [],
   "execution_count": 2
  },
  {
   "metadata": {
    "ExecuteTime": {
     "end_time": "2024-12-20T15:20:40.885463Z",
     "start_time": "2024-12-20T15:10:13.048978Z"
    }
   },
   "cell_type": "code",
   "source": [
    "embeddings = preprocess_data_faiss(data)\n",
    "embeddings.shape"
   ],
   "id": "e30e6084b6fb7532",
   "outputs": [
    {
     "name": "stderr",
     "output_type": "stream",
     "text": [
      "/mnt/c/Users/Raman/PycharmProjects/stackexchange-recsys/data_utils.py:200: SettingWithCopyWarning: \n",
      "A value is trying to be set on a copy of a slice from a DataFrame.\n",
      "Try using .loc[row_indexer,col_indexer] = value instead\n",
      "\n",
      "See the caveats in the documentation: https://pandas.pydata.org/pandas-docs/stable/user_guide/indexing.html#returning-a-view-versus-a-copy\n",
      "  posts[\"body\"] = posts[\"body\"].map(clean_html)\n"
     ]
    },
    {
     "data": {
      "text/plain": [
       "(11812, 2048)"
      ]
     },
     "execution_count": 3,
     "metadata": {},
     "output_type": "execute_result"
    }
   ],
   "execution_count": 3
  },
  {
   "metadata": {
    "ExecuteTime": {
     "end_time": "2024-12-20T18:28:29.261912Z",
     "start_time": "2024-12-20T18:28:22.279701Z"
    }
   },
   "cell_type": "code",
   "source": [
    "posts, test_data = preprocess_data_faiss_test(data)\n",
    "test_data"
   ],
   "id": "9cd7d2551cdf3c17",
   "outputs": [
    {
     "name": "stderr",
     "output_type": "stream",
     "text": [
      "/mnt/c/Users/Raman/PycharmProjects/stackexchange-recsys/data_utils.py:244: SettingWithCopyWarning: \n",
      "A value is trying to be set on a copy of a slice from a DataFrame.\n",
      "Try using .loc[row_indexer,col_indexer] = value instead\n",
      "\n",
      "See the caveats in the documentation: https://pandas.pydata.org/pandas-docs/stable/user_guide/indexing.html#returning-a-view-versus-a-copy\n",
      "  posts[\"id\"] = posts[\"id\"].astype(\"int32\")\n"
     ]
    },
    {
     "data": {
      "text/plain": [
       "      postid  relatedpostid  linktypeid\n",
       "1       8619           2788           1\n",
       "3       4808           8943           1\n",
       "4       3116           3070           1\n",
       "5       1215            398           1\n",
       "6       3174            117           1\n",
       "...      ...            ...         ...\n",
       "4266    9742           8129           1\n",
       "4267   11603           8329           1\n",
       "4269    1296            155           1\n",
       "4270    9570           5524           1\n",
       "4271    2588            445           1\n",
       "\n",
       "[3717 rows x 3 columns]"
      ],
      "text/html": [
       "<div>\n",
       "<style scoped>\n",
       "    .dataframe tbody tr th:only-of-type {\n",
       "        vertical-align: middle;\n",
       "    }\n",
       "\n",
       "    .dataframe tbody tr th {\n",
       "        vertical-align: top;\n",
       "    }\n",
       "\n",
       "    .dataframe thead th {\n",
       "        text-align: right;\n",
       "    }\n",
       "</style>\n",
       "<table border=\"1\" class=\"dataframe\">\n",
       "  <thead>\n",
       "    <tr style=\"text-align: right;\">\n",
       "      <th></th>\n",
       "      <th>postid</th>\n",
       "      <th>relatedpostid</th>\n",
       "      <th>linktypeid</th>\n",
       "    </tr>\n",
       "  </thead>\n",
       "  <tbody>\n",
       "    <tr>\n",
       "      <th>1</th>\n",
       "      <td>8619</td>\n",
       "      <td>2788</td>\n",
       "      <td>1</td>\n",
       "    </tr>\n",
       "    <tr>\n",
       "      <th>3</th>\n",
       "      <td>4808</td>\n",
       "      <td>8943</td>\n",
       "      <td>1</td>\n",
       "    </tr>\n",
       "    <tr>\n",
       "      <th>4</th>\n",
       "      <td>3116</td>\n",
       "      <td>3070</td>\n",
       "      <td>1</td>\n",
       "    </tr>\n",
       "    <tr>\n",
       "      <th>5</th>\n",
       "      <td>1215</td>\n",
       "      <td>398</td>\n",
       "      <td>1</td>\n",
       "    </tr>\n",
       "    <tr>\n",
       "      <th>6</th>\n",
       "      <td>3174</td>\n",
       "      <td>117</td>\n",
       "      <td>1</td>\n",
       "    </tr>\n",
       "    <tr>\n",
       "      <th>...</th>\n",
       "      <td>...</td>\n",
       "      <td>...</td>\n",
       "      <td>...</td>\n",
       "    </tr>\n",
       "    <tr>\n",
       "      <th>4266</th>\n",
       "      <td>9742</td>\n",
       "      <td>8129</td>\n",
       "      <td>1</td>\n",
       "    </tr>\n",
       "    <tr>\n",
       "      <th>4267</th>\n",
       "      <td>11603</td>\n",
       "      <td>8329</td>\n",
       "      <td>1</td>\n",
       "    </tr>\n",
       "    <tr>\n",
       "      <th>4269</th>\n",
       "      <td>1296</td>\n",
       "      <td>155</td>\n",
       "      <td>1</td>\n",
       "    </tr>\n",
       "    <tr>\n",
       "      <th>4270</th>\n",
       "      <td>9570</td>\n",
       "      <td>5524</td>\n",
       "      <td>1</td>\n",
       "    </tr>\n",
       "    <tr>\n",
       "      <th>4271</th>\n",
       "      <td>2588</td>\n",
       "      <td>445</td>\n",
       "      <td>1</td>\n",
       "    </tr>\n",
       "  </tbody>\n",
       "</table>\n",
       "<p>3717 rows × 3 columns</p>\n",
       "</div>"
      ]
     },
     "execution_count": 4,
     "metadata": {},
     "output_type": "execute_result"
    }
   ],
   "execution_count": 4
  },
  {
   "metadata": {
    "ExecuteTime": {
     "end_time": "2024-12-20T18:28:33.233141Z",
     "start_time": "2024-12-20T18:28:31.455893Z"
    }
   },
   "cell_type": "code",
   "source": [
    "import faiss\n",
    "import numpy as np"
   ],
   "id": "8b3347ad0d980eb",
   "outputs": [],
   "execution_count": 5
  },
  {
   "metadata": {
    "ExecuteTime": {
     "end_time": "2024-12-20T18:32:18.657165Z",
     "start_time": "2024-12-20T18:32:17.712846Z"
    }
   },
   "cell_type": "code",
   "source": [
    "index = faiss.IndexFlatL2(embeddings.shape[1])\n",
    "index.add(embeddings)\n",
    "test_embeddings = embeddings[test_data[\"postid\"]]"
   ],
   "id": "86c48a2ba53728a3",
   "outputs": [],
   "execution_count": 19
  },
  {
   "metadata": {
    "ExecuteTime": {
     "end_time": "2024-12-20T18:39:57.725788Z",
     "start_time": "2024-12-20T18:39:57.721060Z"
    }
   },
   "cell_type": "code",
   "source": [
    "random_embedding = test_embeddings[\n",
    "    np.random.choice(test_embeddings.shape[0])\n",
    "].reshape(1, -1)"
   ],
   "id": "83ee87a5e7e4aab8",
   "outputs": [],
   "execution_count": 38
  },
  {
   "metadata": {
    "ExecuteTime": {
     "end_time": "2024-12-20T18:39:58.697477Z",
     "start_time": "2024-12-20T18:39:57.941645Z"
    }
   },
   "cell_type": "code",
   "source": [
    "print(\"IndexFlatL2:\")\n",
    "for k in range(6, 22, 5):\n",
    "    D, I = index.search(test_embeddings, k=k)\n",
    "\n",
    "    correct = 0\n",
    "\n",
    "    for related_post_id, recommendations in zip(test_data[\"relatedpostid\"], I):\n",
    "        if related_post_id in I:\n",
    "            correct += 1\n",
    "\n",
    "    print(f\"Recall@k (k = {k - 1}): {correct / test_data.shape[0]}\")"
   ],
   "id": "44a0c45ce8927c83",
   "outputs": [
    {
     "name": "stdout",
     "output_type": "stream",
     "text": [
      "IndexFlatL2:\n",
      "Recall@k (k = 5): 0.8853914447134786\n",
      "Recall@k (k = 10): 0.9461931665321496\n",
      "Recall@k (k = 15): 0.9714823782620393\n",
      "Recall@k (k = 20): 0.9819747107882701\n"
     ]
    }
   ],
   "execution_count": 39
  },
  {
   "metadata": {
    "ExecuteTime": {
     "end_time": "2024-12-20T18:39:58.748474Z",
     "start_time": "2024-12-20T18:39:58.740114Z"
    }
   },
   "cell_type": "code",
   "source": [
    "D, I = index.search(random_embedding, k=6)\n",
    "\n",
    "print(\"IndexFlatL2:\")\n",
    "print(f\"Distances: {D}\")\n",
    "print(f\"Indices: {I}\\n\")\n",
    "\n",
    "print(\n",
    "    f\"===ORIGINAL POST===\\n\"\n",
    "    f\"TITLE: {posts['title'].iloc[I[0][0]]}\\n\"\n",
    "    f\"CONTENT: {posts['body'].iloc[I[0][0]]}\"\n",
    ")\n",
    "\n",
    "for i in range(1, 6):\n",
    "    print(\n",
    "        f\"===RECOMMENDATION {i} (distance = {D[0][i]})===\\n\"\n",
    "        f\"TITLE: {posts['title'].iloc[I[0][i]]}\\n\"\n",
    "        f\"CONTENT: {posts['body'].iloc[I[0][i]]}\"\n",
    "    )"
   ],
   "id": "b30487de237d9b6",
   "outputs": [
    {
     "name": "stdout",
     "output_type": "stream",
     "text": [
      "IndexFlatL2:\n",
      "Distances: [[0.         0.34699026 0.3767523  0.38039908 0.40704072 0.43568596]]\n",
      "Indices: [[9305 6938 7431 9138 6947 7951]]\n",
      "\n",
      "===ORIGINAL POST===\n",
      "TITLE: cooking oven temperature\n",
      "CONTENT: I have a murphy electric cake oven. it is a classic electric cake oven(not a modern one) In the recipe book it is mentioned to preheat it to 200 degree C for 10 mins. But it is not specified anywhere what should the temperature of the oven be while baking. My cake often gets overcooked/burnt if i keep a high temperature. or remains uncooked if i keep it low. Can anyone specify a temp. for baking a cake or a brownie please.\n",
      "\n",
      "===RECOMMENDATION 1 (distance = 0.3469902575016022)===\n",
      "TITLE: How hot is your oven?\n",
      "CONTENT: \n",
      "There's also an answer here:\n",
      "Can I test my oven temperature without an oven thermometer?\n",
      "\n",
      "I have a big dispute with an electrician if the oven he supposedly fixed works or not. Problem is I think it reaches only about 150 C (300F) degrees when it indicates it has reached 250 C. So at 250 C (480F), I'm still able to hold my hand in the middle of the oven for 1 minute, or probably more.  \n",
      "When you cook next time, may you please try to see if this is possible at such temperature? \n",
      "I will try to get hand of a thermometer, but have nothing now, so would appreciate someone testing it. \n",
      "Rephrased: Is it possible to hold a hand in the oven at 250C for 1 minute, or is it too hot? \n",
      "\n",
      "===RECOMMENDATION 2 (distance = 0.3767522871494293)===\n",
      "TITLE: Right baking temperature\n",
      "CONTENT: Problem with the right baking temperature. I have a gas oven. To bake a cake I pre heat the oven at 150 C for at least 1/2 an hour while I prepare all the stuff required for preparing the cake . After baking the cake for 45 minutes and checking the cake with the tooth pick which comes out clean. I put off the gas and leave the cake in the oven for 10 minutes. But once the cake is cut it looks like the bottom layer of the cake is raw though it is cooked. Please suggest a right method to bake a cake and at what point I am going wrong.\n",
      "\n",
      "===RECOMMENDATION 3 (distance = 0.38039907813072205)===\n",
      "TITLE: The Warm Oven Temp. for Cakes\n",
      "CONTENT: My Mom is making a cake. Its an old recipe, 50 - 70 yrs old (or older). All it says is to use a warm oven. No temperature range, just a warm oven. What temperature would this be?\n",
      "\n",
      "===RECOMMENDATION 4 (distance = 0.40704071521759033)===\n",
      "TITLE: Electric oven Temperature\n",
      "CONTENT: I have bought a Smeg double oven to replace my old smeg oven.  As I have read the temperatures fluctuate which I can understand. An engineer came and tested it and said it was operating 10 deg below the stated temp on dial overal on both ovens. On receiving the report smeg have state that the ovens are working to specification.  Can anyone advise.  Thank you    \n",
      "\n",
      "===RECOMMENDATION 5 (distance = 0.4356859624385834)===\n",
      "TITLE: Lowering oven temps\n",
      "CONTENT: Can you start a cake at 350 F (180 C), then lower the oven to 325 F (160 C)?  What happens to cake? Recipe calls for 350 but the recipe is old.  Other recipes I have checked online say to bake at a lower temp of 325.\n",
      "\n"
     ]
    }
   ],
   "execution_count": 40
  },
  {
   "metadata": {
    "ExecuteTime": {
     "end_time": "2024-12-20T18:42:35.058859Z",
     "start_time": "2024-12-20T18:42:35.054256Z"
    }
   },
   "cell_type": "code",
   "source": "from sklearn.decomposition import PCA",
   "id": "4732ec149086b8c4",
   "outputs": [],
   "execution_count": 41
  },
  {
   "metadata": {
    "ExecuteTime": {
     "end_time": "2024-12-20T18:42:36.640968Z",
     "start_time": "2024-12-20T18:42:35.424540Z"
    }
   },
   "cell_type": "code",
   "source": [
    "pca = PCA(n_components=128)\n",
    "reduced_embeddings = pca.fit_transform(embeddings)"
   ],
   "id": "4163928447eaff8b",
   "outputs": [],
   "execution_count": 42
  },
  {
   "metadata": {
    "ExecuteTime": {
     "end_time": "2024-12-20T18:42:36.650636Z",
     "start_time": "2024-12-20T18:42:36.646442Z"
    }
   },
   "cell_type": "code",
   "source": [
    "random_embedding = reduced_embeddings[\n",
    "    I[0][0]\n",
    "].reshape(1, -1)"
   ],
   "id": "c6c15eb0caaf4f3a",
   "outputs": [],
   "execution_count": 43
  },
  {
   "metadata": {
    "ExecuteTime": {
     "end_time": "2024-12-20T18:42:37.332576Z",
     "start_time": "2024-12-20T18:42:36.701186Z"
    }
   },
   "cell_type": "code",
   "source": [
    "index = faiss.IndexFlatL2(reduced_embeddings.shape[1])\n",
    "index.add(reduced_embeddings)\n",
    "test_embeddings = reduced_embeddings[test_data[\"postid\"]]\n",
    "\n",
    "print(\"IndexFlatL2 (PCA):\")\n",
    "for k in range(6, 22, 5):\n",
    "    D, I = index.search(test_embeddings, k=k)\n",
    "\n",
    "    correct = 0\n",
    "\n",
    "    for related_post_id, recommendations in zip(test_data[\"relatedpostid\"], I):\n",
    "        if related_post_id in I:\n",
    "            correct += 1\n",
    "\n",
    "    print(f\"Recall@k (k = {k - 1}): {correct / test_data.shape[0]}\")"
   ],
   "id": "7dc54f3b0080263f",
   "outputs": [
    {
     "name": "stdout",
     "output_type": "stream",
     "text": [
      "IndexFlatL2 (PCA):\n",
      "Recall@k (k = 5): 0.8843153080441216\n",
      "Recall@k (k = 10): 0.9486144740382029\n",
      "Recall@k (k = 15): 0.9706752757600215\n",
      "Recall@k (k = 20): 0.9822437449556094\n"
     ]
    }
   ],
   "execution_count": 44
  },
  {
   "metadata": {
    "ExecuteTime": {
     "end_time": "2024-12-20T18:42:38.037645Z",
     "start_time": "2024-12-20T18:42:38.031286Z"
    }
   },
   "cell_type": "code",
   "source": [
    "D, I = index.search(random_embedding, k=6)\n",
    "\n",
    "print(\"IndexFlatL2 (PCA):\")\n",
    "print(f\"Distances: {D}\")\n",
    "print(f\"Indices: {I}\\n\")\n",
    "\n",
    "print(\n",
    "    f\"===ORIGINAL POST===\\n\"\n",
    "    f\"TITLE: {posts['title'].iloc[I[0][0]]}\\n\"\n",
    "    f\"CONTENT: {posts['body'].iloc[I[0][0]]}\"\n",
    ")\n",
    "\n",
    "for i in range(1, 6):\n",
    "    print(\n",
    "        f\"===RECOMMENDATION {i} (distance = {D[0][i]})===\\n\"\n",
    "        f\"TITLE: {posts['title'].iloc[I[0][i]]}\\n\"\n",
    "        f\"CONTENT: {posts['body'].iloc[I[0][i]]}\"\n",
    "    )"
   ],
   "id": "ace1063508ea1871",
   "outputs": [
    {
     "name": "stdout",
     "output_type": "stream",
     "text": [
      "IndexFlatL2 (PCA):\n",
      "Distances: [[0.         0.35184336 0.37463248 0.3952999  0.41516256 0.4362808 ]]\n",
      "Indices: [[9305 6938 7431 9138 6947 7951]]\n",
      "\n",
      "===ORIGINAL POST===\n",
      "TITLE: cooking oven temperature\n",
      "CONTENT: I have a murphy electric cake oven. it is a classic electric cake oven(not a modern one) In the recipe book it is mentioned to preheat it to 200 degree C for 10 mins. But it is not specified anywhere what should the temperature of the oven be while baking. My cake often gets overcooked/burnt if i keep a high temperature. or remains uncooked if i keep it low. Can anyone specify a temp. for baking a cake or a brownie please.\n",
      "\n",
      "===RECOMMENDATION 1 (distance = 0.35184335708618164)===\n",
      "TITLE: How hot is your oven?\n",
      "CONTENT: \n",
      "There's also an answer here:\n",
      "Can I test my oven temperature without an oven thermometer?\n",
      "\n",
      "I have a big dispute with an electrician if the oven he supposedly fixed works or not. Problem is I think it reaches only about 150 C (300F) degrees when it indicates it has reached 250 C. So at 250 C (480F), I'm still able to hold my hand in the middle of the oven for 1 minute, or probably more.  \n",
      "When you cook next time, may you please try to see if this is possible at such temperature? \n",
      "I will try to get hand of a thermometer, but have nothing now, so would appreciate someone testing it. \n",
      "Rephrased: Is it possible to hold a hand in the oven at 250C for 1 minute, or is it too hot? \n",
      "\n",
      "===RECOMMENDATION 2 (distance = 0.37463247776031494)===\n",
      "TITLE: Right baking temperature\n",
      "CONTENT: Problem with the right baking temperature. I have a gas oven. To bake a cake I pre heat the oven at 150 C for at least 1/2 an hour while I prepare all the stuff required for preparing the cake . After baking the cake for 45 minutes and checking the cake with the tooth pick which comes out clean. I put off the gas and leave the cake in the oven for 10 minutes. But once the cake is cut it looks like the bottom layer of the cake is raw though it is cooked. Please suggest a right method to bake a cake and at what point I am going wrong.\n",
      "\n",
      "===RECOMMENDATION 3 (distance = 0.39529991149902344)===\n",
      "TITLE: The Warm Oven Temp. for Cakes\n",
      "CONTENT: My Mom is making a cake. Its an old recipe, 50 - 70 yrs old (or older). All it says is to use a warm oven. No temperature range, just a warm oven. What temperature would this be?\n",
      "\n",
      "===RECOMMENDATION 4 (distance = 0.4151625633239746)===\n",
      "TITLE: Electric oven Temperature\n",
      "CONTENT: I have bought a Smeg double oven to replace my old smeg oven.  As I have read the temperatures fluctuate which I can understand. An engineer came and tested it and said it was operating 10 deg below the stated temp on dial overal on both ovens. On receiving the report smeg have state that the ovens are working to specification.  Can anyone advise.  Thank you    \n",
      "\n",
      "===RECOMMENDATION 5 (distance = 0.4362807869911194)===\n",
      "TITLE: Lowering oven temps\n",
      "CONTENT: Can you start a cake at 350 F (180 C), then lower the oven to 325 F (160 C)?  What happens to cake? Recipe calls for 350 but the recipe is old.  Other recipes I have checked online say to bake at a lower temp of 325.\n",
      "\n"
     ]
    }
   ],
   "execution_count": 45
  },
  {
   "metadata": {
    "ExecuteTime": {
     "end_time": "2024-12-20T18:42:40.128189Z",
     "start_time": "2024-12-20T18:42:39.645687Z"
    }
   },
   "cell_type": "code",
   "source": [
    "index = faiss.IndexLSH(reduced_embeddings.shape[1], 64)\n",
    "index.add(reduced_embeddings)\n",
    "test_embeddings = reduced_embeddings[test_data[\"postid\"]]\n",
    "\n",
    "print(\"IndexLSH (PCA, n_bits=64):\")\n",
    "for k in range(6, 22, 5):\n",
    "    D, I = index.search(test_embeddings, k=k)\n",
    "\n",
    "    correct = 0\n",
    "\n",
    "    for related_post_id, recommendations in zip(test_data[\"relatedpostid\"], I):\n",
    "        if related_post_id in I:\n",
    "            correct += 1\n",
    "\n",
    "    print(f\"Recall@k (k = {k - 1}): {correct / test_data.shape[0]}\")"
   ],
   "id": "b367fb304e72c4b9",
   "outputs": [
    {
     "name": "stdout",
     "output_type": "stream",
     "text": [
      "IndexLSH (PCA, n_bits=64):\n",
      "Recall@k (k = 5): 0.8501479687920366\n",
      "Recall@k (k = 10): 0.9440408931934355\n",
      "Recall@k (k = 15): 0.9712133440947001\n",
      "Recall@k (k = 20): 0.9835889157923057\n"
     ]
    }
   ],
   "execution_count": 46
  },
  {
   "metadata": {
    "ExecuteTime": {
     "end_time": "2024-12-20T18:42:40.829538Z",
     "start_time": "2024-12-20T18:42:40.821940Z"
    }
   },
   "cell_type": "code",
   "source": [
    "D, I = index.search(random_embedding, k=6)\n",
    "\n",
    "print(\"IndexLSH (PCA, n_bits=64):\")\n",
    "print(f\"Distances: {D}\")\n",
    "print(f\"Indices: {I}\\n\")\n",
    "\n",
    "print(\n",
    "    f\"===ORIGINAL POST===\\n\"\n",
    "    f\"TITLE: {posts['title'].iloc[I[0][0]]}\\n\"\n",
    "    f\"CONTENT: {posts['body'].iloc[I[0][0]]}\"\n",
    ")\n",
    "\n",
    "for i in range(1, 6):\n",
    "    print(\n",
    "        f\"===RECOMMENDATION {i} (distance = {D[0][i]})===\\n\"\n",
    "        f\"TITLE: {posts['title'].iloc[I[0][i]]}\\n\"\n",
    "        f\"CONTENT: {posts['body'].iloc[I[0][i]]}\"\n",
    "    )"
   ],
   "id": "c9a86912911e64d1",
   "outputs": [
    {
     "name": "stdout",
     "output_type": "stream",
     "text": [
      "IndexLSH (PCA, n_bits=64):\n",
      "Distances: [[ 0. 13. 14. 14. 14. 15.]]\n",
      "Indices: [[9305 7431 1637 2187 2453 1167]]\n",
      "\n",
      "===ORIGINAL POST===\n",
      "TITLE: cooking oven temperature\n",
      "CONTENT: I have a murphy electric cake oven. it is a classic electric cake oven(not a modern one) In the recipe book it is mentioned to preheat it to 200 degree C for 10 mins. But it is not specified anywhere what should the temperature of the oven be while baking. My cake often gets overcooked/burnt if i keep a high temperature. or remains uncooked if i keep it low. Can anyone specify a temp. for baking a cake or a brownie please.\n",
      "\n",
      "===RECOMMENDATION 1 (distance = 13.0)===\n",
      "TITLE: Right baking temperature\n",
      "CONTENT: Problem with the right baking temperature. I have a gas oven. To bake a cake I pre heat the oven at 150 C for at least 1/2 an hour while I prepare all the stuff required for preparing the cake . After baking the cake for 45 minutes and checking the cake with the tooth pick which comes out clean. I put off the gas and leave the cake in the oven for 10 minutes. But once the cake is cut it looks like the bottom layer of the cake is raw though it is cooked. Please suggest a right method to bake a cake and at what point I am going wrong.\n",
      "\n",
      "===RECOMMENDATION 2 (distance = 14.0)===\n",
      "TITLE: Thermometers for high temperature ovens\n",
      "CONTENT: Are there any thermometers that you can put in clay ovens, or under a broiler? Most of the thermometers have a temperature limit of 350 ~ 400 degrees.\n",
      "I actually burnt one down last year by turning the broiler on by accident. \n",
      "\n",
      "===RECOMMENDATION 3 (distance = 14.0)===\n",
      "TITLE: What temperature to cook a pork tenderloin at?\n",
      "CONTENT: What temperature do you normally cook a pork tenderloin at?  I was searching on the internet and saw anywhere from 325°F (165°C) to 450°F (230°C) and couldn't seem to find a good answer.\n",
      "Also, does it depend on how long you want to cook it or in how you prepare it before cooking?\n",
      "\n",
      "===RECOMMENDATION 4 (distance = 14.0)===\n",
      "TITLE: What features do I want in a Toaster Oven?\n",
      "CONTENT: Our Toaster isn't doing well, planning to replace it with a toaster oven to get some more versatility on the counter top. What features are good? I've looked and there are ones ranging from simple $25 models to $250 with a laundry list of features.  Just wonder what's useful and what's not, hope to find a good one that's $120 or less really, but I'm willing to pay extra if it's worth the money.\n",
      "\n",
      "===RECOMMENDATION 5 (distance = 15.0)===\n",
      "TITLE: Kitchen essentials for a poor college student who wants to cook like an iron chef?\n",
      "CONTENT: During college years funding is low but the need to cook like a pro can be essential.  (Let's say to meeting your future wife/husband?)  \n",
      "What are essential devices the kitchen should have but will not break the already broken bank?  \n",
      "Community List Includes: \n",
      "\n",
      "quality knife set (essential for all most cooking)\n",
      "a knife sharpener (a cheap but not so-cheap one does the job)\n",
      "crock pot (great for the set it and forget it cooking when you are on the go) \n",
      "measuring cups/spoons (eye-balling is great but sometimes you need refined measuring)\n",
      "casserole dish\n",
      "mixing bowl\n",
      "skillet (cast iron preferred) \n",
      "essential herbs/spices (preferably from parents kitchen)\n",
      "cutting board (decent size, but not too big that it is too big to fit in the sink and wash)\n",
      "spatula (metal and wood)\n",
      "knife sharpener (ceramic preferred or diamond coated) \n",
      "3 plates (1 for you, 1 for guest, 1 for serving)\n",
      "tupperware/containers for tomorrow's lunch\n",
      "cutlery for 2\n",
      "\n",
      "Community wiki and I will try to update the list as user's comment! \n",
      "\n"
     ]
    }
   ],
   "execution_count": 47
  },
  {
   "metadata": {},
   "cell_type": "code",
   "outputs": [],
   "execution_count": null,
   "source": "",
   "id": "95f7e6c2be0f71f7"
  }
 ],
 "metadata": {
  "kernelspec": {
   "display_name": "Python 3",
   "language": "python",
   "name": "python3"
  },
  "language_info": {
   "codemirror_mode": {
    "name": "ipython",
    "version": 2
   },
   "file_extension": ".py",
   "mimetype": "text/x-python",
   "name": "python",
   "nbconvert_exporter": "python",
   "pygments_lexer": "ipython2",
   "version": "2.7.6"
  }
 },
 "nbformat": 4,
 "nbformat_minor": 5
}
