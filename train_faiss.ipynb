{
 "cells": [
  {
   "cell_type": "code",
   "id": "initial_id",
   "metadata": {
    "collapsed": true,
    "ExecuteTime": {
     "end_time": "2024-12-20T15:08:53.461833Z",
     "start_time": "2024-12-20T15:08:49.755908Z"
    }
   },
   "source": "from data_utils import load_data, preprocess_data_faiss, preprocess_data_faiss_test",
   "outputs": [],
   "execution_count": 1
  },
  {
   "metadata": {
    "ExecuteTime": {
     "end_time": "2024-12-20T15:09:10.057127Z",
     "start_time": "2024-12-20T15:08:53.952126Z"
    }
   },
   "cell_type": "code",
   "source": "data = load_data(\"data\")",
   "id": "d3107880e814ff45",
   "outputs": [],
   "execution_count": 2
  },
  {
   "metadata": {
    "ExecuteTime": {
     "end_time": "2024-12-20T15:20:40.885463Z",
     "start_time": "2024-12-20T15:10:13.048978Z"
    }
   },
   "cell_type": "code",
   "source": [
    "embeddings = preprocess_data_faiss(data)\n",
    "embeddings.shape"
   ],
   "id": "e30e6084b6fb7532",
   "outputs": [
    {
     "name": "stderr",
     "output_type": "stream",
     "text": [
      "/mnt/c/Users/Raman/PycharmProjects/stackexchange-recsys/data_utils.py:200: SettingWithCopyWarning: \n",
      "A value is trying to be set on a copy of a slice from a DataFrame.\n",
      "Try using .loc[row_indexer,col_indexer] = value instead\n",
      "\n",
      "See the caveats in the documentation: https://pandas.pydata.org/pandas-docs/stable/user_guide/indexing.html#returning-a-view-versus-a-copy\n",
      "  posts[\"body\"] = posts[\"body\"].map(clean_html)\n"
     ]
    },
    {
     "data": {
      "text/plain": [
       "(11812, 2048)"
      ]
     },
     "execution_count": 3,
     "metadata": {},
     "output_type": "execute_result"
    }
   ],
   "execution_count": 3
  },
  {
   "metadata": {
    "ExecuteTime": {
     "end_time": "2024-12-20T15:20:45.210184Z",
     "start_time": "2024-12-20T15:20:41.662191Z"
    }
   },
   "cell_type": "code",
   "source": [
    "posts, test_data = preprocess_data_faiss_test(data)\n",
    "test_data"
   ],
   "id": "9cd7d2551cdf3c17",
   "outputs": [
    {
     "name": "stderr",
     "output_type": "stream",
     "text": [
      "/mnt/c/Users/Raman/PycharmProjects/stackexchange-recsys/data_utils.py:213: SettingWithCopyWarning: \n",
      "A value is trying to be set on a copy of a slice from a DataFrame.\n",
      "Try using .loc[row_indexer,col_indexer] = value instead\n",
      "\n",
      "See the caveats in the documentation: https://pandas.pydata.org/pandas-docs/stable/user_guide/indexing.html#returning-a-view-versus-a-copy\n",
      "  posts[\"id\"] = posts[\"id\"].astype(\"int32\")\n"
     ]
    },
    {
     "data": {
      "text/plain": [
       "      postid  relatedpostid  linktypeid\n",
       "0       5620           3624           1\n",
       "1       5129           4967           1\n",
       "2       5800            174           1\n",
       "3       3418            121           1\n",
       "4       3317           1815           1\n",
       "...      ...            ...         ...\n",
       "4267     174            970           1\n",
       "4268   10224          10194           1\n",
       "4269    5464           2711           1\n",
       "4270    3706           3184           1\n",
       "4271     103            101           1\n",
       "\n",
       "[3717 rows x 3 columns]"
      ],
      "text/html": [
       "<div>\n",
       "<style scoped>\n",
       "    .dataframe tbody tr th:only-of-type {\n",
       "        vertical-align: middle;\n",
       "    }\n",
       "\n",
       "    .dataframe tbody tr th {\n",
       "        vertical-align: top;\n",
       "    }\n",
       "\n",
       "    .dataframe thead th {\n",
       "        text-align: right;\n",
       "    }\n",
       "</style>\n",
       "<table border=\"1\" class=\"dataframe\">\n",
       "  <thead>\n",
       "    <tr style=\"text-align: right;\">\n",
       "      <th></th>\n",
       "      <th>postid</th>\n",
       "      <th>relatedpostid</th>\n",
       "      <th>linktypeid</th>\n",
       "    </tr>\n",
       "  </thead>\n",
       "  <tbody>\n",
       "    <tr>\n",
       "      <th>0</th>\n",
       "      <td>5620</td>\n",
       "      <td>3624</td>\n",
       "      <td>1</td>\n",
       "    </tr>\n",
       "    <tr>\n",
       "      <th>1</th>\n",
       "      <td>5129</td>\n",
       "      <td>4967</td>\n",
       "      <td>1</td>\n",
       "    </tr>\n",
       "    <tr>\n",
       "      <th>2</th>\n",
       "      <td>5800</td>\n",
       "      <td>174</td>\n",
       "      <td>1</td>\n",
       "    </tr>\n",
       "    <tr>\n",
       "      <th>3</th>\n",
       "      <td>3418</td>\n",
       "      <td>121</td>\n",
       "      <td>1</td>\n",
       "    </tr>\n",
       "    <tr>\n",
       "      <th>4</th>\n",
       "      <td>3317</td>\n",
       "      <td>1815</td>\n",
       "      <td>1</td>\n",
       "    </tr>\n",
       "    <tr>\n",
       "      <th>...</th>\n",
       "      <td>...</td>\n",
       "      <td>...</td>\n",
       "      <td>...</td>\n",
       "    </tr>\n",
       "    <tr>\n",
       "      <th>4267</th>\n",
       "      <td>174</td>\n",
       "      <td>970</td>\n",
       "      <td>1</td>\n",
       "    </tr>\n",
       "    <tr>\n",
       "      <th>4268</th>\n",
       "      <td>10224</td>\n",
       "      <td>10194</td>\n",
       "      <td>1</td>\n",
       "    </tr>\n",
       "    <tr>\n",
       "      <th>4269</th>\n",
       "      <td>5464</td>\n",
       "      <td>2711</td>\n",
       "      <td>1</td>\n",
       "    </tr>\n",
       "    <tr>\n",
       "      <th>4270</th>\n",
       "      <td>3706</td>\n",
       "      <td>3184</td>\n",
       "      <td>1</td>\n",
       "    </tr>\n",
       "    <tr>\n",
       "      <th>4271</th>\n",
       "      <td>103</td>\n",
       "      <td>101</td>\n",
       "      <td>1</td>\n",
       "    </tr>\n",
       "  </tbody>\n",
       "</table>\n",
       "<p>3717 rows × 3 columns</p>\n",
       "</div>"
      ]
     },
     "execution_count": 4,
     "metadata": {},
     "output_type": "execute_result"
    }
   ],
   "execution_count": 4
  },
  {
   "metadata": {
    "ExecuteTime": {
     "end_time": "2024-12-20T15:20:46.378198Z",
     "start_time": "2024-12-20T15:20:45.233916Z"
    }
   },
   "cell_type": "code",
   "source": [
    "import faiss\n",
    "import numpy as np"
   ],
   "id": "8b3347ad0d980eb",
   "outputs": [],
   "execution_count": 5
  },
  {
   "metadata": {
    "ExecuteTime": {
     "end_time": "2024-12-20T15:20:48.821830Z",
     "start_time": "2024-12-20T15:20:46.455447Z"
    }
   },
   "cell_type": "code",
   "source": [
    "index = faiss.IndexFlatL2(embeddings.shape[1])\n",
    "index.add(embeddings)"
   ],
   "id": "86c48a2ba53728a3",
   "outputs": [],
   "execution_count": 6
  },
  {
   "metadata": {
    "ExecuteTime": {
     "end_time": "2024-12-20T15:20:50.145050Z",
     "start_time": "2024-12-20T15:20:48.866765Z"
    }
   },
   "cell_type": "code",
   "source": "test_embeddings = embeddings[test_data[\"postid\"]]",
   "id": "26be9da73db98aaa",
   "outputs": [],
   "execution_count": 7
  },
  {
   "metadata": {
    "ExecuteTime": {
     "end_time": "2024-12-20T15:20:57.425848Z",
     "start_time": "2024-12-20T15:20:53.938874Z"
    }
   },
   "cell_type": "code",
   "source": [
    "for k in range(6, 22, 5):\n",
    "    D, I = index.search(test_embeddings, k=k)\n",
    "\n",
    "    correct = 0\n",
    "\n",
    "    for related_post_id, recommendations in zip(test_data[\"relatedpostid\"], I):\n",
    "        if related_post_id in I:\n",
    "            correct += 1\n",
    "\n",
    "    print(f\"Recall@k (k = {k - 1}): {correct / test_data.shape[0]}\")"
   ],
   "id": "44a0c45ce8927c83",
   "outputs": [
    {
     "name": "stdout",
     "output_type": "stream",
     "text": [
      "Recall@k (k = 5): 0.8625235404896422\n",
      "Recall@k (k = 10): 0.9383911756793113\n",
      "Recall@k (k = 15): 0.9607210115684692\n",
      "Recall@k (k = 20): 0.9709443099273608\n"
     ]
    }
   ],
   "execution_count": 8
  },
  {
   "metadata": {
    "ExecuteTime": {
     "end_time": "2024-12-20T16:16:33.828066Z",
     "start_time": "2024-12-20T16:16:33.452308Z"
    }
   },
   "cell_type": "code",
   "source": "from sklearn.decomposition import PCA",
   "id": "4732ec149086b8c4",
   "outputs": [],
   "execution_count": 23
  },
  {
   "metadata": {
    "ExecuteTime": {
     "end_time": "2024-12-20T16:17:54.421178Z",
     "start_time": "2024-12-20T16:17:53.563063Z"
    }
   },
   "cell_type": "code",
   "source": [
    "pca = PCA(n_components=128)\n",
    "reduced_embeddings = pca.fit_transform(embeddings)"
   ],
   "id": "4163928447eaff8b",
   "outputs": [],
   "execution_count": 30
  },
  {
   "metadata": {
    "ExecuteTime": {
     "end_time": "2024-12-20T17:00:43.185718Z",
     "start_time": "2024-12-20T17:00:43.181254Z"
    }
   },
   "cell_type": "code",
   "source": [
    "random_embedding = reduced_embeddings[\n",
    "    np.random.choice(reduced_embeddings.shape[0])\n",
    "].reshape(1, -1)"
   ],
   "id": "c6c15eb0caaf4f3a",
   "outputs": [],
   "execution_count": 67
  },
  {
   "metadata": {
    "ExecuteTime": {
     "end_time": "2024-12-20T17:00:44.332611Z",
     "start_time": "2024-12-20T17:00:43.599331Z"
    }
   },
   "cell_type": "code",
   "source": [
    "index = faiss.IndexFlatL2(reduced_embeddings.shape[1])\n",
    "index.add(reduced_embeddings)\n",
    "test_embeddings = reduced_embeddings[test_data[\"postid\"]]\n",
    "\n",
    "print(\"IndexFlatL2:\")\n",
    "for k in range(6, 22, 5):\n",
    "    D, I = index.search(test_embeddings, k=k)\n",
    "\n",
    "    correct = 0\n",
    "\n",
    "    for related_post_id, recommendations in zip(test_data[\"relatedpostid\"], I):\n",
    "        if related_post_id in I:\n",
    "            correct += 1\n",
    "\n",
    "    print(f\"Recall@k (k = {k - 1}): {correct / test_data.shape[0]}\")"
   ],
   "id": "7dc54f3b0080263f",
   "outputs": [
    {
     "name": "stdout",
     "output_type": "stream",
     "text": [
      "IndexFlatL2:\n",
      "Recall@k (k = 5): 0.8810868980360506\n",
      "Recall@k (k = 10): 0.9383911756793113\n",
      "Recall@k (k = 15): 0.9704062415926823\n",
      "Recall@k (k = 20): 0.9808985741189131\n"
     ]
    }
   ],
   "execution_count": 68
  },
  {
   "metadata": {
    "ExecuteTime": {
     "end_time": "2024-12-20T17:00:45.055679Z",
     "start_time": "2024-12-20T17:00:45.036356Z"
    }
   },
   "cell_type": "code",
   "source": [
    "D, I = index.search(random_embedding, k=6)\n",
    "\n",
    "print(\"IndexFlatL2:\")\n",
    "print(f\"Distances: {D}\")\n",
    "print(f\"Indices: {I}\\n\")\n",
    "\n",
    "print(\n",
    "    f\"===ORIGINAL POST===\\n\"\n",
    "    f\"TITLE: {posts['title'].iloc[I[0][0]]}\\n\"\n",
    "    f\"CONTENT: {posts['body'].iloc[I[0][0]]}\"\n",
    ")\n",
    "\n",
    "for i in range(1, 6):\n",
    "    print(\n",
    "        f\"===RECOMMENDATION {i} (distance = {D[0][i]})===\\n\"\n",
    "        f\"TITLE: {posts['title'].iloc[I[0][i]]}\\n\"\n",
    "        f\"CONTENT: {posts['body'].iloc[I[0][i]]}\"\n",
    "    )"
   ],
   "id": "ace1063508ea1871",
   "outputs": [
    {
     "name": "stdout",
     "output_type": "stream",
     "text": [
      "IndexFlatL2:\n",
      "Distances: [[0.         0.4257345  0.48082286 0.58143663 0.5844599  0.63861364]]\n",
      "Indices: [[ 2912 10556  7816  9014 10547 11229]]\n",
      "\n",
      "===ORIGINAL POST===\n",
      "TITLE: Scratched Stainless Steel\n",
      "CONTENT: I have a set of stainless steel pans that I absolutely love, and my 12\" frying pan has received LOTS of use since I bought it. This is my first ever stainless steel pan and I'm pretty aware of all the ways to clean it (deglazing, barkeeps friend, etc). Recently, my wife purchased some scotch-bright heavy duty sponges with good intentions but I didn't realize exactly how \"heavy duty\" they were. I was washing my frying pan one night and used the scouring side of the sponge to get some stuck on grease and I noticed that I actually scratched my pan. The scratches don't look very deep, but I'm a little concerned.\n",
      "Will these scratches damage the pan and reduce it's life? Should I stop using the scouring side of the sponges on my stainless steel?\n",
      "\n",
      "===RECOMMENDATION 1 (distance = 0.4257344901561737)===\n",
      "TITLE: flaw in stainless steel\n",
      "CONTENT: I just purchased a chafing pan from Sam's Club by Bakers & Chefs. The second pan in the stack appears to have several black scratches or gouges in the material. I'm wondering, since it is not marked with a metal grade such as 18/10 but instead claims \"restaurant quality\", if this is junk?\n",
      "The scratches appear as black marks, not simply scratches in the stainless steel, and do not rub out with scrubber or baking soda. Is there only a very thin metal coating over something inferior that I do not want my food to touch?\n",
      "The surface is also a dull grey, not a bright shiny color as I am accustomed to in my other stainless steel cookware.  I've had all my other stainless steel pans for 30+ years and never seen anything like this. I smell a rat!\n",
      "Please comment on whether you'd return this set and look for a higher quality set. My purpose is to slow roast tomatoes and I want to avoid contact with reactive metals and also make most efficient use of my oven, as this takes 10-12 hours.\n",
      "\n",
      "===RECOMMENDATION 2 (distance = 0.4808228611946106)===\n",
      "TITLE: Stainless steel cookware scratches\n",
      "CONTENT: Is it true that one should not use stainless steel utensils on a stainless steel pot or pan? I had to get rid of some old pots because my food started  have a metallic taste to it. I always see on cooking shows, however, that chefs will often use stainless steel utensils (like a whisk) on a stainless steel pot.\n",
      "What should I do to prevent this metallic leaching? And should I be cooking with, say, wooden utensils to prevent scratching my cookware?\n",
      "Update: The metallic leaching was very distinct. It's sort of like the taste one gets from aluminum soda cans or stainless steel water bottles that were made back in the day.  When I switched out the pots and pans to newer ones, the taste was no longer there. Switching back to the old ones again, the taste returned. I tried cooking different foods to make sure it wasn't something related to acidity or some sort of ingredient.\n",
      "\n",
      "===RECOMMENDATION 3 (distance = 0.5814366340637207)===\n",
      "TITLE: non stick presto electric skillet\n",
      "CONTENT: My skillet is dishwasher safe but it comes out with rust colored spots on the bottom.  The non-stick surface is rough and if I use a paper towel to wipe it down it leaves little pieces of paper behind.\n",
      "Instructions say not to soak it. It has a sticky feel to it and patches that look and feel like burned on grease. \n",
      "I feel like I have tried everything. Anyone have any suggestions for me?  \n",
      "\n",
      "===RECOMMENDATION 4 (distance = 0.5844599008560181)===\n",
      "TITLE: Steel Pan non-stick improvement by polishing\n",
      "CONTENT: I recently started to research into my cookwares and decided a stainless-steel pan was a good budget investment to learn to cook better my steaks and other items. I cooked my first steaks over the last few weeks and they were great, they didn't stick and came out delicious.\n",
      "FYI: usually I cook the steak by seasoning it with some olive oil rubbed in then salting\n",
      "and peppering it and letting it rest till it is at room temperature. To cook it I bring the\n",
      "pan to high heat until droplets of water slip on it as if they were mercury, add a tbsp of\n",
      "oil and place the steak on, reverse it after about 3min with tongs and remove after about\n",
      "another 3 min. The cuts I use are often thin.\n",
      "\n",
      "However there is one problem I have not been able to get over; the steak does not stick but its seasoning will and over the cooking period burns. This causes smoke and a real headache to clean while trying not to use a scourer side of a sponge or metal wire as I have been adamantly told it will ruin the pan's surface (this got me thinking... read on)!\n",
      "So over to my question which may be a little out the box, I am a materials engineer with access to metal work machines, to my knowledge a perfectly flat surface offers less surface area to stick so if I were to buffet the pan until it were nicely polished on the surface (currently I can see all the circular grooves from the fabrication process such as you see on brushed steel) would this help reduce the sticking? Or can I simply improve the way I cook the steak and avoid the seasoning sticking and burning?\n",
      "\n",
      "===RECOMMENDATION 5 (distance = 0.6386136412620544)===\n",
      "TITLE: White cloudy areas on bottom of new stainless steel skiillet…\n",
      "CONTENT: I just bought my first few pot and pans \"Calaphon\" stainless steel trip-ply\n",
      "I used my new 10\" skillet tonight, and cooked pork chops. I heated the pan first, added olive oil, let it heat, then added chops. After I was done, cleaned it immediately under water, and noticed white cloud looking areas on the bottom of the skillet. They won’t wash or rub off\n",
      "Do I need to return these? I did buy them for the look as well.\n",
      "\n"
     ]
    }
   ],
   "execution_count": 69
  },
  {
   "metadata": {
    "ExecuteTime": {
     "end_time": "2024-12-20T17:00:59.685636Z",
     "start_time": "2024-12-20T17:00:59.178179Z"
    }
   },
   "cell_type": "code",
   "source": [
    "index = faiss.IndexLSH(reduced_embeddings.shape[1], 64)\n",
    "index.add(reduced_embeddings)\n",
    "test_embeddings = reduced_embeddings[test_data[\"postid\"]]\n",
    "\n",
    "print(\"IndexLSH (n_bits=64):\")\n",
    "for k in range(6, 22, 5):\n",
    "    D, I = index.search(test_embeddings, k=k)\n",
    "\n",
    "    correct = 0\n",
    "\n",
    "    for related_post_id, recommendations in zip(test_data[\"relatedpostid\"], I):\n",
    "        if related_post_id in I:\n",
    "            correct += 1\n",
    "\n",
    "    print(f\"Recall@k (k = {k - 1}): {correct / test_data.shape[0]}\")"
   ],
   "id": "b367fb304e72c4b9",
   "outputs": [
    {
     "name": "stdout",
     "output_type": "stream",
     "text": [
      "IndexLSH (n_bits=64):\n",
      "Recall@k (k = 5): 0.8528383104654291\n",
      "Recall@k (k = 10): 0.9464622006994888\n",
      "Recall@k (k = 15): 0.9760559591068065\n",
      "Recall@k (k = 20): 0.9905838041431262\n"
     ]
    }
   ],
   "execution_count": 70
  },
  {
   "metadata": {
    "ExecuteTime": {
     "end_time": "2024-12-20T17:01:00.619409Z",
     "start_time": "2024-12-20T17:01:00.601632Z"
    }
   },
   "cell_type": "code",
   "source": [
    "D, I = index.search(random_embedding, k=6)\n",
    "\n",
    "print(\"IndexLSH (n_bits=64):\")\n",
    "print(f\"Distances: {D}\")\n",
    "print(f\"Indices: {I}\\n\")\n",
    "\n",
    "print(\n",
    "    f\"===ORIGINAL POST===\\n\"\n",
    "    f\"TITLE: {posts['title'].iloc[I[0][0]]}\\n\"\n",
    "    f\"CONTENT: {posts['body'].iloc[I[0][0]]}\"\n",
    ")\n",
    "\n",
    "for i in range(1, 6):\n",
    "    print(\n",
    "        f\"===RECOMMENDATION {i} (distance = {D[0][i]})===\\n\"\n",
    "        f\"TITLE: {posts['title'].iloc[I[0][i]]}\\n\"\n",
    "        f\"CONTENT: {posts['body'].iloc[I[0][i]]}\"\n",
    "    )"
   ],
   "id": "c9a86912911e64d1",
   "outputs": [
    {
     "name": "stdout",
     "output_type": "stream",
     "text": [
      "IndexLSH (n_bits=64):\n",
      "Distances: [[ 0. 11. 12. 13. 15. 15.]]\n",
      "Indices: [[2912 7816 9847 1419 5067 9898]]\n",
      "\n",
      "===ORIGINAL POST===\n",
      "TITLE: Scratched Stainless Steel\n",
      "CONTENT: I have a set of stainless steel pans that I absolutely love, and my 12\" frying pan has received LOTS of use since I bought it. This is my first ever stainless steel pan and I'm pretty aware of all the ways to clean it (deglazing, barkeeps friend, etc). Recently, my wife purchased some scotch-bright heavy duty sponges with good intentions but I didn't realize exactly how \"heavy duty\" they were. I was washing my frying pan one night and used the scouring side of the sponge to get some stuck on grease and I noticed that I actually scratched my pan. The scratches don't look very deep, but I'm a little concerned.\n",
      "Will these scratches damage the pan and reduce it's life? Should I stop using the scouring side of the sponges on my stainless steel?\n",
      "\n",
      "===RECOMMENDATION 1 (distance = 11.0)===\n",
      "TITLE: Stainless steel cookware scratches\n",
      "CONTENT: Is it true that one should not use stainless steel utensils on a stainless steel pot or pan? I had to get rid of some old pots because my food started  have a metallic taste to it. I always see on cooking shows, however, that chefs will often use stainless steel utensils (like a whisk) on a stainless steel pot.\n",
      "What should I do to prevent this metallic leaching? And should I be cooking with, say, wooden utensils to prevent scratching my cookware?\n",
      "Update: The metallic leaching was very distinct. It's sort of like the taste one gets from aluminum soda cans or stainless steel water bottles that were made back in the day.  When I switched out the pots and pans to newer ones, the taste was no longer there. Switching back to the old ones again, the taste returned. I tried cooking different foods to make sure it wasn't something related to acidity or some sort of ingredient.\n",
      "\n",
      "===RECOMMENDATION 2 (distance = 12.0)===\n",
      "TITLE: Pots and Pans in the dishwasher\n",
      "CONTENT: Settle a longstanding feud in our household for me: is it safe to put pots and pans in the dishwasher?\n",
      "Assume we have both stainless steel and various non-stick pans. Assume we have frypans, sauce-pots, and larger pots that would conceivably fit, but we're not talking about cast iron pans here, or bakeware. The answer may differ based on the type of pan specifically being used, but assume all boxes and manuals have been lost since we bought the pans and we don't know if it's rated for the dishwasher. \n",
      "\n",
      "===RECOMMENDATION 3 (distance = 13.0)===\n",
      "TITLE: Cast iron pan flaking\n",
      "CONTENT: My cast iron pan has started to give off tiny black flakes after 3 months of use.  Are these dangerous in any way?  Are we ingesting iron?  There are patches on the skillet that are now a little lighter than their surrounding areas.\n",
      "\n",
      "===RECOMMENDATION 4 (distance = 15.0)===\n",
      "TITLE: Are Non-Stick Bread Pans Destined to Fail?\n",
      "CONTENT: Bought a pair of generic non-stick bread pans (Ecko or Good-Chef or some such).\n",
      "After 100 to 150 loaves, and gentle care, they're now more prone to sticking bread than the non-coated pans they were meant to replace, even when liberally oiled.\n",
      "Is the problem a bad coating technology, or does this short lifespan apply to all non-stick breadpan coatings?\n",
      "Are uncoated bread pans fundamentally better for long term use?\n",
      "\n",
      "===RECOMMENDATION 5 (distance = 15.0)===\n",
      "TITLE: White Stains on stainless steel\n",
      "CONTENT: So these are stains that I tried to get off with everything this board has adviced. Still no end in sight.  I tried baking soda, citric acid, white vinegar, bar keeper's friend etc.\n",
      "Does anyone know what these are? First time I'm getting these in 5 years of cooking, hard as hell to get off. I even tried to scratch it off but it doesn't work.\n",
      "\n",
      "\n"
     ]
    }
   ],
   "execution_count": 71
  }
 ],
 "metadata": {
  "kernelspec": {
   "display_name": "Python 3",
   "language": "python",
   "name": "python3"
  },
  "language_info": {
   "codemirror_mode": {
    "name": "ipython",
    "version": 2
   },
   "file_extension": ".py",
   "mimetype": "text/x-python",
   "name": "python",
   "nbconvert_exporter": "python",
   "pygments_lexer": "ipython2",
   "version": "2.7.6"
  }
 },
 "nbformat": 4,
 "nbformat_minor": 5
}
