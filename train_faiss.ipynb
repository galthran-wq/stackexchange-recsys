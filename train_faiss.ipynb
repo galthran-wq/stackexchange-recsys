{
 "cells": [
  {
   "cell_type": "code",
   "id": "initial_id",
   "metadata": {
    "collapsed": true,
    "ExecuteTime": {
     "end_time": "2024-12-20T05:29:00.729065Z",
     "start_time": "2024-12-20T05:28:51.172784Z"
    }
   },
   "source": "from data_utils import load_data, preprocess_data_faiss, preprocess_data_faiss_test",
   "outputs": [],
   "execution_count": 1
  },
  {
   "metadata": {
    "ExecuteTime": {
     "end_time": "2024-12-20T05:29:18.866766Z",
     "start_time": "2024-12-20T05:29:00.736315Z"
    }
   },
   "cell_type": "code",
   "source": "data = load_data(\"data\")",
   "id": "d3107880e814ff45",
   "outputs": [],
   "execution_count": 2
  },
  {
   "metadata": {
    "ExecuteTime": {
     "end_time": "2024-12-20T05:45:48.803204Z",
     "start_time": "2024-12-20T05:32:36.267125Z"
    }
   },
   "cell_type": "code",
   "source": [
    "embeddings = preprocess_data_faiss(data)\n",
    "embeddings.shape"
   ],
   "id": "e30e6084b6fb7532",
   "outputs": [
    {
     "name": "stderr",
     "output_type": "stream",
     "text": [
      "/mnt/c/Users/Raman/PycharmProjects/stackexchange-recsys/data_utils.py:200: SettingWithCopyWarning: \n",
      "A value is trying to be set on a copy of a slice from a DataFrame.\n",
      "Try using .loc[row_indexer,col_indexer] = value instead\n",
      "\n",
      "See the caveats in the documentation: https://pandas.pydata.org/pandas-docs/stable/user_guide/indexing.html#returning-a-view-versus-a-copy\n",
      "  posts[\"body\"] = posts[\"body\"].map(clean_html)\n"
     ]
    },
    {
     "data": {
      "text/plain": [
       "(11812, 2048)"
      ]
     },
     "execution_count": 5,
     "metadata": {},
     "output_type": "execute_result"
    }
   ],
   "execution_count": 5
  },
  {
   "metadata": {
    "ExecuteTime": {
     "end_time": "2024-12-20T05:32:33.171744Z",
     "start_time": "2024-12-20T05:32:29.971498Z"
    }
   },
   "cell_type": "code",
   "source": [
    "posts, test_data = preprocess_data_faiss_test(data)\n",
    "test_data"
   ],
   "id": "9cd7d2551cdf3c17",
   "outputs": [
    {
     "name": "stderr",
     "output_type": "stream",
     "text": [
      "/mnt/c/Users/Raman/PycharmProjects/stackexchange-recsys/data_utils.py:213: SettingWithCopyWarning: \n",
      "A value is trying to be set on a copy of a slice from a DataFrame.\n",
      "Try using .loc[row_indexer,col_indexer] = value instead\n",
      "\n",
      "See the caveats in the documentation: https://pandas.pydata.org/pandas-docs/stable/user_guide/indexing.html#returning-a-view-versus-a-copy\n",
      "  posts[\"id\"] = posts[\"id\"].astype(\"int32\")\n"
     ]
    },
    {
     "data": {
      "text/plain": [
       "      postid  relatedpostid  linktypeid\n",
       "0       9474           7445           0\n",
       "1       3348           6112           0\n",
       "2       7821           6298           1\n",
       "3       4331           2804           1\n",
       "4       1448            858           1\n",
       "...      ...            ...         ...\n",
       "8539   10885           5852           0\n",
       "8540    7045           2171           0\n",
       "8541    7093            163           1\n",
       "8542     657            408           0\n",
       "8543    5128           5949           0\n",
       "\n",
       "[7989 rows x 3 columns]"
      ],
      "text/html": [
       "<div>\n",
       "<style scoped>\n",
       "    .dataframe tbody tr th:only-of-type {\n",
       "        vertical-align: middle;\n",
       "    }\n",
       "\n",
       "    .dataframe tbody tr th {\n",
       "        vertical-align: top;\n",
       "    }\n",
       "\n",
       "    .dataframe thead th {\n",
       "        text-align: right;\n",
       "    }\n",
       "</style>\n",
       "<table border=\"1\" class=\"dataframe\">\n",
       "  <thead>\n",
       "    <tr style=\"text-align: right;\">\n",
       "      <th></th>\n",
       "      <th>postid</th>\n",
       "      <th>relatedpostid</th>\n",
       "      <th>linktypeid</th>\n",
       "    </tr>\n",
       "  </thead>\n",
       "  <tbody>\n",
       "    <tr>\n",
       "      <th>0</th>\n",
       "      <td>9474</td>\n",
       "      <td>7445</td>\n",
       "      <td>0</td>\n",
       "    </tr>\n",
       "    <tr>\n",
       "      <th>1</th>\n",
       "      <td>3348</td>\n",
       "      <td>6112</td>\n",
       "      <td>0</td>\n",
       "    </tr>\n",
       "    <tr>\n",
       "      <th>2</th>\n",
       "      <td>7821</td>\n",
       "      <td>6298</td>\n",
       "      <td>1</td>\n",
       "    </tr>\n",
       "    <tr>\n",
       "      <th>3</th>\n",
       "      <td>4331</td>\n",
       "      <td>2804</td>\n",
       "      <td>1</td>\n",
       "    </tr>\n",
       "    <tr>\n",
       "      <th>4</th>\n",
       "      <td>1448</td>\n",
       "      <td>858</td>\n",
       "      <td>1</td>\n",
       "    </tr>\n",
       "    <tr>\n",
       "      <th>...</th>\n",
       "      <td>...</td>\n",
       "      <td>...</td>\n",
       "      <td>...</td>\n",
       "    </tr>\n",
       "    <tr>\n",
       "      <th>8539</th>\n",
       "      <td>10885</td>\n",
       "      <td>5852</td>\n",
       "      <td>0</td>\n",
       "    </tr>\n",
       "    <tr>\n",
       "      <th>8540</th>\n",
       "      <td>7045</td>\n",
       "      <td>2171</td>\n",
       "      <td>0</td>\n",
       "    </tr>\n",
       "    <tr>\n",
       "      <th>8541</th>\n",
       "      <td>7093</td>\n",
       "      <td>163</td>\n",
       "      <td>1</td>\n",
       "    </tr>\n",
       "    <tr>\n",
       "      <th>8542</th>\n",
       "      <td>657</td>\n",
       "      <td>408</td>\n",
       "      <td>0</td>\n",
       "    </tr>\n",
       "    <tr>\n",
       "      <th>8543</th>\n",
       "      <td>5128</td>\n",
       "      <td>5949</td>\n",
       "      <td>0</td>\n",
       "    </tr>\n",
       "  </tbody>\n",
       "</table>\n",
       "<p>7989 rows × 3 columns</p>\n",
       "</div>"
      ]
     },
     "execution_count": 4,
     "metadata": {},
     "output_type": "execute_result"
    }
   ],
   "execution_count": 4
  },
  {
   "metadata": {
    "ExecuteTime": {
     "end_time": "2024-12-20T05:46:34.167631Z",
     "start_time": "2024-12-20T05:46:32.777391Z"
    }
   },
   "cell_type": "code",
   "source": [
    "import faiss\n",
    "import numpy as np"
   ],
   "id": "8b3347ad0d980eb",
   "outputs": [],
   "execution_count": 6
  },
  {
   "metadata": {
    "ExecuteTime": {
     "end_time": "2024-12-20T05:46:45.628589Z",
     "start_time": "2024-12-20T05:46:45.501720Z"
    }
   },
   "cell_type": "code",
   "source": [
    "index = faiss.IndexFlatL2(embeddings.shape[1])\n",
    "index.add(embeddings)"
   ],
   "id": "86c48a2ba53728a3",
   "outputs": [],
   "execution_count": 8
  },
  {
   "metadata": {
    "ExecuteTime": {
     "end_time": "2024-12-20T05:50:17.815964Z",
     "start_time": "2024-12-20T05:50:15.946073Z"
    }
   },
   "cell_type": "code",
   "source": "test_embeddings = embeddings[test_data[\"postid\"]]",
   "id": "26be9da73db98aaa",
   "outputs": [],
   "execution_count": 20
  },
  {
   "metadata": {
    "ExecuteTime": {
     "end_time": "2024-12-20T05:50:45.486486Z",
     "start_time": "2024-12-20T05:50:43.744550Z"
    }
   },
   "cell_type": "code",
   "source": "D, I = index.search(test_embeddings, k=6)",
   "id": "5268cfbdfdba4dd5",
   "outputs": [],
   "execution_count": 25
  },
  {
   "metadata": {
    "ExecuteTime": {
     "end_time": "2024-12-20T05:52:51.877486Z",
     "start_time": "2024-12-20T05:52:44.323968Z"
    }
   },
   "cell_type": "code",
   "source": [
    "for k in range(6, 22, 5):\n",
    "    print(f\"TOP {k - 1} RECOMMENDATIONS\")\n",
    "\n",
    "    D, I = index.search(test_embeddings, k=k)\n",
    "\n",
    "    correct = 0\n",
    "\n",
    "    for related_post_id, recommendations in zip(test_data[\"relatedpostid\"], I):\n",
    "        if related_post_id in I:\n",
    "            correct += 1\n",
    "\n",
    "    print(f\"Accuracy: {correct / test_data.shape[0]}\\n\")"
   ],
   "id": "44a0c45ce8927c83",
   "outputs": [
    {
     "name": "stdout",
     "output_type": "stream",
     "text": [
      "TOP 5 RECOMMENDATIONS\n",
      "Accuracy: 0.8921016397546626\n",
      "\n",
      "TOP 10 RECOMMENDATIONS\n",
      "Accuracy: 0.9454249593190637\n",
      "\n",
      "TOP 15 RECOMMENDATIONS\n",
      "Accuracy: 0.9644511202903993\n",
      "\n",
      "TOP 20 RECOMMENDATIONS\n",
      "Accuracy: 0.973964200776067\n",
      "\n"
     ]
    }
   ],
   "execution_count": 29
  },
  {
   "metadata": {
    "ExecuteTime": {
     "end_time": "2024-12-20T05:52:59.091615Z",
     "start_time": "2024-12-20T05:52:59.071699Z"
    }
   },
   "cell_type": "code",
   "source": [
    "random_embedding = embeddings[\n",
    "    np.random.choice(embeddings.shape[0])\n",
    "].reshape(1, -1)"
   ],
   "id": "50ac79512cb65b44",
   "outputs": [],
   "execution_count": 30
  },
  {
   "metadata": {
    "ExecuteTime": {
     "end_time": "2024-12-20T05:53:00.745886Z",
     "start_time": "2024-12-20T05:53:00.732796Z"
    }
   },
   "cell_type": "code",
   "source": "D, I = index.search(random_embedding, k=6)",
   "id": "dd54a380e05a4080",
   "outputs": [],
   "execution_count": 31
  },
  {
   "metadata": {
    "ExecuteTime": {
     "end_time": "2024-12-20T05:53:01.959807Z",
     "start_time": "2024-12-20T05:53:01.953202Z"
    }
   },
   "cell_type": "code",
   "source": [
    "print(f\"Distances: {D}\")\n",
    "print(f\"Indices: {I}\")"
   ],
   "id": "478cdd20980e0092",
   "outputs": [
    {
     "name": "stdout",
     "output_type": "stream",
     "text": [
      "Distances: [[0.        1.3095431 1.4885429 1.5132227 1.5407709 1.5641645]]\n",
      "Indices: [[5547 9921 9412 5556 2301 5555]]\n"
     ]
    }
   ],
   "execution_count": 32
  },
  {
   "metadata": {
    "ExecuteTime": {
     "end_time": "2024-12-20T05:53:26.470808Z",
     "start_time": "2024-12-20T05:53:26.458845Z"
    }
   },
   "cell_type": "code",
   "source": [
    "print(\n",
    "    f\"===ORIGINAL POST===\\n\"\n",
    "    f\"TITLE: {posts['title'].iloc[I[0][0]]}\\n\"\n",
    "    f\"CONTENT: {posts['body'].iloc[I[0][0]]}\"\n",
    ")\n",
    "\n",
    "for i in range(1, 6):\n",
    "    print(\n",
    "        f\"===RECOMMENDATION {i} (distance = {D[0][i]})===\\n\"\n",
    "        f\"TITLE: {posts['title'].iloc[I[0][i]]}\\n\"\n",
    "        f\"CONTENT: {posts['body'].iloc[I[0][i]]}\"\n",
    "    )"
   ],
   "id": "9ac07237438060e9",
   "outputs": [
    {
     "name": "stdout",
     "output_type": "stream",
     "text": [
      "===ORIGINAL POST===\n",
      "TITLE: What are the core differences between strawberry varieties?\n",
      "CONTENT: What are the core differences between strawberry varieties?  (For commercially available strawberries in North America and worldwide0)  For example, strawberries from Oregon and Washington are smaller and redder than those from California, but they don't have as long a shelf life.  \n",
      "(Also, what names - rather than their origin - identify these different strawberries?)\n",
      "\n",
      "===RECOMMENDATION 1 (distance = 1.3095431327819824)===\n",
      "TITLE: Have strawberries changed or have I?\n",
      "CONTENT: Strawberries used to be one of my favorite fruits. I am continually disappointed when I bite into them lately and they have little flavor unless it's that slightly fermented taste. I am sure that large fruit distributors supply all the local grocers with bright-red, bruise-resistant product without any concern for flavor. However, even when I go picking in the short northeastern season, it's hit or miss. It's almost picking season and I want to know what varieties I should be looking for at the local farms. Any advice for finding a sweet but tart berry like I remember? \n",
      "\n",
      "===RECOMMENDATION 2 (distance = 1.488542914390564)===\n",
      "TITLE: Why are my strawberries keeping so long?\n",
      "CONTENT: The California strawberries my husband buys are completely white at the stem, but bright red throughout the body, as well as being tasteless and staying fresh in the fridge for 2 weeks or more.\n",
      "Is it likely that they've been processed in some way to keep them \"fresh\" for longer? What might have been done to them?\n",
      "\n",
      "===RECOMMENDATION 3 (distance = 1.5132226943969727)===\n",
      "TITLE: What should I look for in strawberries at the market?\n",
      "CONTENT: When I'm selecting strawberries at the market or farmer's stand, what should I look for to indicate the most flavorful berries?  I don't need the strawberries to keep; I'll be using them immediately.  \n",
      "\n",
      "===RECOMMENDATION 4 (distance = 1.5407708883285522)===\n",
      "TITLE: What are the fundamental differences between citrus fruits that necessitate different cooking techniques?\n",
      "CONTENT: I used to cook pastries and tarts quite a bit, and one thing that always intrigued me was how recipes vary in their treatment of citrus.  For instance, if you make a lemon tart, you can generally do the whole thing in one day and it'll set up just fine.  An orange tart like tart a l'orange seems to require the filling to set for several hours longer.\n",
      "Aside from obvious flavor differences between citrus fruits (lemons, limes, oranges, grapefruit, etc.) are there acidity or other variances that require different techniques to get basically the same results?  If I used limes in lemon tart recipe, would I get a lime tart?\n",
      "This link on Wikipedia wasn't all that helpful...\n",
      "\n",
      "===RECOMMENDATION 5 (distance = 1.5641645193099976)===\n",
      "TITLE: Are strawberries really dyed?\n",
      "CONTENT: I stopped by a farm stand last weekend, and found the strawberries were rather pale looking. I commented on this, and the farmer assured me that this was no worry, and that furthermore I should be wary of bright red strawberries. His claim was that bright red strawberries at the supermarket are in fact dyed that color.\n",
      "Is it common practice to dye berries? Is it even legal? Is this something one would normally expect to find at a grocery store, or is a technique used elsewhere (say, commercially, or in restaurants?) Or is this guy just trying to convince me to buy his product?\n",
      "\n"
     ]
    }
   ],
   "execution_count": 34
  }
 ],
 "metadata": {
  "kernelspec": {
   "display_name": "Python 3",
   "language": "python",
   "name": "python3"
  },
  "language_info": {
   "codemirror_mode": {
    "name": "ipython",
    "version": 2
   },
   "file_extension": ".py",
   "mimetype": "text/x-python",
   "name": "python",
   "nbconvert_exporter": "python",
   "pygments_lexer": "ipython2",
   "version": "2.7.6"
  }
 },
 "nbformat": 4,
 "nbformat_minor": 5
}
