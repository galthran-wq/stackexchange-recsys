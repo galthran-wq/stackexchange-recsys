{
 "cells": [
  {
   "cell_type": "code",
   "id": "initial_id",
   "metadata": {
    "collapsed": true,
    "ExecuteTime": {
     "end_time": "2024-12-20T15:08:53.461833Z",
     "start_time": "2024-12-20T15:08:49.755908Z"
    }
   },
   "source": "from data_utils import load_data, preprocess_data_faiss, preprocess_data_faiss_test",
   "outputs": [],
   "execution_count": 1
  },
  {
   "metadata": {
    "ExecuteTime": {
     "end_time": "2024-12-20T15:09:10.057127Z",
     "start_time": "2024-12-20T15:08:53.952126Z"
    }
   },
   "cell_type": "code",
   "source": "data = load_data(\"data\")",
   "id": "d3107880e814ff45",
   "outputs": [],
   "execution_count": 2
  },
  {
   "metadata": {
    "ExecuteTime": {
     "end_time": "2024-12-20T15:20:40.885463Z",
     "start_time": "2024-12-20T15:10:13.048978Z"
    }
   },
   "cell_type": "code",
   "source": [
    "embeddings = preprocess_data_faiss(data)\n",
    "embeddings.shape"
   ],
   "id": "e30e6084b6fb7532",
   "outputs": [
    {
     "name": "stderr",
     "output_type": "stream",
     "text": [
      "/mnt/c/Users/Raman/PycharmProjects/stackexchange-recsys/data_utils.py:200: SettingWithCopyWarning: \n",
      "A value is trying to be set on a copy of a slice from a DataFrame.\n",
      "Try using .loc[row_indexer,col_indexer] = value instead\n",
      "\n",
      "See the caveats in the documentation: https://pandas.pydata.org/pandas-docs/stable/user_guide/indexing.html#returning-a-view-versus-a-copy\n",
      "  posts[\"body\"] = posts[\"body\"].map(clean_html)\n"
     ]
    },
    {
     "data": {
      "text/plain": [
       "(11812, 2048)"
      ]
     },
     "execution_count": 3,
     "metadata": {},
     "output_type": "execute_result"
    }
   ],
   "execution_count": 3
  },
  {
   "metadata": {
    "ExecuteTime": {
     "end_time": "2024-12-20T15:20:45.210184Z",
     "start_time": "2024-12-20T15:20:41.662191Z"
    }
   },
   "cell_type": "code",
   "source": [
    "posts, test_data = preprocess_data_faiss_test(data)\n",
    "test_data"
   ],
   "id": "9cd7d2551cdf3c17",
   "outputs": [
    {
     "name": "stderr",
     "output_type": "stream",
     "text": [
      "/mnt/c/Users/Raman/PycharmProjects/stackexchange-recsys/data_utils.py:213: SettingWithCopyWarning: \n",
      "A value is trying to be set on a copy of a slice from a DataFrame.\n",
      "Try using .loc[row_indexer,col_indexer] = value instead\n",
      "\n",
      "See the caveats in the documentation: https://pandas.pydata.org/pandas-docs/stable/user_guide/indexing.html#returning-a-view-versus-a-copy\n",
      "  posts[\"id\"] = posts[\"id\"].astype(\"int32\")\n"
     ]
    },
    {
     "data": {
      "text/plain": [
       "      postid  relatedpostid  linktypeid\n",
       "0       5620           3624           1\n",
       "1       5129           4967           1\n",
       "2       5800            174           1\n",
       "3       3418            121           1\n",
       "4       3317           1815           1\n",
       "...      ...            ...         ...\n",
       "4267     174            970           1\n",
       "4268   10224          10194           1\n",
       "4269    5464           2711           1\n",
       "4270    3706           3184           1\n",
       "4271     103            101           1\n",
       "\n",
       "[3717 rows x 3 columns]"
      ],
      "text/html": [
       "<div>\n",
       "<style scoped>\n",
       "    .dataframe tbody tr th:only-of-type {\n",
       "        vertical-align: middle;\n",
       "    }\n",
       "\n",
       "    .dataframe tbody tr th {\n",
       "        vertical-align: top;\n",
       "    }\n",
       "\n",
       "    .dataframe thead th {\n",
       "        text-align: right;\n",
       "    }\n",
       "</style>\n",
       "<table border=\"1\" class=\"dataframe\">\n",
       "  <thead>\n",
       "    <tr style=\"text-align: right;\">\n",
       "      <th></th>\n",
       "      <th>postid</th>\n",
       "      <th>relatedpostid</th>\n",
       "      <th>linktypeid</th>\n",
       "    </tr>\n",
       "  </thead>\n",
       "  <tbody>\n",
       "    <tr>\n",
       "      <th>0</th>\n",
       "      <td>5620</td>\n",
       "      <td>3624</td>\n",
       "      <td>1</td>\n",
       "    </tr>\n",
       "    <tr>\n",
       "      <th>1</th>\n",
       "      <td>5129</td>\n",
       "      <td>4967</td>\n",
       "      <td>1</td>\n",
       "    </tr>\n",
       "    <tr>\n",
       "      <th>2</th>\n",
       "      <td>5800</td>\n",
       "      <td>174</td>\n",
       "      <td>1</td>\n",
       "    </tr>\n",
       "    <tr>\n",
       "      <th>3</th>\n",
       "      <td>3418</td>\n",
       "      <td>121</td>\n",
       "      <td>1</td>\n",
       "    </tr>\n",
       "    <tr>\n",
       "      <th>4</th>\n",
       "      <td>3317</td>\n",
       "      <td>1815</td>\n",
       "      <td>1</td>\n",
       "    </tr>\n",
       "    <tr>\n",
       "      <th>...</th>\n",
       "      <td>...</td>\n",
       "      <td>...</td>\n",
       "      <td>...</td>\n",
       "    </tr>\n",
       "    <tr>\n",
       "      <th>4267</th>\n",
       "      <td>174</td>\n",
       "      <td>970</td>\n",
       "      <td>1</td>\n",
       "    </tr>\n",
       "    <tr>\n",
       "      <th>4268</th>\n",
       "      <td>10224</td>\n",
       "      <td>10194</td>\n",
       "      <td>1</td>\n",
       "    </tr>\n",
       "    <tr>\n",
       "      <th>4269</th>\n",
       "      <td>5464</td>\n",
       "      <td>2711</td>\n",
       "      <td>1</td>\n",
       "    </tr>\n",
       "    <tr>\n",
       "      <th>4270</th>\n",
       "      <td>3706</td>\n",
       "      <td>3184</td>\n",
       "      <td>1</td>\n",
       "    </tr>\n",
       "    <tr>\n",
       "      <th>4271</th>\n",
       "      <td>103</td>\n",
       "      <td>101</td>\n",
       "      <td>1</td>\n",
       "    </tr>\n",
       "  </tbody>\n",
       "</table>\n",
       "<p>3717 rows × 3 columns</p>\n",
       "</div>"
      ]
     },
     "execution_count": 4,
     "metadata": {},
     "output_type": "execute_result"
    }
   ],
   "execution_count": 4
  },
  {
   "metadata": {
    "ExecuteTime": {
     "end_time": "2024-12-20T15:20:46.378198Z",
     "start_time": "2024-12-20T15:20:45.233916Z"
    }
   },
   "cell_type": "code",
   "source": [
    "import faiss\n",
    "import numpy as np"
   ],
   "id": "8b3347ad0d980eb",
   "outputs": [],
   "execution_count": 5
  },
  {
   "metadata": {
    "ExecuteTime": {
     "end_time": "2024-12-20T15:20:48.821830Z",
     "start_time": "2024-12-20T15:20:46.455447Z"
    }
   },
   "cell_type": "code",
   "source": [
    "index = faiss.IndexFlatL2(embeddings.shape[1])\n",
    "index.add(embeddings)"
   ],
   "id": "86c48a2ba53728a3",
   "outputs": [],
   "execution_count": 6
  },
  {
   "metadata": {
    "ExecuteTime": {
     "end_time": "2024-12-20T15:20:50.145050Z",
     "start_time": "2024-12-20T15:20:48.866765Z"
    }
   },
   "cell_type": "code",
   "source": "test_embeddings = embeddings[test_data[\"postid\"]]",
   "id": "26be9da73db98aaa",
   "outputs": [],
   "execution_count": 7
  },
  {
   "metadata": {
    "ExecuteTime": {
     "end_time": "2024-12-20T15:20:57.425848Z",
     "start_time": "2024-12-20T15:20:53.938874Z"
    }
   },
   "cell_type": "code",
   "source": [
    "for k in range(6, 22, 5):\n",
    "    D, I = index.search(test_embeddings, k=k)\n",
    "\n",
    "    correct = 0\n",
    "\n",
    "    for related_post_id, recommendations in zip(test_data[\"relatedpostid\"], I):\n",
    "        if related_post_id in I:\n",
    "            correct += 1\n",
    "\n",
    "    print(f\"Recall@k (k = {k - 1}): {correct / test_data.shape[0]}\")"
   ],
   "id": "44a0c45ce8927c83",
   "outputs": [
    {
     "name": "stdout",
     "output_type": "stream",
     "text": [
      "Recall@k (k = 5): 0.8625235404896422\n",
      "Recall@k (k = 10): 0.9383911756793113\n",
      "Recall@k (k = 15): 0.9607210115684692\n",
      "Recall@k (k = 20): 0.9709443099273608\n"
     ]
    }
   ],
   "execution_count": 8
  },
  {
   "metadata": {
    "ExecuteTime": {
     "end_time": "2024-12-20T16:16:33.828066Z",
     "start_time": "2024-12-20T16:16:33.452308Z"
    }
   },
   "cell_type": "code",
   "source": "from sklearn.decomposition import PCA",
   "id": "4732ec149086b8c4",
   "outputs": [],
   "execution_count": 23
  },
  {
   "metadata": {
    "ExecuteTime": {
     "end_time": "2024-12-20T16:17:54.421178Z",
     "start_time": "2024-12-20T16:17:53.563063Z"
    }
   },
   "cell_type": "code",
   "source": [
    "pca = PCA(n_components=128)\n",
    "reduced_embeddings = pca.fit_transform(embeddings)"
   ],
   "id": "4163928447eaff8b",
   "outputs": [],
   "execution_count": 30
  },
  {
   "metadata": {
    "ExecuteTime": {
     "end_time": "2024-12-20T16:17:56.025385Z",
     "start_time": "2024-12-20T16:17:55.351230Z"
    }
   },
   "cell_type": "code",
   "source": [
    "index = faiss.IndexFlatL2(reduced_embeddings.shape[1])\n",
    "index.add(reduced_embeddings)\n",
    "test_embeddings = reduced_embeddings[test_data[\"postid\"]]\n",
    "\n",
    "for k in range(6, 22, 5):\n",
    "    D, I = index.search(test_embeddings, k=k)\n",
    "\n",
    "    correct = 0\n",
    "\n",
    "    for related_post_id, recommendations in zip(test_data[\"relatedpostid\"], I):\n",
    "        if related_post_id in I:\n",
    "            correct += 1\n",
    "\n",
    "    print(f\"Recall@k (k = {k - 1}): {correct / test_data.shape[0]}\")"
   ],
   "id": "7dc54f3b0080263f",
   "outputs": [
    {
     "name": "stdout",
     "output_type": "stream",
     "text": [
      "Recall@k (k = 5): 0.8810868980360506\n",
      "Recall@k (k = 10): 0.9383911756793113\n",
      "Recall@k (k = 15): 0.9704062415926823\n",
      "Recall@k (k = 20): 0.9808985741189131\n"
     ]
    }
   ],
   "execution_count": 31
  },
  {
   "metadata": {
    "ExecuteTime": {
     "end_time": "2024-12-20T15:21:04.167234Z",
     "start_time": "2024-12-20T15:21:04.152835Z"
    }
   },
   "cell_type": "code",
   "source": [
    "random_embedding = embeddings[\n",
    "    np.random.choice(embeddings.shape[0])\n",
    "].reshape(1, -1)"
   ],
   "id": "50ac79512cb65b44",
   "outputs": [],
   "execution_count": 9
  },
  {
   "metadata": {
    "ExecuteTime": {
     "end_time": "2024-12-20T15:21:05.382213Z",
     "start_time": "2024-12-20T15:21:05.348698Z"
    }
   },
   "cell_type": "code",
   "source": "D, I = index.search(random_embedding, k=6)",
   "id": "dd54a380e05a4080",
   "outputs": [],
   "execution_count": 10
  },
  {
   "metadata": {
    "ExecuteTime": {
     "end_time": "2024-12-20T15:21:06.170137Z",
     "start_time": "2024-12-20T15:21:06.164300Z"
    }
   },
   "cell_type": "code",
   "source": [
    "print(f\"Distances: {D}\")\n",
    "print(f\"Indices: {I}\")"
   ],
   "id": "478cdd20980e0092",
   "outputs": [
    {
     "name": "stdout",
     "output_type": "stream",
     "text": [
      "Distances: [[0.        1.176375  1.2567656 1.3929937 1.4644415 1.4777496]]\n",
      "Indices: [[ 4044  2014  3880 11395  3324   693]]\n"
     ]
    }
   ],
   "execution_count": 11
  },
  {
   "metadata": {
    "ExecuteTime": {
     "end_time": "2024-12-20T15:21:07.127470Z",
     "start_time": "2024-12-20T15:21:07.118141Z"
    }
   },
   "cell_type": "code",
   "source": [
    "print(\n",
    "    f\"===ORIGINAL POST===\\n\"\n",
    "    f\"TITLE: {posts['title'].iloc[I[0][0]]}\\n\"\n",
    "    f\"CONTENT: {posts['body'].iloc[I[0][0]]}\"\n",
    ")\n",
    "\n",
    "for i in range(1, 6):\n",
    "    print(\n",
    "        f\"===RECOMMENDATION {i} (distance = {D[0][i]})===\\n\"\n",
    "        f\"TITLE: {posts['title'].iloc[I[0][i]]}\\n\"\n",
    "        f\"CONTENT: {posts['body'].iloc[I[0][i]]}\"\n",
    "    )"
   ],
   "id": "9ac07237438060e9",
   "outputs": [
    {
     "name": "stdout",
     "output_type": "stream",
     "text": [
      "===ORIGINAL POST===\n",
      "TITLE: How long does grease take to go bad/rancid when sitting out?\n",
      "CONTENT: If I make a skillet full of bacon, how long can I leave the grease sitting out before it is unsafe/rancid?  Is the answer different for ground beef grease?\n",
      "\n",
      "===RECOMMENDATION 1 (distance = 1.1763750314712524)===\n",
      "TITLE: How long will grease (from bacon or roast) keep in the fridge?\n",
      "CONTENT: I kept all of the bacon grease from making bacon this weekend, and now I have a jar of solidified grease in the fridge. How long can I use this to impart bacony goodness to my fried vegetables before it goes bad?\n",
      "What is the shelf life of the fat drippings from bacon, roast and other meats?\n",
      "\n",
      "===RECOMMENDATION 2 (distance = 1.256765604019165)===\n",
      "TITLE: How long can I reuse this delicious bacon grease for cooking?\n",
      "CONTENT: I cooked some bacon about a week ago and left the grease in the pan.  I've used it the last two nights with great success for cooking other meals.\n",
      "How long is it safe to reuse?  I figure since I'm heating it up to a million degrees each time I use it it's probably pretty safe, but.... I'd rather not get food poisoning.\n",
      "\n",
      "===RECOMMENDATION 3 (distance = 1.392993688583374)===\n",
      "TITLE: how long can I leave cooked meat out on the counter before it goes bad?\n",
      "CONTENT: How long can I leave cooked meat on the counter before it goes bad and I can't use it?\n",
      "\n",
      "===RECOMMENDATION 4 (distance = 1.4644415378570557)===\n",
      "TITLE: How to clean grease efficiently?\n",
      "CONTENT: I've started frying recently, but already the grip of the basket has become sticky with oil, grease or whatever you call it... I've put the basket in the dishwasher, but with no effect. I guess it could be cleaned without effort with ammoniac, but that's a substance I'm not to fond of.\n",
      "Any suggestions, apart from elbow-grease? \n",
      "\n",
      "===RECOMMENDATION 5 (distance = 1.4777495861053467)===\n",
      "TITLE: How do you put out a grease fire?\n",
      "CONTENT: I recently had a grease fire - the pan caught on fire from a little fat that spilled over the skillet. Is there a safe, quick way to put out a fire like this?\n",
      "\n"
     ]
    }
   ],
   "execution_count": 12
  }
 ],
 "metadata": {
  "kernelspec": {
   "display_name": "Python 3",
   "language": "python",
   "name": "python3"
  },
  "language_info": {
   "codemirror_mode": {
    "name": "ipython",
    "version": 2
   },
   "file_extension": ".py",
   "mimetype": "text/x-python",
   "name": "python",
   "nbconvert_exporter": "python",
   "pygments_lexer": "ipython2",
   "version": "2.7.6"
  }
 },
 "nbformat": 4,
 "nbformat_minor": 5
}
