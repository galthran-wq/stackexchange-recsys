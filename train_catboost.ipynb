{
 "cells": [
  {
   "cell_type": "code",
   "execution_count": 1,
   "metadata": {
    "ExecuteTime": {
     "end_time": "2024-12-19T23:38:54.800190Z",
     "start_time": "2024-12-19T23:38:49.003621Z"
    }
   },
   "outputs": [],
   "source": [
    "from data_utils import extract_data, load_data, preprocess_data\n",
    "import pandas as pd\n"
   ]
  },
  {
   "cell_type": "code",
   "execution_count": 2,
   "metadata": {
    "ExecuteTime": {
     "end_time": "2024-12-19T23:39:12.632616Z",
     "start_time": "2024-12-19T23:38:54.805451Z"
    }
   },
   "outputs": [],
   "source": [
    "data = load_data(\"data\")"
   ]
  },
  {
   "cell_type": "code",
   "execution_count": 3,
   "metadata": {
    "ExecuteTime": {
     "end_time": "2024-12-20T00:13:16.956210Z",
     "start_time": "2024-12-19T23:39:12.869105Z"
    }
   },
   "outputs": [
    {
     "name": "stderr",
     "output_type": "stream",
     "text": [
      "/home/leo/recsys/data_utils.py:113: SettingWithCopyWarning: \n",
      "A value is trying to be set on a copy of a slice from a DataFrame.\n",
      "Try using .loc[row_indexer,col_indexer] = value instead\n",
      "\n",
      "See the caveats in the documentation: https://pandas.pydata.org/pandas-docs/stable/user_guide/indexing.html#returning-a-view-versus-a-copy\n",
      "  posts_features['body'] = posts_features['body'].map(clean_html)\n"
     ]
    },
    {
     "data": {
      "application/vnd.jupyter.widget-view+json": {
       "model_id": "4ba20996926d4bfb890919216ab1c4bf",
       "version_major": 2,
       "version_minor": 0
      },
      "text/plain": [
       "Batches:   0%|          | 0/370 [00:00<?, ?it/s]"
      ]
     },
     "metadata": {},
     "output_type": "display_data"
    },
    {
     "name": "stderr",
     "output_type": "stream",
     "text": [
      "/home/leo/recsys/venv/lib/python3.10/site-packages/sklearn/utils/deprecation.py:151: FutureWarning: 'force_all_finite' was renamed to 'ensure_all_finite' in 1.6 and will be removed in 1.8.\n",
      "  warnings.warn(\n",
      "huggingface/tokenizers: The current process just got forked, after parallelism has already been used. Disabling parallelism to avoid deadlocks...\n",
      "To disable this warning, you can either:\n",
      "\t- Avoid using `tokenizers` before the fork if possible\n",
      "\t- Explicitly set the environment variable TOKENIZERS_PARALLELISM=(true | false)\n"
     ]
    },
    {
     "data": {
      "application/vnd.jupyter.widget-view+json": {
       "model_id": "ddd624cfe9924485a594dd1fbc960784",
       "version_major": 2,
       "version_minor": 0
      },
      "text/plain": [
       "Batches:   0%|          | 0/370 [00:00<?, ?it/s]"
      ]
     },
     "metadata": {},
     "output_type": "display_data"
    },
    {
     "name": "stderr",
     "output_type": "stream",
     "text": [
      "/home/leo/recsys/venv/lib/python3.10/site-packages/sklearn/utils/deprecation.py:151: FutureWarning: 'force_all_finite' was renamed to 'ensure_all_finite' in 1.6 and will be removed in 1.8.\n",
      "  warnings.warn(\n"
     ]
    }
   ],
   "source": [
    "X_train, X_test, y_train, y_test = preprocess_data(\n",
    "    data,\n",
    "    add_post_text=True,\n",
    "    include_pooled_comments=False,\n",
    "    add_bertscore=False,\n",
    "    n_negative_samples_per_link=1,\n",
    "    add_title_embedding=True,\n",
    "    add_body_embedding=True,\n",
    "    title_embedding_dim=32,\n",
    "    body_embedding_dim=32,\n",
    ")"
   ]
  },
  {
   "cell_type": "code",
   "execution_count": 4,
   "metadata": {
    "ExecuteTime": {
     "end_time": "2024-12-20T00:13:34.261813Z",
     "start_time": "2024-12-20T00:13:34.230094Z"
    }
   },
   "outputs": [
    {
     "name": "stdout",
     "output_type": "stream",
     "text": [
      "<class 'pandas.core.frame.DataFrame'>\n",
      "Index: 6391 entries, 3806 to 7779\n",
      "Columns: 154 entries, id to comment_count_related\n",
      "dtypes: float32(128), float64(6), int64(1), object(19)\n",
      "memory usage: 4.4+ MB\n"
     ]
    }
   ],
   "source": [
    "X_train.info()"
   ]
  },
  {
   "cell_type": "code",
   "execution_count": 5,
   "metadata": {
    "ExecuteTime": {
     "end_time": "2024-12-20T00:13:35.244827Z",
     "start_time": "2024-12-20T00:13:35.229160Z"
    }
   },
   "outputs": [
    {
     "data": {
      "text/plain": [
       "linktypeid\n",
       "0    3407\n",
       "1    2984\n",
       "Name: count, dtype: int64"
      ]
     },
     "execution_count": 5,
     "metadata": {},
     "output_type": "execute_result"
    }
   ],
   "source": [
    "X_train[\"linktypeid\"].value_counts()"
   ]
  },
  {
   "cell_type": "code",
   "execution_count": 6,
   "metadata": {
    "ExecuteTime": {
     "end_time": "2024-12-20T00:13:36.202661Z",
     "start_time": "2024-12-20T00:13:36.181251Z"
    }
   },
   "outputs": [
    {
     "data": {
      "text/plain": [
       "linktypeid\n",
       "0    865\n",
       "1    733\n",
       "Name: count, dtype: int64"
      ]
     },
     "execution_count": 6,
     "metadata": {},
     "output_type": "execute_result"
    }
   ],
   "source": [
    "X_test[\"linktypeid\"].value_counts()"
   ]
  },
  {
   "cell_type": "code",
   "execution_count": 5,
   "metadata": {
    "ExecuteTime": {
     "end_time": "2024-12-20T00:18:04.231495Z",
     "start_time": "2024-12-20T00:13:41.194664Z"
    }
   },
   "outputs": [
    {
     "data": {
      "application/vnd.jupyter.widget-view+json": {
       "model_id": "b840da5453294d5f8e210e128365f4b0",
       "version_major": 2,
       "version_minor": 0
      },
      "text/plain": [
       "MetricVisualizer(layout=Layout(align_self='stretch', height='500px'))"
      ]
     },
     "metadata": {},
     "output_type": "display_data"
    },
    {
     "name": "stdout",
     "output_type": "stream",
     "text": [
      "0:\tlearn: 0.6642122\ttest: 0.6655945\tbest: 0.6655945 (0)\ttotal: 94.9ms\tremaining: 1m 34s\n",
      "100:\tlearn: 0.2567135\ttest: 0.2993851\tbest: 0.2993851 (100)\ttotal: 6.62s\tremaining: 58.9s\n",
      "200:\tlearn: 0.1665557\ttest: 0.2453283\tbest: 0.2453283 (200)\ttotal: 13.1s\tremaining: 52.1s\n",
      "300:\tlearn: 0.1283085\ttest: 0.2346417\tbest: 0.2344523 (296)\ttotal: 19.6s\tremaining: 45.4s\n",
      "400:\tlearn: 0.1004247\ttest: 0.2278117\tbest: 0.2278117 (400)\ttotal: 26.1s\tremaining: 38.9s\n",
      "500:\tlearn: 0.0818841\ttest: 0.2242600\tbest: 0.2241052 (492)\ttotal: 32.6s\tremaining: 32.5s\n",
      "600:\tlearn: 0.0673194\ttest: 0.2231829\tbest: 0.2231829 (600)\ttotal: 39.1s\tremaining: 26s\n",
      "700:\tlearn: 0.0558529\ttest: 0.2210017\tbest: 0.2210017 (700)\ttotal: 46s\tremaining: 19.6s\n",
      "800:\tlearn: 0.0480731\ttest: 0.2197535\tbest: 0.2196021 (772)\ttotal: 52.5s\tremaining: 13s\n",
      "900:\tlearn: 0.0416278\ttest: 0.2196730\tbest: 0.2193379 (821)\ttotal: 59s\tremaining: 6.48s\n",
      "999:\tlearn: 0.0364196\ttest: 0.2205989\tbest: 0.2193379 (821)\ttotal: 1m 5s\tremaining: 0us\n",
      "\n",
      "bestTest = 0.2193378544\n",
      "bestIteration = 821\n",
      "\n",
      "Shrink model to first 822 iterations.\n"
     ]
    },
    {
     "data": {
      "text/plain": [
       "<catboost.core.CatBoostClassifier at 0x7a3dd6a06ad0>"
      ]
     },
     "execution_count": 5,
     "metadata": {},
     "output_type": "execute_result"
    }
   ],
   "source": [
    "from catboost import CatBoostClassifier, Pool\n",
    "from sklearn.metrics import accuracy_score\n",
    "\n",
    "# Define categorical features indices if you have any\n",
    "categorical_features_indices = []  # e.g., [0, 1, 2] if your first three columns are categorical\n",
    "\n",
    "# Initialize CatBoostClassifier\n",
    "model = CatBoostClassifier(\n",
    "    iterations=1000,  # Number of boosting iterations\n",
    "    learning_rate=0.1,  # Learning rate\n",
    "    depth=6,  # Depth of the tree\n",
    "    cat_features=categorical_features_indices,  # Specify categorical features\n",
    "    # text_features=[\"body\", \"comments_text\", \"comments_text_related\", \"body_related\"],\n",
    "    text_features=[\"body\", \"body_related\", \"title\", \"title_related\"],\n",
    "    verbose=100  # Print training progress every 100 iterations\n",
    ")\n",
    "\n",
    "# Train the model\n",
    "model.fit(\n",
    "    X_train.drop(columns=[\"postid\", \"relatedpostid\", \"id\", \"creationdate\", \"postid_related\", \"linktypeid\"]),\n",
    "    y_train,\n",
    "    eval_set=(\n",
    "        X_test.drop(columns=[\"postid\", \"relatedpostid\", \"id\", \"creationdate\", \"postid_related\", \"linktypeid\"]),\n",
    "        y_test\n",
    "    ),\n",
    "    plot=True\n",
    ")\n"
   ]
  },
  {
   "cell_type": "code",
   "execution_count": 10,
   "metadata": {},
   "outputs": [
    {
     "name": "stdout",
     "output_type": "stream",
     "text": [
      "Accuracy: 0.9174\n"
     ]
    }
   ],
   "source": [
    "# Make predictions\n",
    "y_pred = model.predict(X_test.drop(columns=[\"postid\", \"relatedpostid\", \"id\", \"creationdate\", \"postid_related\", \"linktypeid\"]))\n",
    "# Evaluate the model\n",
    "accuracy = accuracy_score(y_test, y_pred)\n",
    "print(f\"Accuracy: {accuracy:.4f}\")"
   ]
  },
  {
   "cell_type": "code",
   "execution_count": 11,
   "metadata": {
    "ExecuteTime": {
     "end_time": "2024-12-20T00:18:10.923164Z",
     "start_time": "2024-12-20T00:18:10.891847Z"
    }
   },
   "outputs": [
    {
     "data": {
      "text/html": [
       "<div>\n",
       "<style scoped>\n",
       "    .dataframe tbody tr th:only-of-type {\n",
       "        vertical-align: middle;\n",
       "    }\n",
       "\n",
       "    .dataframe tbody tr th {\n",
       "        vertical-align: top;\n",
       "    }\n",
       "\n",
       "    .dataframe thead th {\n",
       "        text-align: right;\n",
       "    }\n",
       "</style>\n",
       "<table border=\"1\" class=\"dataframe\">\n",
       "  <thead>\n",
       "    <tr style=\"text-align: right;\">\n",
       "      <th></th>\n",
       "      <th>Feature Id</th>\n",
       "      <th>Importances</th>\n",
       "    </tr>\n",
       "  </thead>\n",
       "  <tbody>\n",
       "    <tr>\n",
       "      <th>0</th>\n",
       "      <td>body</td>\n",
       "      <td>7.595761</td>\n",
       "    </tr>\n",
       "    <tr>\n",
       "      <th>1</th>\n",
       "      <td>body_related</td>\n",
       "      <td>5.444646</td>\n",
       "    </tr>\n",
       "    <tr>\n",
       "      <th>2</th>\n",
       "      <td>vote_count_related</td>\n",
       "      <td>4.229183</td>\n",
       "    </tr>\n",
       "    <tr>\n",
       "      <th>3</th>\n",
       "      <td>title_related</td>\n",
       "      <td>2.746869</td>\n",
       "    </tr>\n",
       "    <tr>\n",
       "      <th>4</th>\n",
       "      <td>title</td>\n",
       "      <td>2.288367</td>\n",
       "    </tr>\n",
       "    <tr>\n",
       "      <th>...</th>\n",
       "      <td>...</td>\n",
       "      <td>...</td>\n",
       "    </tr>\n",
       "    <tr>\n",
       "      <th>141</th>\n",
       "      <td>body_embedding_9</td>\n",
       "      <td>0.055515</td>\n",
       "    </tr>\n",
       "    <tr>\n",
       "      <th>142</th>\n",
       "      <td>avg_comment_score_related</td>\n",
       "      <td>0.029222</td>\n",
       "    </tr>\n",
       "    <tr>\n",
       "      <th>143</th>\n",
       "      <td>comment_count_related</td>\n",
       "      <td>0.013717</td>\n",
       "    </tr>\n",
       "    <tr>\n",
       "      <th>144</th>\n",
       "      <td>commentcount_related</td>\n",
       "      <td>0.008301</td>\n",
       "    </tr>\n",
       "    <tr>\n",
       "      <th>145</th>\n",
       "      <td>body_embedding_25_related</td>\n",
       "      <td>0.000000</td>\n",
       "    </tr>\n",
       "  </tbody>\n",
       "</table>\n",
       "<p>146 rows × 2 columns</p>\n",
       "</div>"
      ],
      "text/plain": [
       "                    Feature Id  Importances\n",
       "0                         body     7.595761\n",
       "1                 body_related     5.444646\n",
       "2           vote_count_related     4.229183\n",
       "3                title_related     2.746869\n",
       "4                        title     2.288367\n",
       "..                         ...          ...\n",
       "141           body_embedding_9     0.055515\n",
       "142  avg_comment_score_related     0.029222\n",
       "143      comment_count_related     0.013717\n",
       "144       commentcount_related     0.008301\n",
       "145  body_embedding_25_related     0.000000\n",
       "\n",
       "[146 rows x 2 columns]"
      ]
     },
     "execution_count": 11,
     "metadata": {},
     "output_type": "execute_result"
    }
   ],
   "source": [
    "model.get_feature_importance(prettified=True)"
   ]
  },
  {
   "cell_type": "code",
   "execution_count": null,
   "metadata": {},
   "outputs": [],
   "source": []
  },
  {
   "cell_type": "markdown",
   "metadata": {},
   "source": [
    "# Calculate retrieve matrix"
   ]
  },
  {
   "cell_type": "code",
   "execution_count": 12,
   "metadata": {},
   "outputs": [],
   "source": [
    "X_test_wo = X_test.drop(columns=[\"postid\", \"relatedpostid\", \"id\", \"creationdate\", \"postid_related\", \"linktypeid\"])"
   ]
  },
  {
   "cell_type": "code",
   "execution_count": 13,
   "metadata": {},
   "outputs": [
    {
     "data": {
      "text/plain": [
       "(73, 73)"
      ]
     },
     "execution_count": 13,
     "metadata": {},
     "output_type": "execute_result"
    }
   ],
   "source": [
    "len([col for col in X_test_wo.columns if col.endswith(\"_related\")]), len(X_test_wo.columns) // 2"
   ]
  },
  {
   "cell_type": "code",
   "execution_count": 55,
   "metadata": {},
   "outputs": [
    {
     "name": "stdout",
     "output_type": "stream",
     "text": [
      "{'relatedpostid'}\n",
      "{'index'}\n"
     ]
    },
    {
     "name": "stderr",
     "output_type": "stream",
     "text": [
      "/tmp/ipykernel_174139/28004364.py:8: SettingWithCopyWarning: \n",
      "A value is trying to be set on a copy of a slice from a DataFrame\n",
      "\n",
      "See the caveats in the documentation: https://pandas.pydata.org/pandas-docs/stable/user_guide/indexing.html#returning-a-view-versus-a-copy\n",
      "  test_posts.drop(columns=[\"id\", \"creationdate\", \"linktypeid\"], inplace=True)\n",
      "/tmp/ipykernel_174139/28004364.py:9: SettingWithCopyWarning: \n",
      "A value is trying to be set on a copy of a slice from a DataFrame\n",
      "\n",
      "See the caveats in the documentation: https://pandas.pydata.org/pandas-docs/stable/user_guide/indexing.html#returning-a-view-versus-a-copy\n",
      "  test_posts.drop(columns=[col for col in posts.columns if col.endswith(\"_related\")], inplace=True)\n"
     ]
    },
    {
     "data": {
      "text/plain": [
       "(75, 75)"
      ]
     },
     "execution_count": 55,
     "metadata": {},
     "output_type": "execute_result"
    }
   ],
   "source": [
    "posts = pd.concat([\n",
    "    X_train[X_train[\"linktypeid\"] == 1], \n",
    "    X_test[X_test[\"linktypeid\"] == 1]\n",
    "]).groupby(\"postid\").first().reset_index(drop=False)\n",
    "posts = posts.loc[:, ~posts.columns.duplicated()]\n",
    "test_posts = posts[posts[\"postid\"].isin(X_test[\"postid\"])]\n",
    "\n",
    "test_posts.drop(columns=[\"id\", \"creationdate\", \"linktypeid\"], inplace=True)\n",
    "test_posts.drop(columns=[col for col in posts.columns if col.endswith(\"_related\")], inplace=True)\n",
    "\n",
    "related_columns = posts.filter(like='_related').rename(columns=lambda x: x.replace('_related', ''))\n",
    "posts.drop(columns=[col for col in posts.columns if col.endswith(\"_related\")], inplace=True)\n",
    "posts.drop(columns=['id', 'creationdate', 'relatedpostid', 'linktypeid'], inplace=True)\n",
    "posts.reset_index(drop=True, inplace=True)\n",
    "related_columns.reset_index(drop=False, inplace=True)\n",
    "# print([ col for col in related_columns.columns if col not in posts.columns])\n",
    "# print([ col for col in posts.columns if col not in related_columns.columns])\n",
    "posts = pd.concat([posts, related_columns], axis=0, ignore_index=True)\n",
    "posts = posts.groupby(\"postid\").first().reset_index(drop=False)\n",
    "\n",
    "print(set(test_posts.columns) - set(posts.columns))\n",
    "print(set(posts.columns) - set(test_posts.columns))\n",
    "len(test_posts.columns), len(posts.columns)"
   ]
  },
  {
   "cell_type": "code",
   "execution_count": 56,
   "metadata": {},
   "outputs": [
    {
     "data": {
      "text/plain": [
       "(3754, 805)"
      ]
     },
     "execution_count": 56,
     "metadata": {},
     "output_type": "execute_result"
    }
   ],
   "source": [
    "len(posts), len(test_posts)"
   ]
  },
  {
   "cell_type": "code",
   "execution_count": 57,
   "metadata": {},
   "outputs": [],
   "source": [
    "train_columns = X_train.drop(columns=[\"postid\", \"relatedpostid\", \"id\", \"creationdate\", \"postid_related\", \"linktypeid\"]).columns"
   ]
  },
  {
   "cell_type": "code",
   "execution_count": 61,
   "metadata": {},
   "outputs": [],
   "source": [
    "from sklearn.metrics import ndcg_score\n",
    "from tqdm.auto import tqdm\n",
    "\n",
    "def compute_retrieve_metrics(model, test_posts, posts, ks=[5, 10, 30, 50, 100]):\n",
    "    results = {k: {'ndcg_scores': [], 'recall_scores': []} for k in ks}\n",
    "\n",
    "    for idx, test_post in tqdm(test_posts.iterrows()):\n",
    "        # Concatenate test post features with all posts\n",
    "        true_doc = test_post[\"relatedpostid\"]\n",
    "        test_post.drop(columns=[\"relatedpostid\"], inplace=True)\n",
    "        combined = pd.concat([test_post.to_frame().T] * len(posts), ignore_index=True)\n",
    "        combined = pd.concat([combined.reset_index(drop=True), posts.add_suffix('_related')], axis=1)\n",
    "        combined = combined[train_columns]\n",
    "        \n",
    "        # Compute model scores\n",
    "        scores = model.predict_proba(combined)[:, 1]\n",
    "        \n",
    "        for k in ks:\n",
    "            # Get top k posts\n",
    "            top_k_indices = scores.argsort()[-k:][::-1]\n",
    "            top_k_posts = posts.iloc[top_k_indices]\n",
    "            \n",
    "            # Compute recall@k\n",
    "            recall_at_k = 1 if true_doc in top_k_posts[\"postid\"].values else 0\n",
    "            results[k]['recall_scores'].append(recall_at_k)\n",
    "            \n",
    "            # Compute ndcg@k\n",
    "            true_relevance = [1 if post_id == true_doc else 0 for post_id in top_k_posts[\"postid\"]]\n",
    "            ndcg_at_k = ndcg_score([true_relevance], [scores[top_k_indices]])\n",
    "            results[k]['ndcg_scores'].append(ndcg_at_k)\n",
    "    \n",
    "    avg_results = {}\n",
    "    for k in ks:\n",
    "        avg_recall_at_k = sum(results[k]['recall_scores']) / len(results[k]['recall_scores'])\n",
    "        avg_ndcg_at_k = sum(results[k]['ndcg_scores']) / len(results[k]['ndcg_scores'])\n",
    "        avg_results[k] = (avg_recall_at_k, avg_ndcg_at_k)\n",
    "    \n",
    "    return avg_results\n"
   ]
  },
  {
   "cell_type": "code",
   "execution_count": 64,
   "metadata": {},
   "outputs": [
    {
     "data": {
      "application/vnd.jupyter.widget-view+json": {
       "model_id": "438f66ef01fe40748f720a8e37b88373",
       "version_major": 2,
       "version_minor": 0
      },
      "text/plain": [
       "0it [00:00, ?it/s]"
      ]
     },
     "metadata": {},
     "output_type": "display_data"
    },
    {
     "name": "stdout",
     "output_type": "stream",
     "text": [
      "Average Recall@5: 0.24720496894409938\n",
      "Average NDCG@5: 0.1611236824458043\n",
      "Average Recall@10: 0.37267080745341613\n",
      "Average NDCG@10: 0.20207455321651535\n",
      "Average Recall@30: 0.5565217391304348\n",
      "Average NDCG@30: 0.24589369414980294\n",
      "Average Recall@50: 0.6409937888198758\n",
      "Average NDCG@50: 0.2618682111361976\n",
      "Average Recall@100: 0.7565217391304347\n",
      "Average NDCG@100: 0.28063081048908284\n"
     ]
    }
   ],
   "source": [
    "avg_results = compute_retrieve_metrics(model, test_posts, posts)\n",
    "for k in avg_results.keys():\n",
    "    print(f\"Average Recall@{k}: {avg_results[k][0]}\")\n",
    "    print(f\"Average NDCG@{k}: {avg_results[k][1]}\")"
   ]
  },
  {
   "cell_type": "code",
   "execution_count": 65,
   "metadata": {},
   "outputs": [
    {
     "data": {
      "application/vnd.jupyter.widget-view+json": {
       "model_id": "828c34a2ab454b4394e1baa143197436",
       "version_major": 2,
       "version_minor": 0
      },
      "text/plain": [
       "  0%|          | 0/10 [00:00<?, ?it/s]"
      ]
     },
     "metadata": {},
     "output_type": "display_data"
    },
    {
     "name": "stdout",
     "output_type": "stream",
     "text": [
      "Test Post ID: 10042\n",
      "Test Post Title: How to make softer biscuits?\n",
      "Test Post Body: Sorry to ask a rather non-specific question, but I am actually trying to formulate an example. Suppo...\n",
      "Top 5 closest documents:\n",
      "----------------------------------------------------------------------------------------------------\n",
      "Post ID: 784\n",
      "Title: Translating cooking terms between US / UK / AU / CA / NZ\n",
      "Body: This post is an attempt to keep track of the terms that differ between dialects of English or exist ...\n",
      "----------------------------------------------------------------------------------------------------\n",
      "----------------------------------------------------------------------------------------------------\n",
      "Post ID: 14789\n",
      "Title: Difference between Maida and All purpose flour\n",
      "Body: I'm baking tonight and I'm out of All purpose flour. I'm lazy to run out to the grocery store. Can I...\n",
      "----------------------------------------------------------------------------------------------------\n",
      "----------------------------------------------------------------------------------------------------\n",
      "Post ID: 6227\n",
      "Title: Butter substitute for 1 cup of butter for baking\n",
      "Body: What can I substitute for 1 cup of butter in baking recipes (e.g. cookies, muffins, cakes, etc.)?\n",
      "I'...\n",
      "----------------------------------------------------------------------------------------------------\n",
      "----------------------------------------------------------------------------------------------------\n",
      "Post ID: 5273\n",
      "Title: What is the purpose of sifting dry ingredients?\n",
      "Body: What is the purpose of sifting dry ingredients (esp. with flour)?\n",
      "I heard in one place that it was b...\n",
      "----------------------------------------------------------------------------------------------------\n",
      "----------------------------------------------------------------------------------------------------\n",
      "Post ID: 35814\n",
      "Title: Are there any general principles of ingredient substitutions?\n",
      "Body: When trying to determine if an ingredient can be substituted in a recipe, are there any general prin...\n",
      "----------------------------------------------------------------------------------------------------\n",
      "\n",
      "\n",
      "Test Post ID: 10070\n",
      "Test Post Title: 1/4 cup of shredded basil OR 1/4 cup of basil that is then shredded?\n",
      "Test Post Body: I am thinking of making a Chicken Parmigiana that I found on the Lidia's Italy website - http://lidi...\n",
      "Top 5 closest documents:\n",
      "----------------------------------------------------------------------------------------------------\n",
      "Post ID: 3142\n",
      "Title: What is a good use for lots of fresh cilantro?\n",
      "Body: I have a few recipes I like to make which call for fresh cilantro, but when I buy it at the store it...\n",
      "----------------------------------------------------------------------------------------------------\n",
      "----------------------------------------------------------------------------------------------------\n",
      "Post ID: 784\n",
      "Title: Translating cooking terms between US / UK / AU / CA / NZ\n",
      "Body: This post is an attempt to keep track of the terms that differ between dialects of English or exist ...\n",
      "----------------------------------------------------------------------------------------------------\n",
      "----------------------------------------------------------------------------------------------------\n",
      "Post ID: 24227\n",
      "Title: Is it worth tearing lettuce for salad?\n",
      "Body: I have read that cut lettuce is more likely to brown on the edges than torn lettuce. The stated reas...\n",
      "----------------------------------------------------------------------------------------------------\n",
      "----------------------------------------------------------------------------------------------------\n",
      "Post ID: 164\n",
      "Title: When, if ever, are dried herbs preferable to fresh herbs?\n",
      "Body: Sometimes I see a recipe call for dried herbs. If I have access to fresh herbs, should I go fresh in...\n",
      "----------------------------------------------------------------------------------------------------\n",
      "----------------------------------------------------------------------------------------------------\n",
      "Post ID: 6620\n",
      "Title: How can you reduce the heat of a chili pepper?\n",
      "Body: There are many chilis that have amazing flavors but are so hot that it is hard for most of us to app...\n",
      "----------------------------------------------------------------------------------------------------\n",
      "\n",
      "\n",
      "Test Post ID: 10280\n",
      "Test Post Title: What can I do with frozen eggs?\n",
      "Test Post Body: Although a previous question asks if raw eggs can be frozen, my eggs froze, in the shell, because th...\n",
      "Top 5 closest documents:\n",
      "----------------------------------------------------------------------------------------------------\n",
      "Post ID: 14287\n",
      "Title: Are refrigerated hard boild eggs really unsafe after a week?\n",
      "Body: Most sites that I've googled (such as http://www.ochef.com/1009.htm, and http://whatscookingamerica....\n",
      "----------------------------------------------------------------------------------------------------\n",
      "----------------------------------------------------------------------------------------------------\n",
      "Post ID: 1672\n",
      "Title: Should I refrigerate eggs?\n",
      "Body: I've read a lot of conflicting advice on whether it's advisable to store eggs in the refrigerator. T...\n",
      "----------------------------------------------------------------------------------------------------\n",
      "----------------------------------------------------------------------------------------------------\n",
      "Post ID: 7663\n",
      "Title: How long can I keep eggs in the refrigerator?\n",
      "Body: To keep eggs useful and healthy, what is the average time I can keep them in refrigerator?   Can I f...\n",
      "----------------------------------------------------------------------------------------------------\n",
      "----------------------------------------------------------------------------------------------------\n",
      "Post ID: 2957\n",
      "Title: Is it safe to eat raw eggs?\n",
      "Body: I have a friend that is training for a marathon and he drinks 6 raw eggs before running (Yes, like R...\n",
      "----------------------------------------------------------------------------------------------------\n",
      "----------------------------------------------------------------------------------------------------\n",
      "Post ID: 14775\n",
      "Title: How long can eggs be unrefrigerated before becoming unsafe to eat?\n",
      "Body: A friend of mine accidentally left a carton of eggs on her counter, unrefrigerated, for three days. ...\n",
      "----------------------------------------------------------------------------------------------------\n",
      "\n",
      "\n",
      "Test Post ID: 10315\n",
      "Test Post Title: How can I ensure food safety if my cooking utensils have touched raw meat?\n",
      "Test Post Body: Twice in the past week or so, I've wondered whether my cooking utensil was still clean enough to coo...\n",
      "Top 5 closest documents:\n",
      "----------------------------------------------------------------------------------------------------\n",
      "Post ID: 45082\n",
      "Title: Are there books describing the general principles of cooking?\n",
      "Body: Perhaps my question is too weird, but whenever I read a book on cooking, it's just a list full of re...\n",
      "----------------------------------------------------------------------------------------------------\n",
      "----------------------------------------------------------------------------------------------------\n",
      "Post ID: 784\n",
      "Title: Translating cooking terms between US / UK / AU / CA / NZ\n",
      "Body: This post is an attempt to keep track of the terms that differ between dialects of English or exist ...\n",
      "----------------------------------------------------------------------------------------------------\n",
      "----------------------------------------------------------------------------------------------------\n",
      "Post ID: 5815\n",
      "Title: Why does my food turn out poorly using an All-Clad Stainless-Steel Fry Pan?\n",
      "Body: I have an All-Clad frying pan, the precise one shown below:\n",
      "http://www.amazon.com/gp/product/B00005A...\n",
      "----------------------------------------------------------------------------------------------------\n",
      "----------------------------------------------------------------------------------------------------\n",
      "Post ID: 2880\n",
      "Title: How can brown stains be removed from pots and pans?\n",
      "Body: I haven't been cooking for long — recent college grad — so I'm doing a lot of experimentation and ma...\n",
      "----------------------------------------------------------------------------------------------------\n",
      "----------------------------------------------------------------------------------------------------\n",
      "Post ID: 3122\n",
      "Title: Difference in technique for cooking with non-stick and standard pans?\n",
      "Body: Following up from my previous question, which I'd raised because I have concerns that my non-stick w...\n",
      "----------------------------------------------------------------------------------------------------\n",
      "\n",
      "\n",
      "Test Post ID: 10494\n",
      "Test Post Title: What is the difference between coffee grinds/beans labeled as \"espresso coffee\" and ordinary coffee?\n",
      "Test Post Body: I was reminded of this curiosity just moments ago when I got a craving for coffee and couldn't find ...\n",
      "Top 5 closest documents:\n",
      "----------------------------------------------------------------------------------------------------\n",
      "Post ID: 1859\n",
      "Title: Caffeine content of cold-brewed coffee: higher or lower than hot-brewed?\n",
      "Body: I recently rediscovered the joys of cold-brewing coffee. (One level cup of rough-ground beans, 4-1/2...\n",
      "----------------------------------------------------------------------------------------------------\n",
      "----------------------------------------------------------------------------------------------------\n",
      "Post ID: 11162\n",
      "Title: What's the Ideal Coffee to Water Ratio for a French Press?\n",
      "Body: What's the ideal amount of coffee to use per cup of water in a French press? \n",
      "I've looked at various...\n",
      "----------------------------------------------------------------------------------------------------\n",
      "----------------------------------------------------------------------------------------------------\n",
      "Post ID: 4996\n",
      "Title: Ideal coffee grind for a French Press?\n",
      "Body: I recently picked up this Bodum \"French Press\" style coffee maker and so far, I'm really enjoying it...\n",
      "----------------------------------------------------------------------------------------------------\n",
      "----------------------------------------------------------------------------------------------------\n",
      "Post ID: 5900\n",
      "Title: What factors lead to rich crema on espresso?\n",
      "Body: I love espresso, especially when it has a rich crema (the head that forms on top of a well made shot...\n",
      "----------------------------------------------------------------------------------------------------\n",
      "----------------------------------------------------------------------------------------------------\n",
      "Post ID: 17225\n",
      "Title: How long is it safe to drink coffee after brewed?\n",
      "Body: How many hours/days would you recommend to drink coffee (after brewed) and consider it safe? (For ex...\n",
      "----------------------------------------------------------------------------------------------------\n",
      "\n",
      "\n",
      "Test Post ID: 10682\n",
      "Test Post Title: Best way to juice a pineapple\n",
      "Test Post Body: What's the best way to juice a pineapple? Should the whole fruit be used or should the core be disca...\n",
      "Top 5 closest documents:\n",
      "----------------------------------------------------------------------------------------------------\n",
      "Post ID: 46494\n",
      "Title: Browning Avocados - What Helps?\n",
      "Body: Years ago Koobz asked \"Oxidized Avocado: What's Going on & How to Prevent It?\" That question has bee...\n",
      "----------------------------------------------------------------------------------------------------\n",
      "----------------------------------------------------------------------------------------------------\n",
      "Post ID: 914\n",
      "Title: How do I pick a watermelon at the supermarket?\n",
      "Body: Lately, every watermelon I bring home form the organic section of the supermarket has not been sweet...\n",
      "----------------------------------------------------------------------------------------------------\n",
      "----------------------------------------------------------------------------------------------------\n",
      "Post ID: 4993\n",
      "Title: How should I organize my fruits for storage?\n",
      "Body: As I learnt from this post, there are some fruits that should not be kept together with the others (...\n",
      "----------------------------------------------------------------------------------------------------\n",
      "----------------------------------------------------------------------------------------------------\n",
      "Post ID: 11408\n",
      "Title: Juice Concentrate Manufacturing and Process?\n",
      "Body: I was doing some research into juice production, some of the companies have suppliers who make the j...\n",
      "----------------------------------------------------------------------------------------------------\n",
      "----------------------------------------------------------------------------------------------------\n",
      "Post ID: 109\n",
      "Title: Why does a brown paper bag speed ripening?\n",
      "Body: I often see this technique suggested as a way to speed ripening. Why does it?\n",
      "Also, is there any dat...\n",
      "----------------------------------------------------------------------------------------------------\n",
      "\n",
      "\n",
      "Test Post ID: 10707\n",
      "Test Post Title: How do I stop the spatter?\n",
      "Test Post Body: \n",
      "Possible Duplicate:\n",
      "Anyway to avoid grease splatter? \n",
      "\n",
      "I am trying to work on using my stove more o...\n",
      "Top 5 closest documents:\n",
      "----------------------------------------------------------------------------------------------------\n",
      "Post ID: 2880\n",
      "Title: How can brown stains be removed from pots and pans?\n",
      "Body: I haven't been cooking for long — recent college grad — so I'm doing a lot of experimentation and ma...\n",
      "----------------------------------------------------------------------------------------------------\n",
      "----------------------------------------------------------------------------------------------------\n",
      "Post ID: 5815\n",
      "Title: Why does my food turn out poorly using an All-Clad Stainless-Steel Fry Pan?\n",
      "Body: I have an All-Clad frying pan, the precise one shown below:\n",
      "http://www.amazon.com/gp/product/B00005A...\n",
      "----------------------------------------------------------------------------------------------------\n",
      "----------------------------------------------------------------------------------------------------\n",
      "Post ID: 641\n",
      "Title: What's the best way to season a cast iron skillet?\n",
      "Body: I just purchased a new cast iron skillet. What's the best way to season it? \n",
      "And if I need to re-sea...\n",
      "----------------------------------------------------------------------------------------------------\n",
      "----------------------------------------------------------------------------------------------------\n",
      "Post ID: 8927\n",
      "Title: Gummy residue from baking spray/oil\n",
      "Body: I'm sure everyone's seen this - that brownish stuff left behind when you grease an area of a baking ...\n",
      "----------------------------------------------------------------------------------------------------\n",
      "----------------------------------------------------------------------------------------------------\n",
      "Post ID: 261\n",
      "Title: How do you clean a cast iron skillet?\n",
      "Body: I have a seasoned cast iron skillet, and I don't want to mess up the seasoning when I'm cleaning it....\n",
      "----------------------------------------------------------------------------------------------------\n",
      "\n",
      "\n",
      "Test Post ID: 10758\n",
      "Test Post Title: delaying moldy bread\n",
      "Test Post Body: I always keep bread around, home-made or otherwise.  Is there a way to keep it from molding, or at l...\n",
      "Top 5 closest documents:\n",
      "----------------------------------------------------------------------------------------------------\n",
      "Post ID: 61\n",
      "Title: What are the pros and cons of storing bread in various locations?\n",
      "Body: Why should/shouldn't I store my bread in the fridge/freezer/breadbox/plastic bag/etc?\n",
      "...\n",
      "----------------------------------------------------------------------------------------------------\n",
      "----------------------------------------------------------------------------------------------------\n",
      "Post ID: 5279\n",
      "Title: Uses for stale bread?\n",
      "Body: Community wiki question. I'd like to compile an index of uses for stale bread. Here's a couple off t...\n",
      "----------------------------------------------------------------------------------------------------\n",
      "----------------------------------------------------------------------------------------------------\n",
      "Post ID: 7804\n",
      "Title: Is there anything I can add to homemade bread to preserve it?\n",
      "Body: I love making our own bread - we rarely buy shop bought, but it tends to go off very quickly. Part o...\n",
      "----------------------------------------------------------------------------------------------------\n",
      "----------------------------------------------------------------------------------------------------\n",
      "Post ID: 5071\n",
      "Title: What's the purpose of a bread box?\n",
      "Body: For some reason I always thought bread boxes were supposed to be wood, and that some property of woo...\n",
      "----------------------------------------------------------------------------------------------------\n",
      "----------------------------------------------------------------------------------------------------\n",
      "Post ID: 27855\n",
      "Title: What makes a bread either close or open crumbed/textured?\n",
      "Body: What causes the texture of bread to be open, ie with lots of large holes, or close, ie a regular, un...\n",
      "----------------------------------------------------------------------------------------------------\n",
      "\n",
      "\n",
      "Test Post ID: 10803\n",
      "Test Post Title: What book/website should I read to help me move beyond just being able to follow a recipe?\n",
      "Test Post Body: \n",
      "Possible Duplicate:\n",
      "Books that explain the science of cooking? \n",
      "\n",
      "I am looking for a book/website or...\n",
      "Top 5 closest documents:\n",
      "----------------------------------------------------------------------------------------------------\n",
      "Post ID: 45082\n",
      "Title: Are there books describing the general principles of cooking?\n",
      "Body: Perhaps my question is too weird, but whenever I read a book on cooking, it's just a list full of re...\n",
      "----------------------------------------------------------------------------------------------------\n",
      "----------------------------------------------------------------------------------------------------\n",
      "Post ID: 9657\n",
      "Title: Books that explain the science of cooking?\n",
      "Body: I have been cooking for a while now, but its mostly what I picked up watching others cook. I usually...\n",
      "----------------------------------------------------------------------------------------------------\n",
      "----------------------------------------------------------------------------------------------------\n",
      "Post ID: 396\n",
      "Title: What cookbooks do you always come back to?\n",
      "Body: Like me, there are probably a lot people on here that have a lot of cookbooks, but I find I keep com...\n",
      "----------------------------------------------------------------------------------------------------\n",
      "----------------------------------------------------------------------------------------------------\n",
      "Post ID: 784\n",
      "Title: Translating cooking terms between US / UK / AU / CA / NZ\n",
      "Body: This post is an attempt to keep track of the terms that differ between dialects of English or exist ...\n",
      "----------------------------------------------------------------------------------------------------\n",
      "----------------------------------------------------------------------------------------------------\n",
      "Post ID: 98\n",
      "Title: Digital recipes storage?\n",
      "Body: What works well for storing recipes digitally? Software and web solutions are both welcome. \n",
      "For me,...\n",
      "----------------------------------------------------------------------------------------------------\n",
      "\n",
      "\n",
      "Test Post ID: 10873\n",
      "Test Post Title: How to make my pasta less brown?\n",
      "Test Post Body: I really like making pasta, but I've found that most of my recipes have these sorts of ingredients:\n",
      "...\n",
      "Top 5 closest documents:\n",
      "----------------------------------------------------------------------------------------------------\n",
      "Post ID: 7722\n",
      "Title: Why are there so many different pasta shapes?\n",
      "Body: Do the different pasta shapes serve any purpose, or are they just for fun?  Some difference appear t...\n",
      "----------------------------------------------------------------------------------------------------\n",
      "----------------------------------------------------------------------------------------------------\n",
      "Post ID: 3949\n",
      "Title: Pasta: Simmering Water or Rolling Boil?\n",
      "Body: I recently got into a surprisingly heated argument with a friend about what level of boil you should...\n",
      "----------------------------------------------------------------------------------------------------\n",
      "----------------------------------------------------------------------------------------------------\n",
      "Post ID: 403\n",
      "Title: How can I keep pasta from sticking to itself?\n",
      "Body: Whenever I boil pasta (specifically spaghetti), it always sticks to itself before I'm ready to use i...\n",
      "----------------------------------------------------------------------------------------------------\n",
      "----------------------------------------------------------------------------------------------------\n",
      "Post ID: 16982\n",
      "Title: Why add pasta water to pasta sauce?\n",
      "Body: I've noticed that many Italian chefs add to their pasta sauces some of the water they used to cook t...\n",
      "----------------------------------------------------------------------------------------------------\n",
      "----------------------------------------------------------------------------------------------------\n",
      "Post ID: 14685\n",
      "Title: Why do we use so much water to cook spaghetti?\n",
      "Body: Every time I cook spaghetti in a regular pot, I get the feeling that I could save litres of water if...\n",
      "----------------------------------------------------------------------------------------------------\n",
      "\n",
      "\n"
     ]
    }
   ],
   "source": [
    "from tqdm.auto import tqdm\n",
    "\n",
    "def display_closest_documents(model, test_posts, posts, k=5):\n",
    "    for idx, test_post in tqdm(test_posts.iterrows(), total=test_posts.shape[0]):\n",
    "        # Prepare the test post for prediction\n",
    "        test_post_features = test_post.drop(columns=[\"relatedpostid\"]).to_frame().T\n",
    "        combined = pd.concat([test_post_features] * len(posts), ignore_index=True)\n",
    "        combined = pd.concat([combined.reset_index(drop=True), posts.add_suffix('_related')], axis=1)\n",
    "        combined = combined[train_columns]\n",
    "        \n",
    "        # Compute model scores\n",
    "        scores = model.predict_proba(combined)[:, 1]\n",
    "        \n",
    "        # Get top k posts\n",
    "        top_k_indices = scores.argsort()[-k:][::-1]\n",
    "        top_k_posts = posts.iloc[top_k_indices]\n",
    "        \n",
    "        # Display the results\n",
    "        print(f\"Test Post ID: {test_post['postid']}\")\n",
    "        print(f\"Test Post Title: {test_post['title']}\")\n",
    "        print(f\"Test Post Body: {test_post['body'][:100]}...\")\n",
    "\n",
    "        print(f\"Top {k} closest documents:\")\n",
    "        for i, post in top_k_posts.iterrows():\n",
    "            print(f\"-\"*100)\n",
    "            print(f\"Post ID: {post['postid']}\")\n",
    "            print(f\"Title: {post['title']}\")\n",
    "            print(f\"Body: {post['body'][:100]}...\")\n",
    "            print(f\"-\"*100)\n",
    "        print(\"\\n\")\n",
    "\n",
    "# Example usage\n",
    "display_closest_documents(model, test_posts.iloc[:10], posts, k=5)"
   ]
  }
 ],
 "metadata": {
  "kernelspec": {
   "display_name": ".venv",
   "language": "python",
   "name": "python3"
  },
  "language_info": {
   "codemirror_mode": {
    "name": "ipython",
    "version": 3
   },
   "file_extension": ".py",
   "mimetype": "text/x-python",
   "name": "python",
   "nbconvert_exporter": "python",
   "pygments_lexer": "ipython3",
   "version": "3.10.12"
  }
 },
 "nbformat": 4,
 "nbformat_minor": 2
}
