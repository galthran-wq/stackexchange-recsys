{
 "cells": [
  {
   "cell_type": "code",
   "execution_count": 1,
   "metadata": {},
   "outputs": [
    {
     "name": "stderr",
     "output_type": "stream",
     "text": [
      "/home/leo/recsys/data_utils.py:38: MarkupResemblesLocatorWarning: The input looks more like a filename than markup. You may want to open this file and pass the filehandle into Beautiful Soup.\n",
      "  soup = BeautifulSoup(html_content, \"lxml\")\n",
      "/home/leo/recsys/data_utils.py:64: SettingWithCopyWarning: \n",
      "A value is trying to be set on a copy of a slice from a DataFrame.\n",
      "Try using .loc[row_indexer,col_indexer] = value instead\n",
      "\n",
      "See the caveats in the documentation: https://pandas.pydata.org/pandas-docs/stable/user_guide/indexing.html#returning-a-view-versus-a-copy\n",
      "  posts_features['body'] = posts_features['body'].map(clean_html)\n"
     ]
    }
   ],
   "source": [
    "from data_utils import extract_data, load_data, preprocess_data\n",
    "# extract_data(\"data\")\n",
    "data = load_data(\"data\")\n",
    "X_train, X_test, y_train, y_test = preprocess_data(data, add_post_text=True, include_pooled_comments=True, n_negative_samples_per_link=12)"
   ]
  },
  {
   "cell_type": "code",
   "execution_count": 2,
   "metadata": {},
   "outputs": [
    {
     "data": {
      "text/plain": [
       "'For big (standard) panettoni typical values are:\\n\\nMould diameter of 17 cm (6.7 in).\\nMould height of 11~13 cm (4.3~5.1 in).\\nDough weight about 800 gr (1.7 lb).\\nAlbeit those values are not defined in the Italian \"standard\", nor in the howto. You can also find wider and lower moulds for the same dough sizes (or upt to 1 kg / 2.2 lb). \\nYou can find those measures in most webs in italian. Also, if you buy an already made panettone it will quite probably have those or very similar measures.\\nIn general, you can use the formula:\\n\\nDough weight (gr) = 1,45 x Mould volume (cm3)\\n\\nFormula calculated empirically. You can check some values in this italian forum.\\n\\nWhen you pour the dough in the mould it will only be filled up to ¼ or ⅓. It needs to rise a lot: above the upper part of the mould. \\nHere you have a Youtube video on making a homemade mould.\\nAnd this page shows you how to do the mould yourself. It\\'s in Spanish, but you can translate it automatically.\\n\\nSidenote: Orthodox stress they should be done with lievito naturale (sourdough), not yeasts. Non orthodox italian standard accept only up to 0.01% of yeast.\\n'"
      ]
     },
     "execution_count": 2,
     "metadata": {},
     "output_type": "execute_result"
    }
   ],
   "source": [
    "# for col in X_train.columns:\n",
    "#     print(X_train[col].)\n",
    "X_train['body'].iloc[0]"
   ]
  },
  {
   "cell_type": "code",
   "execution_count": 3,
   "metadata": {},
   "outputs": [],
   "source": [
    "X_train.drop(columns=[\"postid\", \"relatedpostid\", \"id\", \"creationdate\", \"postid_related\",], inplace=True)\n",
    "X_test.drop(columns=[\"postid\", \"relatedpostid\", \"id\", \"creationdate\", \"postid_related\",], inplace=True)"
   ]
  },
  {
   "cell_type": "code",
   "execution_count": 4,
   "metadata": {},
   "outputs": [
    {
     "name": "stdout",
     "output_type": "stream",
     "text": [
      "<class 'pandas.core.frame.DataFrame'>\n",
      "Int64Index: 44428 entries, 31207 to 15795\n",
      "Data columns (total 19 columns):\n",
      " #   Column                     Non-Null Count  Dtype  \n",
      "---  ------                     --------------  -----  \n",
      " 0   linktypeid                 44428 non-null  int64  \n",
      " 1   score                      44007 non-null  object \n",
      " 2   viewcount                  14226 non-null  object \n",
      " 3   answercount                14226 non-null  object \n",
      " 4   commentcount               44007 non-null  object \n",
      " 5   body                       44007 non-null  object \n",
      " 6   score_related              44362 non-null  object \n",
      " 7   viewcount_related          14519 non-null  object \n",
      " 8   answercount_related        14519 non-null  object \n",
      " 9   commentcount_related       44362 non-null  object \n",
      " 10  body_related               44362 non-null  object \n",
      " 11  vote_count                 39794 non-null  float64\n",
      " 12  vote_count_related         40013 non-null  float64\n",
      " 13  avg_comment_score          23840 non-null  float64\n",
      " 14  comment_count              23840 non-null  float64\n",
      " 15  comments_text              23840 non-null  object \n",
      " 16  avg_comment_score_related  23681 non-null  float64\n",
      " 17  comment_count_related      23681 non-null  float64\n",
      " 18  comments_text_related      23681 non-null  object \n",
      "dtypes: float64(6), int64(1), object(12)\n",
      "memory usage: 6.8+ MB\n"
     ]
    }
   ],
   "source": [
    "X_train.info()"
   ]
  },
  {
   "cell_type": "code",
   "execution_count": 5,
   "metadata": {},
   "outputs": [
    {
     "name": "stdout",
     "output_type": "stream",
     "text": [
      "<class 'pandas.core.frame.DataFrame'>\n",
      "Int64Index: 2430 entries, 18817 to 6265\n",
      "Data columns (total 19 columns):\n",
      " #   Column                     Non-Null Count  Dtype  \n",
      "---  ------                     --------------  -----  \n",
      " 0   linktypeid                 2430 non-null   int64  \n",
      " 1   score                      2430 non-null   object \n",
      " 2   viewcount                  2430 non-null   object \n",
      " 3   answercount                2430 non-null   object \n",
      " 4   commentcount               2430 non-null   object \n",
      " 5   body                       2430 non-null   object \n",
      " 6   score_related              2430 non-null   object \n",
      " 7   viewcount_related          2430 non-null   object \n",
      " 8   answercount_related        2430 non-null   object \n",
      " 9   commentcount_related       2430 non-null   object \n",
      " 10  body_related               2430 non-null   object \n",
      " 11  vote_count                 2430 non-null   float64\n",
      " 12  vote_count_related         2430 non-null   float64\n",
      " 13  avg_comment_score          2430 non-null   float64\n",
      " 14  comment_count              2430 non-null   float64\n",
      " 15  comments_text              2430 non-null   object \n",
      " 16  avg_comment_score_related  2430 non-null   float64\n",
      " 17  comment_count_related      2430 non-null   float64\n",
      " 18  comments_text_related      2430 non-null   object \n",
      "dtypes: float64(6), int64(1), object(12)\n",
      "memory usage: 379.7+ KB\n"
     ]
    }
   ],
   "source": [
    "X_train.dropna().info()"
   ]
  },
  {
   "cell_type": "code",
   "execution_count": 6,
   "metadata": {},
   "outputs": [],
   "source": [
    "train_nan_mask = X_train.isna().any(axis=1)\n",
    "X_train = X_train[~train_nan_mask]\n",
    "y_train = y_train[~train_nan_mask]\n",
    "test_nan_mask = X_test.isna().any(axis=1)\n",
    "X_test = X_test[~test_nan_mask]\n",
    "y_test = y_test[~test_nan_mask]"
   ]
  },
  {
   "cell_type": "code",
   "execution_count": 7,
   "metadata": {},
   "outputs": [
    {
     "data": {
      "text/plain": [
       "1    1343\n",
       "0    1087\n",
       "Name: linktypeid, dtype: int64"
      ]
     },
     "execution_count": 7,
     "metadata": {},
     "output_type": "execute_result"
    }
   ],
   "source": [
    "X_train[\"linktypeid\"].value_counts()"
   ]
  },
  {
   "cell_type": "code",
   "execution_count": 9,
   "metadata": {},
   "outputs": [
    {
     "data": {
      "text/plain": [
       "1    376\n",
       "0    283\n",
       "Name: linktypeid, dtype: int64"
      ]
     },
     "execution_count": 9,
     "metadata": {},
     "output_type": "execute_result"
    }
   ],
   "source": [
    "X_test[\"linktypeid\"].value_counts()"
   ]
  },
  {
   "cell_type": "code",
   "execution_count": 13,
   "metadata": {},
   "outputs": [
    {
     "name": "stdout",
     "output_type": "stream",
     "text": [
      "<class 'pandas.core.frame.DataFrame'>\n",
      "Int64Index: 2430 entries, 18817 to 6265\n",
      "Data columns (total 19 columns):\n",
      " #   Column                     Non-Null Count  Dtype  \n",
      "---  ------                     --------------  -----  \n",
      " 0   linktypeid                 2430 non-null   int64  \n",
      " 1   score                      2430 non-null   object \n",
      " 2   viewcount                  2430 non-null   object \n",
      " 3   answercount                2430 non-null   object \n",
      " 4   commentcount               2430 non-null   object \n",
      " 5   body                       2430 non-null   object \n",
      " 6   score_related              2430 non-null   object \n",
      " 7   viewcount_related          2430 non-null   object \n",
      " 8   answercount_related        2430 non-null   object \n",
      " 9   commentcount_related       2430 non-null   object \n",
      " 10  body_related               2430 non-null   object \n",
      " 11  vote_count                 2430 non-null   float64\n",
      " 12  vote_count_related         2430 non-null   float64\n",
      " 13  avg_comment_score          2430 non-null   float64\n",
      " 14  comment_count              2430 non-null   float64\n",
      " 15  comments_text              2430 non-null   object \n",
      " 16  avg_comment_score_related  2430 non-null   float64\n",
      " 17  comment_count_related      2430 non-null   float64\n",
      " 18  comments_text_related      2430 non-null   object \n",
      "dtypes: float64(6), int64(1), object(12)\n",
      "memory usage: 379.7+ KB\n"
     ]
    }
   ],
   "source": [
    "X_train.info()"
   ]
  },
  {
   "cell_type": "code",
   "execution_count": 18,
   "metadata": {},
   "outputs": [],
   "source": [
    "X_train.drop(columns=[\"linktypeid\"], inplace=True)\n",
    "X_test.drop(columns=[\"linktypeid\"], inplace=True)"
   ]
  },
  {
   "cell_type": "code",
   "execution_count": 19,
   "metadata": {},
   "outputs": [
    {
     "data": {
      "application/vnd.jupyter.widget-view+json": {
       "model_id": "33ac844f74e44ef598f05af274c67b39",
       "version_major": 2,
       "version_minor": 0
      },
      "text/plain": [
       "MetricVisualizer(layout=Layout(align_self='stretch', height='500px'))"
      ]
     },
     "metadata": {},
     "output_type": "display_data"
    },
    {
     "name": "stdout",
     "output_type": "stream",
     "text": [
      "0:\tlearn: 0.6631135\ttest: 0.6680372\tbest: 0.6680372 (0)\ttotal: 45.4ms\tremaining: 45.3s\n",
      "100:\tlearn: 0.3417226\ttest: 0.5126968\tbest: 0.5126968 (100)\ttotal: 6.14s\tremaining: 54.6s\n",
      "200:\tlearn: 0.2009908\ttest: 0.5184336\tbest: 0.5126968 (100)\ttotal: 12.3s\tremaining: 48.9s\n",
      "300:\tlearn: 0.1273888\ttest: 0.5305683\tbest: 0.5126968 (100)\ttotal: 18.5s\tremaining: 42.9s\n",
      "400:\tlearn: 0.0859770\ttest: 0.5462612\tbest: 0.5126968 (100)\ttotal: 24.7s\tremaining: 36.9s\n",
      "500:\tlearn: 0.0614043\ttest: 0.5613719\tbest: 0.5126968 (100)\ttotal: 31s\tremaining: 30.9s\n",
      "600:\tlearn: 0.0455839\ttest: 0.5784050\tbest: 0.5126968 (100)\ttotal: 37.3s\tremaining: 24.7s\n",
      "700:\tlearn: 0.0345286\ttest: 0.5923644\tbest: 0.5126968 (100)\ttotal: 43.5s\tremaining: 18.6s\n",
      "800:\tlearn: 0.0272175\ttest: 0.6098377\tbest: 0.5126968 (100)\ttotal: 49.7s\tremaining: 12.4s\n",
      "900:\tlearn: 0.0220346\ttest: 0.6242904\tbest: 0.5126968 (100)\ttotal: 55.9s\tremaining: 6.14s\n",
      "999:\tlearn: 0.0183160\ttest: 0.6404141\tbest: 0.5126968 (100)\ttotal: 1m 2s\tremaining: 0us\n",
      "\n",
      "bestTest = 0.5126968376\n",
      "bestIteration = 100\n",
      "\n",
      "Shrink model to first 101 iterations.\n",
      "Accuracy: 0.7496\n"
     ]
    }
   ],
   "source": [
    "from catboost import CatBoostClassifier, Pool\n",
    "from sklearn.metrics import accuracy_score\n",
    "\n",
    "# Define categorical features indices if you have any\n",
    "categorical_features_indices = []  # e.g., [0, 1, 2] if your first three columns are categorical\n",
    "\n",
    "# Initialize CatBoostClassifier\n",
    "model = CatBoostClassifier(\n",
    "    iterations=1000,  # Number of boosting iterations\n",
    "    learning_rate=0.1,  # Learning rate\n",
    "    depth=6,  # Depth of the tree\n",
    "    cat_features=categorical_features_indices,  # Specify categorical features\n",
    "    text_features=[\"body\", \"comments_text\", \"comments_text_related\", \"body_related\"],\n",
    "    verbose=100  # Print training progress every 100 iterations\n",
    ")\n",
    "\n",
    "# Train the model\n",
    "model.fit(X_train, y_train, eval_set=(X_test, y_test), plot=True)\n",
    "\n",
    "# Make predictions\n",
    "y_pred = model.predict(X_test)\n",
    "\n",
    "# Evaluate the model\n",
    "accuracy = accuracy_score(y_test, y_pred)\n",
    "print(f\"Accuracy: {accuracy:.4f}\")"
   ]
  },
  {
   "cell_type": "code",
   "execution_count": 20,
   "metadata": {},
   "outputs": [
    {
     "data": {
      "text/html": [
       "<div>\n",
       "<style scoped>\n",
       "    .dataframe tbody tr th:only-of-type {\n",
       "        vertical-align: middle;\n",
       "    }\n",
       "\n",
       "    .dataframe tbody tr th {\n",
       "        vertical-align: top;\n",
       "    }\n",
       "\n",
       "    .dataframe thead th {\n",
       "        text-align: right;\n",
       "    }\n",
       "</style>\n",
       "<table border=\"1\" class=\"dataframe\">\n",
       "  <thead>\n",
       "    <tr style=\"text-align: right;\">\n",
       "      <th></th>\n",
       "      <th>Feature Id</th>\n",
       "      <th>Importances</th>\n",
       "    </tr>\n",
       "  </thead>\n",
       "  <tbody>\n",
       "    <tr>\n",
       "      <th>0</th>\n",
       "      <td>comments_text</td>\n",
       "      <td>25.322854</td>\n",
       "    </tr>\n",
       "    <tr>\n",
       "      <th>1</th>\n",
       "      <td>body</td>\n",
       "      <td>13.914026</td>\n",
       "    </tr>\n",
       "    <tr>\n",
       "      <th>2</th>\n",
       "      <td>comments_text_related</td>\n",
       "      <td>12.872172</td>\n",
       "    </tr>\n",
       "    <tr>\n",
       "      <th>3</th>\n",
       "      <td>score_related</td>\n",
       "      <td>11.785422</td>\n",
       "    </tr>\n",
       "    <tr>\n",
       "      <th>4</th>\n",
       "      <td>viewcount_related</td>\n",
       "      <td>11.120119</td>\n",
       "    </tr>\n",
       "    <tr>\n",
       "      <th>5</th>\n",
       "      <td>body_related</td>\n",
       "      <td>10.811885</td>\n",
       "    </tr>\n",
       "    <tr>\n",
       "      <th>6</th>\n",
       "      <td>vote_count_related</td>\n",
       "      <td>10.003272</td>\n",
       "    </tr>\n",
       "    <tr>\n",
       "      <th>7</th>\n",
       "      <td>answercount_related</td>\n",
       "      <td>1.747175</td>\n",
       "    </tr>\n",
       "    <tr>\n",
       "      <th>8</th>\n",
       "      <td>vote_count</td>\n",
       "      <td>0.798067</td>\n",
       "    </tr>\n",
       "    <tr>\n",
       "      <th>9</th>\n",
       "      <td>avg_comment_score</td>\n",
       "      <td>0.573770</td>\n",
       "    </tr>\n",
       "    <tr>\n",
       "      <th>10</th>\n",
       "      <td>avg_comment_score_related</td>\n",
       "      <td>0.349307</td>\n",
       "    </tr>\n",
       "    <tr>\n",
       "      <th>11</th>\n",
       "      <td>viewcount</td>\n",
       "      <td>0.256399</td>\n",
       "    </tr>\n",
       "    <tr>\n",
       "      <th>12</th>\n",
       "      <td>commentcount</td>\n",
       "      <td>0.220982</td>\n",
       "    </tr>\n",
       "    <tr>\n",
       "      <th>13</th>\n",
       "      <td>comment_count</td>\n",
       "      <td>0.179975</td>\n",
       "    </tr>\n",
       "    <tr>\n",
       "      <th>14</th>\n",
       "      <td>commentcount_related</td>\n",
       "      <td>0.038492</td>\n",
       "    </tr>\n",
       "    <tr>\n",
       "      <th>15</th>\n",
       "      <td>score</td>\n",
       "      <td>0.006083</td>\n",
       "    </tr>\n",
       "    <tr>\n",
       "      <th>16</th>\n",
       "      <td>answercount</td>\n",
       "      <td>0.000000</td>\n",
       "    </tr>\n",
       "    <tr>\n",
       "      <th>17</th>\n",
       "      <td>comment_count_related</td>\n",
       "      <td>0.000000</td>\n",
       "    </tr>\n",
       "  </tbody>\n",
       "</table>\n",
       "</div>"
      ],
      "text/plain": [
       "                   Feature Id  Importances\n",
       "0               comments_text    25.322854\n",
       "1                        body    13.914026\n",
       "2       comments_text_related    12.872172\n",
       "3               score_related    11.785422\n",
       "4           viewcount_related    11.120119\n",
       "5                body_related    10.811885\n",
       "6          vote_count_related    10.003272\n",
       "7         answercount_related     1.747175\n",
       "8                  vote_count     0.798067\n",
       "9           avg_comment_score     0.573770\n",
       "10  avg_comment_score_related     0.349307\n",
       "11                  viewcount     0.256399\n",
       "12               commentcount     0.220982\n",
       "13              comment_count     0.179975\n",
       "14       commentcount_related     0.038492\n",
       "15                      score     0.006083\n",
       "16                answercount     0.000000\n",
       "17      comment_count_related     0.000000"
      ]
     },
     "execution_count": 20,
     "metadata": {},
     "output_type": "execute_result"
    }
   ],
   "source": [
    "model.get_feature_importance(prettified=True)"
   ]
  }
 ],
 "metadata": {
  "kernelspec": {
   "display_name": ".venv",
   "language": "python",
   "name": "python3"
  },
  "language_info": {
   "codemirror_mode": {
    "name": "ipython",
    "version": 3
   },
   "file_extension": ".py",
   "mimetype": "text/x-python",
   "name": "python",
   "nbconvert_exporter": "python",
   "pygments_lexer": "ipython3",
   "version": "3.7.8"
  }
 },
 "nbformat": 4,
 "nbformat_minor": 2
}
