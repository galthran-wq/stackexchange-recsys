{
 "cells": [
  {
   "cell_type": "code",
   "metadata": {
    "ExecuteTime": {
     "end_time": "2024-12-19T22:38:09.020948Z",
     "start_time": "2024-12-19T22:38:03.620432Z"
    }
   },
   "source": "from data_utils import extract_data, load_data, preprocess_data",
   "outputs": [],
   "execution_count": 1
  },
  {
   "metadata": {
    "ExecuteTime": {
     "end_time": "2024-12-19T22:38:27.846765Z",
     "start_time": "2024-12-19T22:38:10.627645Z"
    }
   },
   "cell_type": "code",
   "source": "data = load_data(\"data\")",
   "outputs": [],
   "execution_count": 2
  },
  {
   "metadata": {
    "ExecuteTime": {
     "end_time": "2024-12-19T23:11:57.786749Z",
     "start_time": "2024-12-19T22:38:27.846765Z"
    }
   },
   "cell_type": "code",
   "source": [
    "X_train, X_test, y_train, y_test = preprocess_data(\n",
    "    data,\n",
    "    add_post_text=True,\n",
    "    include_pooled_comments=False,\n",
    "    add_bertscore=True,\n",
    "    n_negative_samples_per_link=1\n",
    ")"
   ],
   "outputs": [
    {
     "name": "stderr",
     "output_type": "stream",
     "text": [
      "C:\\Users\\Raman\\PycharmProjects\\stackexchange-recsys\\data_utils.py:59: SettingWithCopyWarning: \n",
      "A value is trying to be set on a copy of a slice from a DataFrame.\n",
      "Try using .loc[row_indexer,col_indexer] = value instead\n",
      "\n",
      "See the caveats in the documentation: https://pandas.pydata.org/pandas-docs/stable/user_guide/indexing.html#returning-a-view-versus-a-copy\n",
      "  posts_features['body'] = posts_features['body'].map(clean_html)\n"
     ]
    },
    {
     "data": {
      "text/plain": [
       "Calculating BERTScore (title):   0%|          | 0/160 [00:00<?, ?it/s]"
      ],
      "application/vnd.jupyter.widget-view+json": {
       "version_major": 2,
       "version_minor": 0,
       "model_id": "c7e3b5fa276143149182b467e521171f"
      }
     },
     "metadata": {},
     "output_type": "display_data"
    },
    {
     "name": "stderr",
     "output_type": "stream",
     "text": [
      "Some weights of RobertaModel were not initialized from the model checkpoint at roberta-large and are newly initialized: ['roberta.pooler.dense.bias', 'roberta.pooler.dense.weight']\n",
      "You should probably TRAIN this model on a down-stream task to be able to use it for predictions and inference.\n"
     ]
    },
    {
     "data": {
      "text/plain": [
       "Calculating BERTScore (body):   0%|          | 0/160 [00:00<?, ?it/s]"
      ],
      "application/vnd.jupyter.widget-view+json": {
       "version_major": 2,
       "version_minor": 0,
       "model_id": "72714c5ab68e43af903978f0fbde9b57"
      }
     },
     "metadata": {},
     "output_type": "display_data"
    },
    {
     "data": {
      "text/plain": [
       "Calculating BERTScore (title recall):   0%|          | 0/160 [00:00<?, ?it/s]"
      ],
      "application/vnd.jupyter.widget-view+json": {
       "version_major": 2,
       "version_minor": 0,
       "model_id": "84228b3eede346d78f3f3e5128389cc5"
      }
     },
     "metadata": {},
     "output_type": "display_data"
    },
    {
     "data": {
      "text/plain": [
       "Calculating BERTScore (title_related recall):   0%|          | 0/160 [00:00<?, ?it/s]"
      ],
      "application/vnd.jupyter.widget-view+json": {
       "version_major": 2,
       "version_minor": 0,
       "model_id": "b2f236a28d1e44daba403e44fbff8a92"
      }
     },
     "metadata": {},
     "output_type": "display_data"
    }
   ],
   "execution_count": 3
  },
  {
   "cell_type": "code",
   "metadata": {
    "ExecuteTime": {
     "end_time": "2024-12-19T23:12:03.618454Z",
     "start_time": "2024-12-19T23:12:03.602747Z"
    }
   },
   "source": [
    "# for col in X_train.columns:\n",
    "#     print(X_train[col].)\n",
    "X_train['body'].iloc[0]"
   ],
   "outputs": [
    {
     "data": {
      "text/plain": [
       "'Our freezer was accidentally switched off approx a week ago and it was full of beef which had been frozen when very fresh will it be safe to refreeze\\n'"
      ]
     },
     "execution_count": 4,
     "metadata": {},
     "output_type": "execute_result"
    }
   ],
   "execution_count": 4
  },
  {
   "metadata": {
    "ExecuteTime": {
     "end_time": "2024-12-19T23:12:06.685013Z",
     "start_time": "2024-12-19T23:12:06.637203Z"
    }
   },
   "cell_type": "code",
   "source": "X_train",
   "outputs": [
    {
     "data": {
      "text/plain": [
       "      linktypeid score viewcount answercount commentcount  \\\n",
       "3802           1     1       369           1            0   \n",
       "2500           1    14      4250           5            1   \n",
       "2822           0     1       954           1            9   \n",
       "4406           0     2     12570           2            1   \n",
       "1530           0     1       767           1            3   \n",
       "...          ...   ...       ...         ...          ...   \n",
       "5577           0     5       456           2            0   \n",
       "5755           0     1       440           2            3   \n",
       "896            0     6       130           3            0   \n",
       "8134           0     2      1113           2            3   \n",
       "7779           1     5       665           3            1   \n",
       "\n",
       "                                                   body  \\\n",
       "3802  Our freezer was accidentally switched off appr...   \n",
       "2500  Chutney is foreign to my culture and the food ...   \n",
       "2822  When I try to make chicken soup I usually find...   \n",
       "4406  Most store-bought stock/broth packaging contai...   \n",
       "1530  I bought a set of three Magnalite anodized fry...   \n",
       "...                                                 ...   \n",
       "5577  My fiancée and I recently got a bunch of new (...   \n",
       "5755  I once heard that it is possible to make coffe...   \n",
       "896   I would like to purchase some very nice sea sa...   \n",
       "8134  Over the holidays, my mom tasked me to prepare...   \n",
       "7779  The cracks are practically invisible to naked ...   \n",
       "\n",
       "                                                  title score_related  \\\n",
       "3802                        Thawed meat can we refreeze            48   \n",
       "2500                                 What is a Chutney?           102   \n",
       "2822        Boiled chicken: coloured parts of the meat?             0   \n",
       "4406                           Refrigerating Clam Juice            -1   \n",
       "1530  Seasoning on Magnalite anodized aluminum fry p...             3   \n",
       "...                                                 ...           ...   \n",
       "5577          Using a large pot/pan on a smaller burner             1   \n",
       "5755                         coffee from seeds of dates            20   \n",
       "896   What is a good online resource for purchasing ...             1   \n",
       "8134  How do I adjust cooking time when temperature ...            12   \n",
       "7779  How to find out if an egg has a cracked shell ...             3   \n",
       "\n",
       "     viewcount_related answercount_related  ... vote_count vote_count_related  \\\n",
       "3802            297710                  10  ...        2.0               57.0   \n",
       "2500             22100                   6  ...       14.0              163.0   \n",
       "2822               684                   4  ...        3.0                NaN   \n",
       "4406                91                   1  ...        2.0                1.0   \n",
       "1530               525                   1  ...        2.0                3.0   \n",
       "...                ...                 ...  ...        ...                ...   \n",
       "5577                63                   1  ...        5.0                1.0   \n",
       "5755             37717                   1  ...        1.0               21.0   \n",
       "896                 89                   1  ...        6.0                1.0   \n",
       "8134              8386                   3  ...        3.0               15.0   \n",
       "7779              2128                   8  ...        5.0                3.0   \n",
       "\n",
       "     avg_comment_score  comment_count  avg_comment_score_related  \\\n",
       "3802               NaN            NaN                   1.000000   \n",
       "2500          0.000000            1.0                   0.270833   \n",
       "2822          0.222222            9.0                        NaN   \n",
       "4406          0.000000            1.0                   1.000000   \n",
       "1530          0.666667            3.0                   0.000000   \n",
       "...                ...            ...                        ...   \n",
       "5577               NaN            NaN                   1.000000   \n",
       "5755          1.000000            3.0                   0.500000   \n",
       "896                NaN            NaN                   0.000000   \n",
       "8134          1.333333            3.0                        NaN   \n",
       "7779          0.000000            1.0                   0.666667   \n",
       "\n",
       "      comment_count_related  bertscore_title_f1  bertscore_body_f1  \\\n",
       "3802                    2.0            0.906816           0.835695   \n",
       "2500                   48.0            0.805306           0.795133   \n",
       "2822                    NaN            0.853588           0.825696   \n",
       "4406                    1.0            0.866808           0.828586   \n",
       "1530                    4.0            0.833207           0.834117   \n",
       "...                     ...                 ...                ...   \n",
       "5577                    1.0            0.811381           0.825522   \n",
       "5755                    2.0            0.810579           0.833758   \n",
       "896                     6.0            0.824541           0.819089   \n",
       "8134                    NaN            0.871597           0.787249   \n",
       "7779                    6.0            0.909163           0.856152   \n",
       "\n",
       "      bertscore_title_recall  bertscore_title_related_recall  \n",
       "3802                0.893248                        0.884453  \n",
       "2500                0.811515                        0.780576  \n",
       "2822                0.844871                        0.834686  \n",
       "4406                0.818342                        0.788917  \n",
       "1530                0.812912                        0.862369  \n",
       "...                      ...                             ...  \n",
       "5577                0.822001                        0.784989  \n",
       "5755                0.819576                        0.820038  \n",
       "896                 0.838555                        0.812821  \n",
       "8134                0.851840                        0.836848  \n",
       "7779                0.889498                        0.858280  \n",
       "\n",
       "[6391 rows x 23 columns]"
      ],
      "text/html": [
       "<div>\n",
       "<style scoped>\n",
       "    .dataframe tbody tr th:only-of-type {\n",
       "        vertical-align: middle;\n",
       "    }\n",
       "\n",
       "    .dataframe tbody tr th {\n",
       "        vertical-align: top;\n",
       "    }\n",
       "\n",
       "    .dataframe thead th {\n",
       "        text-align: right;\n",
       "    }\n",
       "</style>\n",
       "<table border=\"1\" class=\"dataframe\">\n",
       "  <thead>\n",
       "    <tr style=\"text-align: right;\">\n",
       "      <th></th>\n",
       "      <th>linktypeid</th>\n",
       "      <th>score</th>\n",
       "      <th>viewcount</th>\n",
       "      <th>answercount</th>\n",
       "      <th>commentcount</th>\n",
       "      <th>body</th>\n",
       "      <th>title</th>\n",
       "      <th>score_related</th>\n",
       "      <th>viewcount_related</th>\n",
       "      <th>answercount_related</th>\n",
       "      <th>...</th>\n",
       "      <th>vote_count</th>\n",
       "      <th>vote_count_related</th>\n",
       "      <th>avg_comment_score</th>\n",
       "      <th>comment_count</th>\n",
       "      <th>avg_comment_score_related</th>\n",
       "      <th>comment_count_related</th>\n",
       "      <th>bertscore_title_f1</th>\n",
       "      <th>bertscore_body_f1</th>\n",
       "      <th>bertscore_title_recall</th>\n",
       "      <th>bertscore_title_related_recall</th>\n",
       "    </tr>\n",
       "  </thead>\n",
       "  <tbody>\n",
       "    <tr>\n",
       "      <th>3802</th>\n",
       "      <td>1</td>\n",
       "      <td>1</td>\n",
       "      <td>369</td>\n",
       "      <td>1</td>\n",
       "      <td>0</td>\n",
       "      <td>Our freezer was accidentally switched off appr...</td>\n",
       "      <td>Thawed meat can we refreeze</td>\n",
       "      <td>48</td>\n",
       "      <td>297710</td>\n",
       "      <td>10</td>\n",
       "      <td>...</td>\n",
       "      <td>2.0</td>\n",
       "      <td>57.0</td>\n",
       "      <td>NaN</td>\n",
       "      <td>NaN</td>\n",
       "      <td>1.000000</td>\n",
       "      <td>2.0</td>\n",
       "      <td>0.906816</td>\n",
       "      <td>0.835695</td>\n",
       "      <td>0.893248</td>\n",
       "      <td>0.884453</td>\n",
       "    </tr>\n",
       "    <tr>\n",
       "      <th>2500</th>\n",
       "      <td>1</td>\n",
       "      <td>14</td>\n",
       "      <td>4250</td>\n",
       "      <td>5</td>\n",
       "      <td>1</td>\n",
       "      <td>Chutney is foreign to my culture and the food ...</td>\n",
       "      <td>What is a Chutney?</td>\n",
       "      <td>102</td>\n",
       "      <td>22100</td>\n",
       "      <td>6</td>\n",
       "      <td>...</td>\n",
       "      <td>14.0</td>\n",
       "      <td>163.0</td>\n",
       "      <td>0.000000</td>\n",
       "      <td>1.0</td>\n",
       "      <td>0.270833</td>\n",
       "      <td>48.0</td>\n",
       "      <td>0.805306</td>\n",
       "      <td>0.795133</td>\n",
       "      <td>0.811515</td>\n",
       "      <td>0.780576</td>\n",
       "    </tr>\n",
       "    <tr>\n",
       "      <th>2822</th>\n",
       "      <td>0</td>\n",
       "      <td>1</td>\n",
       "      <td>954</td>\n",
       "      <td>1</td>\n",
       "      <td>9</td>\n",
       "      <td>When I try to make chicken soup I usually find...</td>\n",
       "      <td>Boiled chicken: coloured parts of the meat?</td>\n",
       "      <td>0</td>\n",
       "      <td>684</td>\n",
       "      <td>4</td>\n",
       "      <td>...</td>\n",
       "      <td>3.0</td>\n",
       "      <td>NaN</td>\n",
       "      <td>0.222222</td>\n",
       "      <td>9.0</td>\n",
       "      <td>NaN</td>\n",
       "      <td>NaN</td>\n",
       "      <td>0.853588</td>\n",
       "      <td>0.825696</td>\n",
       "      <td>0.844871</td>\n",
       "      <td>0.834686</td>\n",
       "    </tr>\n",
       "    <tr>\n",
       "      <th>4406</th>\n",
       "      <td>0</td>\n",
       "      <td>2</td>\n",
       "      <td>12570</td>\n",
       "      <td>2</td>\n",
       "      <td>1</td>\n",
       "      <td>Most store-bought stock/broth packaging contai...</td>\n",
       "      <td>Refrigerating Clam Juice</td>\n",
       "      <td>-1</td>\n",
       "      <td>91</td>\n",
       "      <td>1</td>\n",
       "      <td>...</td>\n",
       "      <td>2.0</td>\n",
       "      <td>1.0</td>\n",
       "      <td>0.000000</td>\n",
       "      <td>1.0</td>\n",
       "      <td>1.000000</td>\n",
       "      <td>1.0</td>\n",
       "      <td>0.866808</td>\n",
       "      <td>0.828586</td>\n",
       "      <td>0.818342</td>\n",
       "      <td>0.788917</td>\n",
       "    </tr>\n",
       "    <tr>\n",
       "      <th>1530</th>\n",
       "      <td>0</td>\n",
       "      <td>1</td>\n",
       "      <td>767</td>\n",
       "      <td>1</td>\n",
       "      <td>3</td>\n",
       "      <td>I bought a set of three Magnalite anodized fry...</td>\n",
       "      <td>Seasoning on Magnalite anodized aluminum fry p...</td>\n",
       "      <td>3</td>\n",
       "      <td>525</td>\n",
       "      <td>1</td>\n",
       "      <td>...</td>\n",
       "      <td>2.0</td>\n",
       "      <td>3.0</td>\n",
       "      <td>0.666667</td>\n",
       "      <td>3.0</td>\n",
       "      <td>0.000000</td>\n",
       "      <td>4.0</td>\n",
       "      <td>0.833207</td>\n",
       "      <td>0.834117</td>\n",
       "      <td>0.812912</td>\n",
       "      <td>0.862369</td>\n",
       "    </tr>\n",
       "    <tr>\n",
       "      <th>...</th>\n",
       "      <td>...</td>\n",
       "      <td>...</td>\n",
       "      <td>...</td>\n",
       "      <td>...</td>\n",
       "      <td>...</td>\n",
       "      <td>...</td>\n",
       "      <td>...</td>\n",
       "      <td>...</td>\n",
       "      <td>...</td>\n",
       "      <td>...</td>\n",
       "      <td>...</td>\n",
       "      <td>...</td>\n",
       "      <td>...</td>\n",
       "      <td>...</td>\n",
       "      <td>...</td>\n",
       "      <td>...</td>\n",
       "      <td>...</td>\n",
       "      <td>...</td>\n",
       "      <td>...</td>\n",
       "      <td>...</td>\n",
       "      <td>...</td>\n",
       "    </tr>\n",
       "    <tr>\n",
       "      <th>5577</th>\n",
       "      <td>0</td>\n",
       "      <td>5</td>\n",
       "      <td>456</td>\n",
       "      <td>2</td>\n",
       "      <td>0</td>\n",
       "      <td>My fiancée and I recently got a bunch of new (...</td>\n",
       "      <td>Using a large pot/pan on a smaller burner</td>\n",
       "      <td>1</td>\n",
       "      <td>63</td>\n",
       "      <td>1</td>\n",
       "      <td>...</td>\n",
       "      <td>5.0</td>\n",
       "      <td>1.0</td>\n",
       "      <td>NaN</td>\n",
       "      <td>NaN</td>\n",
       "      <td>1.000000</td>\n",
       "      <td>1.0</td>\n",
       "      <td>0.811381</td>\n",
       "      <td>0.825522</td>\n",
       "      <td>0.822001</td>\n",
       "      <td>0.784989</td>\n",
       "    </tr>\n",
       "    <tr>\n",
       "      <th>5755</th>\n",
       "      <td>0</td>\n",
       "      <td>1</td>\n",
       "      <td>440</td>\n",
       "      <td>2</td>\n",
       "      <td>3</td>\n",
       "      <td>I once heard that it is possible to make coffe...</td>\n",
       "      <td>coffee from seeds of dates</td>\n",
       "      <td>20</td>\n",
       "      <td>37717</td>\n",
       "      <td>1</td>\n",
       "      <td>...</td>\n",
       "      <td>1.0</td>\n",
       "      <td>21.0</td>\n",
       "      <td>1.000000</td>\n",
       "      <td>3.0</td>\n",
       "      <td>0.500000</td>\n",
       "      <td>2.0</td>\n",
       "      <td>0.810579</td>\n",
       "      <td>0.833758</td>\n",
       "      <td>0.819576</td>\n",
       "      <td>0.820038</td>\n",
       "    </tr>\n",
       "    <tr>\n",
       "      <th>896</th>\n",
       "      <td>0</td>\n",
       "      <td>6</td>\n",
       "      <td>130</td>\n",
       "      <td>3</td>\n",
       "      <td>0</td>\n",
       "      <td>I would like to purchase some very nice sea sa...</td>\n",
       "      <td>What is a good online resource for purchasing ...</td>\n",
       "      <td>1</td>\n",
       "      <td>89</td>\n",
       "      <td>1</td>\n",
       "      <td>...</td>\n",
       "      <td>6.0</td>\n",
       "      <td>1.0</td>\n",
       "      <td>NaN</td>\n",
       "      <td>NaN</td>\n",
       "      <td>0.000000</td>\n",
       "      <td>6.0</td>\n",
       "      <td>0.824541</td>\n",
       "      <td>0.819089</td>\n",
       "      <td>0.838555</td>\n",
       "      <td>0.812821</td>\n",
       "    </tr>\n",
       "    <tr>\n",
       "      <th>8134</th>\n",
       "      <td>0</td>\n",
       "      <td>2</td>\n",
       "      <td>1113</td>\n",
       "      <td>2</td>\n",
       "      <td>3</td>\n",
       "      <td>Over the holidays, my mom tasked me to prepare...</td>\n",
       "      <td>How do I adjust cooking time when temperature ...</td>\n",
       "      <td>12</td>\n",
       "      <td>8386</td>\n",
       "      <td>3</td>\n",
       "      <td>...</td>\n",
       "      <td>3.0</td>\n",
       "      <td>15.0</td>\n",
       "      <td>1.333333</td>\n",
       "      <td>3.0</td>\n",
       "      <td>NaN</td>\n",
       "      <td>NaN</td>\n",
       "      <td>0.871597</td>\n",
       "      <td>0.787249</td>\n",
       "      <td>0.851840</td>\n",
       "      <td>0.836848</td>\n",
       "    </tr>\n",
       "    <tr>\n",
       "      <th>7779</th>\n",
       "      <td>1</td>\n",
       "      <td>5</td>\n",
       "      <td>665</td>\n",
       "      <td>3</td>\n",
       "      <td>1</td>\n",
       "      <td>The cracks are practically invisible to naked ...</td>\n",
       "      <td>How to find out if an egg has a cracked shell ...</td>\n",
       "      <td>3</td>\n",
       "      <td>2128</td>\n",
       "      <td>8</td>\n",
       "      <td>...</td>\n",
       "      <td>5.0</td>\n",
       "      <td>3.0</td>\n",
       "      <td>0.000000</td>\n",
       "      <td>1.0</td>\n",
       "      <td>0.666667</td>\n",
       "      <td>6.0</td>\n",
       "      <td>0.909163</td>\n",
       "      <td>0.856152</td>\n",
       "      <td>0.889498</td>\n",
       "      <td>0.858280</td>\n",
       "    </tr>\n",
       "  </tbody>\n",
       "</table>\n",
       "<p>6391 rows × 23 columns</p>\n",
       "</div>"
      ]
     },
     "execution_count": 5,
     "metadata": {},
     "output_type": "execute_result"
    }
   ],
   "execution_count": 5
  },
  {
   "cell_type": "code",
   "metadata": {
    "ExecuteTime": {
     "end_time": "2024-12-19T23:12:18.465612Z",
     "start_time": "2024-12-19T23:12:18.433822Z"
    }
   },
   "source": [
    "X_train.info()"
   ],
   "outputs": [
    {
     "name": "stdout",
     "output_type": "stream",
     "text": [
      "<class 'pandas.core.frame.DataFrame'>\n",
      "Index: 6391 entries, 3802 to 7779\n",
      "Data columns (total 23 columns):\n",
      " #   Column                          Non-Null Count  Dtype  \n",
      "---  ------                          --------------  -----  \n",
      " 0   linktypeid                      6391 non-null   int64  \n",
      " 1   score                           6391 non-null   object \n",
      " 2   viewcount                       6391 non-null   object \n",
      " 3   answercount                     6391 non-null   object \n",
      " 4   commentcount                    6391 non-null   object \n",
      " 5   body                            6391 non-null   object \n",
      " 6   title                           6391 non-null   object \n",
      " 7   score_related                   6391 non-null   object \n",
      " 8   viewcount_related               6391 non-null   object \n",
      " 9   answercount_related             6391 non-null   object \n",
      " 10  commentcount_related            6391 non-null   object \n",
      " 11  body_related                    6391 non-null   object \n",
      " 12  title_related                   6391 non-null   object \n",
      " 13  vote_count                      5963 non-null   float64\n",
      " 14  vote_count_related              6184 non-null   float64\n",
      " 15  avg_comment_score               4526 non-null   float64\n",
      " 16  comment_count                   4526 non-null   float64\n",
      " 17  avg_comment_score_related       4064 non-null   float64\n",
      " 18  comment_count_related           4064 non-null   float64\n",
      " 19  bertscore_title_f1              6391 non-null   float64\n",
      " 20  bertscore_body_f1               6391 non-null   float64\n",
      " 21  bertscore_title_recall          6391 non-null   float64\n",
      " 22  bertscore_title_related_recall  6391 non-null   float64\n",
      "dtypes: float64(10), int64(1), object(12)\n",
      "memory usage: 1.2+ MB\n"
     ]
    }
   ],
   "execution_count": 6
  },
  {
   "cell_type": "code",
   "metadata": {
    "ExecuteTime": {
     "end_time": "2024-12-19T23:12:20.375832Z",
     "start_time": "2024-12-19T23:12:20.366539Z"
    }
   },
   "source": [
    "X_train[\"linktypeid\"].value_counts()"
   ],
   "outputs": [
    {
     "data": {
      "text/plain": [
       "linktypeid\n",
       "0    3408\n",
       "1    2983\n",
       "Name: count, dtype: int64"
      ]
     },
     "execution_count": 7,
     "metadata": {},
     "output_type": "execute_result"
    }
   ],
   "execution_count": 7
  },
  {
   "cell_type": "code",
   "metadata": {
    "ExecuteTime": {
     "end_time": "2024-12-19T23:12:20.969306Z",
     "start_time": "2024-12-19T23:12:20.953516Z"
    }
   },
   "source": [
    "X_test[\"linktypeid\"].value_counts()"
   ],
   "outputs": [
    {
     "data": {
      "text/plain": [
       "linktypeid\n",
       "0    864\n",
       "1    734\n",
       "Name: count, dtype: int64"
      ]
     },
     "execution_count": 8,
     "metadata": {},
     "output_type": "execute_result"
    }
   ],
   "execution_count": 8
  },
  {
   "cell_type": "code",
   "metadata": {
    "ExecuteTime": {
     "end_time": "2024-12-19T23:12:22.168403Z",
     "start_time": "2024-12-19T23:12:22.152464Z"
    }
   },
   "source": [
    "X_train.drop(columns=[\"linktypeid\"], inplace=True)\n",
    "X_test.drop(columns=[\"linktypeid\"], inplace=True)"
   ],
   "outputs": [],
   "execution_count": 9
  },
  {
   "cell_type": "code",
   "metadata": {
    "ExecuteTime": {
     "end_time": "2024-12-19T23:16:53.181241Z",
     "start_time": "2024-12-19T23:12:22.984881Z"
    }
   },
   "source": [
    "from catboost import CatBoostClassifier, Pool\n",
    "from sklearn.metrics import accuracy_score\n",
    "\n",
    "# Define categorical features indices if you have any\n",
    "categorical_features_indices = []  # e.g., [0, 1, 2] if your first three columns are categorical\n",
    "\n",
    "# Initialize CatBoostClassifier\n",
    "model = CatBoostClassifier(\n",
    "    iterations=1000,  # Number of boosting iterations\n",
    "    learning_rate=0.1,  # Learning rate\n",
    "    depth=6,  # Depth of the tree\n",
    "    cat_features=categorical_features_indices,  # Specify categorical features\n",
    "    # text_features=[\"body\", \"comments_text\", \"comments_text_related\", \"body_related\"],\n",
    "    text_features=[\"body\", \"body_related\", \"title\", \"title_related\"],\n",
    "    verbose=100  # Print training progress every 100 iterations\n",
    ")\n",
    "\n",
    "# Train the model\n",
    "model.fit(X_train, y_train, eval_set=(X_test, y_test), plot=True)\n",
    "\n",
    "# Make predictions\n",
    "y_pred = model.predict(X_test)\n",
    "\n",
    "# Evaluate the model\n",
    "accuracy = accuracy_score(y_test, y_pred)\n",
    "print(f\"Accuracy: {accuracy:.4f}\")"
   ],
   "outputs": [
    {
     "data": {
      "text/plain": [
       "MetricVisualizer(layout=Layout(align_self='stretch', height='500px'))"
      ],
      "application/vnd.jupyter.widget-view+json": {
       "version_major": 2,
       "version_minor": 0,
       "model_id": "964977730dc042308edac4f5f37610be"
      }
     },
     "metadata": {},
     "output_type": "display_data"
    },
    {
     "name": "stdout",
     "output_type": "stream",
     "text": [
      "0:\tlearn: 0.6315133\ttest: 0.6326601\tbest: 0.6326601 (0)\ttotal: 509ms\tremaining: 8m 28s\n",
      "100:\tlearn: 0.2642262\ttest: 0.3137477\tbest: 0.3137477 (100)\ttotal: 26.7s\tremaining: 3m 58s\n",
      "200:\tlearn: 0.1968875\ttest: 0.2959296\tbest: 0.2959296 (200)\ttotal: 52.4s\tremaining: 3m 28s\n",
      "300:\tlearn: 0.1597076\ttest: 0.2886522\tbest: 0.2886522 (300)\ttotal: 1m 18s\tremaining: 3m 2s\n",
      "400:\tlearn: 0.1337232\ttest: 0.2860386\tbest: 0.2860386 (400)\ttotal: 1m 44s\tremaining: 2m 35s\n",
      "500:\tlearn: 0.1127942\ttest: 0.2855983\tbest: 0.2852854 (461)\ttotal: 2m 19s\tremaining: 2m 18s\n",
      "600:\tlearn: 0.0968826\ttest: 0.2854647\tbest: 0.2842441 (565)\ttotal: 2m 44s\tremaining: 1m 49s\n",
      "700:\tlearn: 0.0831255\ttest: 0.2844954\tbest: 0.2841783 (663)\ttotal: 3m 11s\tremaining: 1m 21s\n",
      "800:\tlearn: 0.0724122\ttest: 0.2849465\tbest: 0.2841783 (663)\ttotal: 3m 36s\tremaining: 53.9s\n",
      "900:\tlearn: 0.0635072\ttest: 0.2859470\tbest: 0.2841783 (663)\ttotal: 4m 2s\tremaining: 26.7s\n",
      "999:\tlearn: 0.0557661\ttest: 0.2875411\tbest: 0.2841783 (663)\ttotal: 4m 28s\tremaining: 0us\n",
      "\n",
      "bestTest = 0.2841782921\n",
      "bestIteration = 663\n",
      "\n",
      "Shrink model to first 664 iterations.\n",
      "Accuracy: 0.8817\n"
     ]
    }
   ],
   "execution_count": 10
  },
  {
   "cell_type": "code",
   "metadata": {
    "ExecuteTime": {
     "end_time": "2024-12-19T23:31:36.069548Z",
     "start_time": "2024-12-19T23:31:36.034645Z"
    }
   },
   "source": [
    "model.get_feature_importance(prettified=True)"
   ],
   "outputs": [
    {
     "data": {
      "text/plain": [
       "                        Feature Id  Importances\n",
       "0                             body    17.716821\n",
       "1                     body_related    17.473914\n",
       "2   bertscore_title_related_recall    14.949340\n",
       "3           bertscore_title_recall     9.968813\n",
       "4                    title_related     8.653108\n",
       "5               vote_count_related     6.792407\n",
       "6                            title     6.151979\n",
       "7                bertscore_body_f1     5.753149\n",
       "8                    score_related     4.258330\n",
       "9                viewcount_related     2.385446\n",
       "10              bertscore_title_f1     1.197426\n",
       "11                       viewcount     0.896230\n",
       "12                   comment_count     0.888067\n",
       "13                    commentcount     0.748513\n",
       "14               avg_comment_score     0.723419\n",
       "15                           score     0.655716\n",
       "16             answercount_related     0.277688\n",
       "17                      vote_count     0.168818\n",
       "18                     answercount     0.140886\n",
       "19       avg_comment_score_related     0.118263\n",
       "20            commentcount_related     0.081664\n",
       "21           comment_count_related     0.000000"
      ],
      "text/html": [
       "<div>\n",
       "<style scoped>\n",
       "    .dataframe tbody tr th:only-of-type {\n",
       "        vertical-align: middle;\n",
       "    }\n",
       "\n",
       "    .dataframe tbody tr th {\n",
       "        vertical-align: top;\n",
       "    }\n",
       "\n",
       "    .dataframe thead th {\n",
       "        text-align: right;\n",
       "    }\n",
       "</style>\n",
       "<table border=\"1\" class=\"dataframe\">\n",
       "  <thead>\n",
       "    <tr style=\"text-align: right;\">\n",
       "      <th></th>\n",
       "      <th>Feature Id</th>\n",
       "      <th>Importances</th>\n",
       "    </tr>\n",
       "  </thead>\n",
       "  <tbody>\n",
       "    <tr>\n",
       "      <th>0</th>\n",
       "      <td>body</td>\n",
       "      <td>17.716821</td>\n",
       "    </tr>\n",
       "    <tr>\n",
       "      <th>1</th>\n",
       "      <td>body_related</td>\n",
       "      <td>17.473914</td>\n",
       "    </tr>\n",
       "    <tr>\n",
       "      <th>2</th>\n",
       "      <td>bertscore_title_related_recall</td>\n",
       "      <td>14.949340</td>\n",
       "    </tr>\n",
       "    <tr>\n",
       "      <th>3</th>\n",
       "      <td>bertscore_title_recall</td>\n",
       "      <td>9.968813</td>\n",
       "    </tr>\n",
       "    <tr>\n",
       "      <th>4</th>\n",
       "      <td>title_related</td>\n",
       "      <td>8.653108</td>\n",
       "    </tr>\n",
       "    <tr>\n",
       "      <th>5</th>\n",
       "      <td>vote_count_related</td>\n",
       "      <td>6.792407</td>\n",
       "    </tr>\n",
       "    <tr>\n",
       "      <th>6</th>\n",
       "      <td>title</td>\n",
       "      <td>6.151979</td>\n",
       "    </tr>\n",
       "    <tr>\n",
       "      <th>7</th>\n",
       "      <td>bertscore_body_f1</td>\n",
       "      <td>5.753149</td>\n",
       "    </tr>\n",
       "    <tr>\n",
       "      <th>8</th>\n",
       "      <td>score_related</td>\n",
       "      <td>4.258330</td>\n",
       "    </tr>\n",
       "    <tr>\n",
       "      <th>9</th>\n",
       "      <td>viewcount_related</td>\n",
       "      <td>2.385446</td>\n",
       "    </tr>\n",
       "    <tr>\n",
       "      <th>10</th>\n",
       "      <td>bertscore_title_f1</td>\n",
       "      <td>1.197426</td>\n",
       "    </tr>\n",
       "    <tr>\n",
       "      <th>11</th>\n",
       "      <td>viewcount</td>\n",
       "      <td>0.896230</td>\n",
       "    </tr>\n",
       "    <tr>\n",
       "      <th>12</th>\n",
       "      <td>comment_count</td>\n",
       "      <td>0.888067</td>\n",
       "    </tr>\n",
       "    <tr>\n",
       "      <th>13</th>\n",
       "      <td>commentcount</td>\n",
       "      <td>0.748513</td>\n",
       "    </tr>\n",
       "    <tr>\n",
       "      <th>14</th>\n",
       "      <td>avg_comment_score</td>\n",
       "      <td>0.723419</td>\n",
       "    </tr>\n",
       "    <tr>\n",
       "      <th>15</th>\n",
       "      <td>score</td>\n",
       "      <td>0.655716</td>\n",
       "    </tr>\n",
       "    <tr>\n",
       "      <th>16</th>\n",
       "      <td>answercount_related</td>\n",
       "      <td>0.277688</td>\n",
       "    </tr>\n",
       "    <tr>\n",
       "      <th>17</th>\n",
       "      <td>vote_count</td>\n",
       "      <td>0.168818</td>\n",
       "    </tr>\n",
       "    <tr>\n",
       "      <th>18</th>\n",
       "      <td>answercount</td>\n",
       "      <td>0.140886</td>\n",
       "    </tr>\n",
       "    <tr>\n",
       "      <th>19</th>\n",
       "      <td>avg_comment_score_related</td>\n",
       "      <td>0.118263</td>\n",
       "    </tr>\n",
       "    <tr>\n",
       "      <th>20</th>\n",
       "      <td>commentcount_related</td>\n",
       "      <td>0.081664</td>\n",
       "    </tr>\n",
       "    <tr>\n",
       "      <th>21</th>\n",
       "      <td>comment_count_related</td>\n",
       "      <td>0.000000</td>\n",
       "    </tr>\n",
       "  </tbody>\n",
       "</table>\n",
       "</div>"
      ]
     },
     "execution_count": 11,
     "metadata": {},
     "output_type": "execute_result"
    }
   ],
   "execution_count": 11
  }
 ],
 "metadata": {
  "kernelspec": {
   "display_name": ".venv",
   "language": "python",
   "name": "python3"
  },
  "language_info": {
   "codemirror_mode": {
    "name": "ipython",
    "version": 3
   },
   "file_extension": ".py",
   "mimetype": "text/x-python",
   "name": "python",
   "nbconvert_exporter": "python",
   "pygments_lexer": "ipython3",
   "version": "3.7.8"
  }
 },
 "nbformat": 4,
 "nbformat_minor": 2
}
