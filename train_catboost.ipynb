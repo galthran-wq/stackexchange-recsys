{
 "cells": [
  {
   "cell_type": "code",
   "metadata": {
    "ExecuteTime": {
     "end_time": "2024-12-19T20:35:36.450952Z",
     "start_time": "2024-12-19T20:35:27.687062Z"
    }
   },
   "source": "from data_utils import extract_data, load_data, preprocess_data",
   "outputs": [],
   "execution_count": 1
  },
  {
   "metadata": {
    "ExecuteTime": {
     "end_time": "2024-12-19T20:35:54.343382Z",
     "start_time": "2024-12-19T20:35:37.154776Z"
    }
   },
   "cell_type": "code",
   "source": "data = load_data(\"data\")",
   "outputs": [],
   "execution_count": 2
  },
  {
   "metadata": {
    "ExecuteTime": {
     "end_time": "2024-12-19T20:47:47.804143Z",
     "start_time": "2024-12-19T20:36:03.936892Z"
    }
   },
   "cell_type": "code",
   "source": [
    "X_train, X_test, y_train, y_test = preprocess_data(\n",
    "    data,\n",
    "    add_post_text=True,\n",
    "    include_pooled_comments=False,\n",
    "    add_bertscore=True,\n",
    "    n_negative_samples_per_link=1\n",
    ")"
   ],
   "outputs": [
    {
     "name": "stderr",
     "output_type": "stream",
     "text": [
      "C:\\Users\\Raman\\PycharmProjects\\stackexchange-recsys\\data_utils.py:66: SettingWithCopyWarning: \n",
      "A value is trying to be set on a copy of a slice from a DataFrame.\n",
      "Try using .loc[row_indexer,col_indexer] = value instead\n",
      "\n",
      "See the caveats in the documentation: https://pandas.pydata.org/pandas-docs/stable/user_guide/indexing.html#returning-a-view-versus-a-copy\n",
      "  posts_features['body'] = posts_features['body'].map(clean_html)\n"
     ]
    },
    {
     "data": {
      "text/plain": [
       "Calculating BERTScore:   0%|          | 0/160 [00:00<?, ?it/s]"
      ],
      "application/vnd.jupyter.widget-view+json": {
       "version_major": 2,
       "version_minor": 0,
       "model_id": "1400f7bf47d94ee289d7922fc8092fe4"
      }
     },
     "metadata": {},
     "output_type": "display_data"
    },
    {
     "name": "stderr",
     "output_type": "stream",
     "text": [
      "Some weights of RobertaModel were not initialized from the model checkpoint at roberta-large and are newly initialized: ['roberta.pooler.dense.bias', 'roberta.pooler.dense.weight']\n",
      "You should probably TRAIN this model on a down-stream task to be able to use it for predictions and inference.\n"
     ]
    }
   ],
   "execution_count": 3
  },
  {
   "cell_type": "code",
   "metadata": {
    "ExecuteTime": {
     "end_time": "2024-12-19T20:26:26.389499Z",
     "start_time": "2024-12-19T20:26:26.374809Z"
    }
   },
   "source": [
    "# for col in X_train.columns:\n",
    "#     print(X_train[col].)\n",
    "X_train['body'].iloc[0]"
   ],
   "outputs": [
    {
     "data": {
      "text/plain": [
       "\"What's the difference between sautéing, frying, and caramelizing?\\nWhen I cook chopped onions in a pan with oil until they are brown and have a slightly sweet taste, which of the above is the correct term for what I am doing?\\n\""
      ]
     },
     "execution_count": 4,
     "metadata": {},
     "output_type": "execute_result"
    }
   ],
   "execution_count": 4
  },
  {
   "metadata": {
    "ExecuteTime": {
     "end_time": "2024-12-19T20:26:37.743013Z",
     "start_time": "2024-12-19T20:26:37.704742Z"
    }
   },
   "cell_type": "code",
   "source": "X_train",
   "outputs": [
    {
     "data": {
      "text/plain": [
       "      linktypeid score viewcount answercount commentcount  \\\n",
       "3817           1    10      3828           4            2   \n",
       "2530           0     2       174           1            2   \n",
       "2843           0     4      1506           2            2   \n",
       "4421           0    -1       403           2            2   \n",
       "1547           0     2      2604           3            0   \n",
       "...          ...   ...       ...         ...          ...   \n",
       "5599           0     2       237           2            1   \n",
       "5776           1     4       155           5            7   \n",
       "907            0     3       263           1            0   \n",
       "8136           1     5        63           0            5   \n",
       "7776           1     5      8952           1            0   \n",
       "\n",
       "                                                   body score_related  \\\n",
       "3817  What's the difference between sautéing, frying...            25   \n",
       "2530  I accidentally added vegetables and water to t...             3   \n",
       "2843  My mother tells me when she was young her moth...             0   \n",
       "4421  What are the different types of flours used in...             5   \n",
       "1547  Which properties should I look for or avoid in...             1   \n",
       "...                                                 ...           ...   \n",
       "5599  The package says cook from frozen, do not thaw...             5   \n",
       "5776  I've been given three chilli plants:\\n\\nBulgar...             1   \n",
       "907   How do I roll or wrap up pasta into a log-like...             1   \n",
       "8136  \\nPossible Duplicate:\\nHow long can I store a ...            60   \n",
       "7776  It has been made abundantly clear to me that I...            31   \n",
       "\n",
       "     viewcount_related answercount_related commentcount_related  \\\n",
       "3817              7205                   3                    0   \n",
       "2530               555                   2                    1   \n",
       "2843               105                   1                    2   \n",
       "4421               799                   3                    1   \n",
       "1547               153                   1                    3   \n",
       "...                ...                 ...                  ...   \n",
       "5599              4954                   2                    0   \n",
       "5776               141                   1                    3   \n",
       "907               1579                   1                    3   \n",
       "8136             19845                   1                    0   \n",
       "7776              5975                   3                    0   \n",
       "\n",
       "                                           body_related  vote_count  \\\n",
       "3817  As I understand it, all of these terms refer t...        10.0   \n",
       "2530  I've recently realized how easy it is to make ...         2.0   \n",
       "2843  I have light cream with 15% fat. How can I use...         4.0   \n",
       "4421  Many grains (and some starchy non-grains) can ...         6.0   \n",
       "1547  I accidentally made way too much rice for a di...         2.0   \n",
       "...                                                 ...         ...   \n",
       "5599  Most bread recipes give an estimate to how lon...         2.0   \n",
       "5776  I don't know how to pickle cayenne and jalapen...         4.0   \n",
       "907   I am trying to make protein bars at home from ...         4.0   \n",
       "8136  How do I know if a given food or ingredient I ...         9.0   \n",
       "7776  I often read in recipes that I should \"rest\" m...         5.0   \n",
       "\n",
       "      vote_count_related  avg_comment_score  comment_count  \\\n",
       "3817                29.0           1.500000            2.0   \n",
       "2530                 3.0           0.000000            2.0   \n",
       "2843                 NaN           0.000000            2.0   \n",
       "4421                 6.0           0.000000            2.0   \n",
       "1547                 1.0                NaN            NaN   \n",
       "...                  ...                ...            ...   \n",
       "5599                 6.0           0.000000            1.0   \n",
       "5776                 3.0           0.285714            7.0   \n",
       "907                  1.0                NaN            NaN   \n",
       "8136               108.0           0.200000            5.0   \n",
       "7776                37.0                NaN            NaN   \n",
       "\n",
       "      avg_comment_score_related  comment_count_related  bertscore_f1  \n",
       "3817                        NaN                    NaN      0.864476  \n",
       "2530                   2.000000                    1.0      0.842426  \n",
       "2843                   0.000000                    2.0      0.832239  \n",
       "4421                   2.000000                    1.0      0.815287  \n",
       "1547                   0.333333                    3.0      0.842844  \n",
       "...                         ...                    ...           ...  \n",
       "5599                        NaN                    NaN      0.851326  \n",
       "5776                   0.666667                    3.0      0.838088  \n",
       "907                    0.333333                    3.0      0.829248  \n",
       "8136                        NaN                    NaN      0.855432  \n",
       "7776                        NaN                    NaN      0.902195  \n",
       "\n",
       "[6391 rows x 18 columns]"
      ],
      "text/html": [
       "<div>\n",
       "<style scoped>\n",
       "    .dataframe tbody tr th:only-of-type {\n",
       "        vertical-align: middle;\n",
       "    }\n",
       "\n",
       "    .dataframe tbody tr th {\n",
       "        vertical-align: top;\n",
       "    }\n",
       "\n",
       "    .dataframe thead th {\n",
       "        text-align: right;\n",
       "    }\n",
       "</style>\n",
       "<table border=\"1\" class=\"dataframe\">\n",
       "  <thead>\n",
       "    <tr style=\"text-align: right;\">\n",
       "      <th></th>\n",
       "      <th>linktypeid</th>\n",
       "      <th>score</th>\n",
       "      <th>viewcount</th>\n",
       "      <th>answercount</th>\n",
       "      <th>commentcount</th>\n",
       "      <th>body</th>\n",
       "      <th>score_related</th>\n",
       "      <th>viewcount_related</th>\n",
       "      <th>answercount_related</th>\n",
       "      <th>commentcount_related</th>\n",
       "      <th>body_related</th>\n",
       "      <th>vote_count</th>\n",
       "      <th>vote_count_related</th>\n",
       "      <th>avg_comment_score</th>\n",
       "      <th>comment_count</th>\n",
       "      <th>avg_comment_score_related</th>\n",
       "      <th>comment_count_related</th>\n",
       "      <th>bertscore_f1</th>\n",
       "    </tr>\n",
       "  </thead>\n",
       "  <tbody>\n",
       "    <tr>\n",
       "      <th>3817</th>\n",
       "      <td>1</td>\n",
       "      <td>10</td>\n",
       "      <td>3828</td>\n",
       "      <td>4</td>\n",
       "      <td>2</td>\n",
       "      <td>What's the difference between sautéing, frying...</td>\n",
       "      <td>25</td>\n",
       "      <td>7205</td>\n",
       "      <td>3</td>\n",
       "      <td>0</td>\n",
       "      <td>As I understand it, all of these terms refer t...</td>\n",
       "      <td>10.0</td>\n",
       "      <td>29.0</td>\n",
       "      <td>1.500000</td>\n",
       "      <td>2.0</td>\n",
       "      <td>NaN</td>\n",
       "      <td>NaN</td>\n",
       "      <td>0.864476</td>\n",
       "    </tr>\n",
       "    <tr>\n",
       "      <th>2530</th>\n",
       "      <td>0</td>\n",
       "      <td>2</td>\n",
       "      <td>174</td>\n",
       "      <td>1</td>\n",
       "      <td>2</td>\n",
       "      <td>I accidentally added vegetables and water to t...</td>\n",
       "      <td>3</td>\n",
       "      <td>555</td>\n",
       "      <td>2</td>\n",
       "      <td>1</td>\n",
       "      <td>I've recently realized how easy it is to make ...</td>\n",
       "      <td>2.0</td>\n",
       "      <td>3.0</td>\n",
       "      <td>0.000000</td>\n",
       "      <td>2.0</td>\n",
       "      <td>2.000000</td>\n",
       "      <td>1.0</td>\n",
       "      <td>0.842426</td>\n",
       "    </tr>\n",
       "    <tr>\n",
       "      <th>2843</th>\n",
       "      <td>0</td>\n",
       "      <td>4</td>\n",
       "      <td>1506</td>\n",
       "      <td>2</td>\n",
       "      <td>2</td>\n",
       "      <td>My mother tells me when she was young her moth...</td>\n",
       "      <td>0</td>\n",
       "      <td>105</td>\n",
       "      <td>1</td>\n",
       "      <td>2</td>\n",
       "      <td>I have light cream with 15% fat. How can I use...</td>\n",
       "      <td>4.0</td>\n",
       "      <td>NaN</td>\n",
       "      <td>0.000000</td>\n",
       "      <td>2.0</td>\n",
       "      <td>0.000000</td>\n",
       "      <td>2.0</td>\n",
       "      <td>0.832239</td>\n",
       "    </tr>\n",
       "    <tr>\n",
       "      <th>4421</th>\n",
       "      <td>0</td>\n",
       "      <td>-1</td>\n",
       "      <td>403</td>\n",
       "      <td>2</td>\n",
       "      <td>2</td>\n",
       "      <td>What are the different types of flours used in...</td>\n",
       "      <td>5</td>\n",
       "      <td>799</td>\n",
       "      <td>3</td>\n",
       "      <td>1</td>\n",
       "      <td>Many grains (and some starchy non-grains) can ...</td>\n",
       "      <td>6.0</td>\n",
       "      <td>6.0</td>\n",
       "      <td>0.000000</td>\n",
       "      <td>2.0</td>\n",
       "      <td>2.000000</td>\n",
       "      <td>1.0</td>\n",
       "      <td>0.815287</td>\n",
       "    </tr>\n",
       "    <tr>\n",
       "      <th>1547</th>\n",
       "      <td>0</td>\n",
       "      <td>2</td>\n",
       "      <td>2604</td>\n",
       "      <td>3</td>\n",
       "      <td>0</td>\n",
       "      <td>Which properties should I look for or avoid in...</td>\n",
       "      <td>1</td>\n",
       "      <td>153</td>\n",
       "      <td>1</td>\n",
       "      <td>3</td>\n",
       "      <td>I accidentally made way too much rice for a di...</td>\n",
       "      <td>2.0</td>\n",
       "      <td>1.0</td>\n",
       "      <td>NaN</td>\n",
       "      <td>NaN</td>\n",
       "      <td>0.333333</td>\n",
       "      <td>3.0</td>\n",
       "      <td>0.842844</td>\n",
       "    </tr>\n",
       "    <tr>\n",
       "      <th>...</th>\n",
       "      <td>...</td>\n",
       "      <td>...</td>\n",
       "      <td>...</td>\n",
       "      <td>...</td>\n",
       "      <td>...</td>\n",
       "      <td>...</td>\n",
       "      <td>...</td>\n",
       "      <td>...</td>\n",
       "      <td>...</td>\n",
       "      <td>...</td>\n",
       "      <td>...</td>\n",
       "      <td>...</td>\n",
       "      <td>...</td>\n",
       "      <td>...</td>\n",
       "      <td>...</td>\n",
       "      <td>...</td>\n",
       "      <td>...</td>\n",
       "      <td>...</td>\n",
       "    </tr>\n",
       "    <tr>\n",
       "      <th>5599</th>\n",
       "      <td>0</td>\n",
       "      <td>2</td>\n",
       "      <td>237</td>\n",
       "      <td>2</td>\n",
       "      <td>1</td>\n",
       "      <td>The package says cook from frozen, do not thaw...</td>\n",
       "      <td>5</td>\n",
       "      <td>4954</td>\n",
       "      <td>2</td>\n",
       "      <td>0</td>\n",
       "      <td>Most bread recipes give an estimate to how lon...</td>\n",
       "      <td>2.0</td>\n",
       "      <td>6.0</td>\n",
       "      <td>0.000000</td>\n",
       "      <td>1.0</td>\n",
       "      <td>NaN</td>\n",
       "      <td>NaN</td>\n",
       "      <td>0.851326</td>\n",
       "    </tr>\n",
       "    <tr>\n",
       "      <th>5776</th>\n",
       "      <td>1</td>\n",
       "      <td>4</td>\n",
       "      <td>155</td>\n",
       "      <td>5</td>\n",
       "      <td>7</td>\n",
       "      <td>I've been given three chilli plants:\\n\\nBulgar...</td>\n",
       "      <td>1</td>\n",
       "      <td>141</td>\n",
       "      <td>1</td>\n",
       "      <td>3</td>\n",
       "      <td>I don't know how to pickle cayenne and jalapen...</td>\n",
       "      <td>4.0</td>\n",
       "      <td>3.0</td>\n",
       "      <td>0.285714</td>\n",
       "      <td>7.0</td>\n",
       "      <td>0.666667</td>\n",
       "      <td>3.0</td>\n",
       "      <td>0.838088</td>\n",
       "    </tr>\n",
       "    <tr>\n",
       "      <th>907</th>\n",
       "      <td>0</td>\n",
       "      <td>3</td>\n",
       "      <td>263</td>\n",
       "      <td>1</td>\n",
       "      <td>0</td>\n",
       "      <td>How do I roll or wrap up pasta into a log-like...</td>\n",
       "      <td>1</td>\n",
       "      <td>1579</td>\n",
       "      <td>1</td>\n",
       "      <td>3</td>\n",
       "      <td>I am trying to make protein bars at home from ...</td>\n",
       "      <td>4.0</td>\n",
       "      <td>1.0</td>\n",
       "      <td>NaN</td>\n",
       "      <td>NaN</td>\n",
       "      <td>0.333333</td>\n",
       "      <td>3.0</td>\n",
       "      <td>0.829248</td>\n",
       "    </tr>\n",
       "    <tr>\n",
       "      <th>8136</th>\n",
       "      <td>1</td>\n",
       "      <td>5</td>\n",
       "      <td>63</td>\n",
       "      <td>0</td>\n",
       "      <td>5</td>\n",
       "      <td>\\nPossible Duplicate:\\nHow long can I store a ...</td>\n",
       "      <td>60</td>\n",
       "      <td>19845</td>\n",
       "      <td>1</td>\n",
       "      <td>0</td>\n",
       "      <td>How do I know if a given food or ingredient I ...</td>\n",
       "      <td>9.0</td>\n",
       "      <td>108.0</td>\n",
       "      <td>0.200000</td>\n",
       "      <td>5.0</td>\n",
       "      <td>NaN</td>\n",
       "      <td>NaN</td>\n",
       "      <td>0.855432</td>\n",
       "    </tr>\n",
       "    <tr>\n",
       "      <th>7776</th>\n",
       "      <td>1</td>\n",
       "      <td>5</td>\n",
       "      <td>8952</td>\n",
       "      <td>1</td>\n",
       "      <td>0</td>\n",
       "      <td>It has been made abundantly clear to me that I...</td>\n",
       "      <td>31</td>\n",
       "      <td>5975</td>\n",
       "      <td>3</td>\n",
       "      <td>0</td>\n",
       "      <td>I often read in recipes that I should \"rest\" m...</td>\n",
       "      <td>5.0</td>\n",
       "      <td>37.0</td>\n",
       "      <td>NaN</td>\n",
       "      <td>NaN</td>\n",
       "      <td>NaN</td>\n",
       "      <td>NaN</td>\n",
       "      <td>0.902195</td>\n",
       "    </tr>\n",
       "  </tbody>\n",
       "</table>\n",
       "<p>6391 rows × 18 columns</p>\n",
       "</div>"
      ]
     },
     "execution_count": 6,
     "metadata": {},
     "output_type": "execute_result"
    }
   ],
   "execution_count": 6
  },
  {
   "cell_type": "code",
   "metadata": {
    "ExecuteTime": {
     "end_time": "2024-12-19T20:26:51.938991Z",
     "start_time": "2024-12-19T20:26:51.891437Z"
    }
   },
   "source": [
    "X_train.info()"
   ],
   "outputs": [
    {
     "name": "stdout",
     "output_type": "stream",
     "text": [
      "<class 'pandas.core.frame.DataFrame'>\n",
      "Index: 6391 entries, 3817 to 7776\n",
      "Data columns (total 18 columns):\n",
      " #   Column                     Non-Null Count  Dtype  \n",
      "---  ------                     --------------  -----  \n",
      " 0   linktypeid                 6391 non-null   int64  \n",
      " 1   score                      6391 non-null   object \n",
      " 2   viewcount                  6391 non-null   object \n",
      " 3   answercount                6391 non-null   object \n",
      " 4   commentcount               6391 non-null   object \n",
      " 5   body                       6391 non-null   object \n",
      " 6   score_related              6391 non-null   object \n",
      " 7   viewcount_related          6391 non-null   object \n",
      " 8   answercount_related        6391 non-null   object \n",
      " 9   commentcount_related       6391 non-null   object \n",
      " 10  body_related               6391 non-null   object \n",
      " 11  vote_count                 5964 non-null   float64\n",
      " 12  vote_count_related         6176 non-null   float64\n",
      " 13  avg_comment_score          4505 non-null   float64\n",
      " 14  comment_count              4505 non-null   float64\n",
      " 15  avg_comment_score_related  4071 non-null   float64\n",
      " 16  comment_count_related      4071 non-null   float64\n",
      " 17  bertscore_f1               6391 non-null   float64\n",
      "dtypes: float64(7), int64(1), object(10)\n",
      "memory usage: 948.7+ KB\n"
     ]
    }
   ],
   "execution_count": 7
  },
  {
   "cell_type": "code",
   "metadata": {
    "ExecuteTime": {
     "end_time": "2024-12-19T20:27:20.848351Z",
     "start_time": "2024-12-19T20:27:20.816705Z"
    }
   },
   "source": [
    "X_train[\"linktypeid\"].value_counts()"
   ],
   "outputs": [
    {
     "data": {
      "text/plain": [
       "linktypeid\n",
       "0    3435\n",
       "1    2956\n",
       "Name: count, dtype: int64"
      ]
     },
     "execution_count": 8,
     "metadata": {},
     "output_type": "execute_result"
    }
   ],
   "execution_count": 8
  },
  {
   "cell_type": "code",
   "metadata": {
    "ExecuteTime": {
     "end_time": "2024-12-19T20:27:24.146793Z",
     "start_time": "2024-12-19T20:27:24.126231Z"
    }
   },
   "source": [
    "X_test[\"linktypeid\"].value_counts()"
   ],
   "outputs": [
    {
     "data": {
      "text/plain": [
       "linktypeid\n",
       "0    837\n",
       "1    761\n",
       "Name: count, dtype: int64"
      ]
     },
     "execution_count": 9,
     "metadata": {},
     "output_type": "execute_result"
    }
   ],
   "execution_count": 9
  },
  {
   "cell_type": "code",
   "metadata": {
    "ExecuteTime": {
     "end_time": "2024-12-19T20:47:47.884479Z",
     "start_time": "2024-12-19T20:47:47.871151Z"
    }
   },
   "source": [
    "X_train.drop(columns=[\"linktypeid\"], inplace=True)\n",
    "X_test.drop(columns=[\"linktypeid\"], inplace=True)"
   ],
   "outputs": [],
   "execution_count": 4
  },
  {
   "cell_type": "code",
   "metadata": {
    "ExecuteTime": {
     "end_time": "2024-12-19T20:49:25.711513Z",
     "start_time": "2024-12-19T20:47:47.890984Z"
    }
   },
   "source": [
    "from catboost import CatBoostClassifier, Pool\n",
    "from sklearn.metrics import accuracy_score\n",
    "\n",
    "# Define categorical features indices if you have any\n",
    "categorical_features_indices = []  # e.g., [0, 1, 2] if your first three columns are categorical\n",
    "\n",
    "# Initialize CatBoostClassifier\n",
    "model = CatBoostClassifier(\n",
    "    iterations=1000,  # Number of boosting iterations\n",
    "    learning_rate=0.1,  # Learning rate\n",
    "    depth=6,  # Depth of the tree\n",
    "    cat_features=categorical_features_indices,  # Specify categorical features\n",
    "    # text_features=[\"body\", \"comments_text\", \"comments_text_related\", \"body_related\"],\n",
    "    text_features=[\"body\", \"body_related\"],\n",
    "    verbose=100  # Print training progress every 100 iterations\n",
    ")\n",
    "\n",
    "# Train the model\n",
    "model.fit(X_train, y_train, eval_set=(X_test, y_test), plot=True)\n",
    "\n",
    "# Make predictions\n",
    "y_pred = model.predict(X_test)\n",
    "\n",
    "# Evaluate the model\n",
    "accuracy = accuracy_score(y_test, y_pred)\n",
    "print(f\"Accuracy: {accuracy:.4f}\")"
   ],
   "outputs": [
    {
     "data": {
      "text/plain": [
       "MetricVisualizer(layout=Layout(align_self='stretch', height='500px'))"
      ],
      "application/vnd.jupyter.widget-view+json": {
       "version_major": 2,
       "version_minor": 0,
       "model_id": "6e8a06f0f2f94a7bbd54a8d6ad863338"
      }
     },
     "metadata": {},
     "output_type": "display_data"
    },
    {
     "name": "stdout",
     "output_type": "stream",
     "text": [
      "0:\tlearn: 0.6563201\ttest: 0.6552518\tbest: 0.6552518 (0)\ttotal: 275ms\tremaining: 4m 34s\n",
      "100:\tlearn: 0.3223398\ttest: 0.3675542\tbest: 0.3675542 (100)\ttotal: 9.82s\tremaining: 1m 27s\n",
      "200:\tlearn: 0.2301583\ttest: 0.3445833\tbest: 0.3445833 (200)\ttotal: 19.4s\tremaining: 1m 16s\n",
      "300:\tlearn: 0.1784997\ttest: 0.3364402\tbest: 0.3361130 (295)\ttotal: 28.8s\tremaining: 1m 6s\n",
      "400:\tlearn: 0.1414892\ttest: 0.3361602\tbest: 0.3348858 (379)\ttotal: 38.5s\tremaining: 57.6s\n",
      "500:\tlearn: 0.1144138\ttest: 0.3325977\tbest: 0.3324247 (498)\ttotal: 48.4s\tremaining: 48.2s\n",
      "600:\tlearn: 0.0938820\ttest: 0.3319252\tbest: 0.3310742 (557)\ttotal: 58s\tremaining: 38.5s\n",
      "700:\tlearn: 0.0781199\ttest: 0.3357778\tbest: 0.3310742 (557)\ttotal: 1m 8s\tremaining: 29.1s\n",
      "800:\tlearn: 0.0653519\ttest: 0.3370481\tbest: 0.3310742 (557)\ttotal: 1m 17s\tremaining: 19.3s\n",
      "900:\tlearn: 0.0549970\ttest: 0.3403695\tbest: 0.3310742 (557)\ttotal: 1m 27s\tremaining: 9.61s\n",
      "999:\tlearn: 0.0474649\ttest: 0.3430958\tbest: 0.3310742 (557)\ttotal: 1m 36s\tremaining: 0us\n",
      "\n",
      "bestTest = 0.3310741747\n",
      "bestIteration = 557\n",
      "\n",
      "Shrink model to first 558 iterations.\n",
      "Accuracy: 0.8448\n"
     ]
    }
   ],
   "execution_count": 5
  },
  {
   "cell_type": "code",
   "metadata": {
    "ExecuteTime": {
     "end_time": "2024-12-19T20:49:25.824176Z",
     "start_time": "2024-12-19T20:49:25.795417Z"
    }
   },
   "source": [
    "model.get_feature_importance(prettified=True)"
   ],
   "outputs": [
    {
     "data": {
      "text/plain": [
       "                   Feature Id  Importances\n",
       "0                body_related    29.100615\n",
       "1                        body    28.445814\n",
       "2            bertscore_recall     8.399147\n",
       "3         bertscore_precision     7.160863\n",
       "4          vote_count_related     5.995723\n",
       "5                bertscore_f1     5.439192\n",
       "6               score_related     4.090453\n",
       "7           viewcount_related     3.840413\n",
       "8                commentcount     1.533732\n",
       "9                   viewcount     1.476563\n",
       "10          avg_comment_score     0.991760\n",
       "11                      score     0.984696\n",
       "12              comment_count     0.854181\n",
       "13  avg_comment_score_related     0.439010\n",
       "14                answercount     0.361357\n",
       "15        answercount_related     0.358703\n",
       "16                 vote_count     0.243932\n",
       "17       commentcount_related     0.160360\n",
       "18      comment_count_related     0.123486"
      ],
      "text/html": [
       "<div>\n",
       "<style scoped>\n",
       "    .dataframe tbody tr th:only-of-type {\n",
       "        vertical-align: middle;\n",
       "    }\n",
       "\n",
       "    .dataframe tbody tr th {\n",
       "        vertical-align: top;\n",
       "    }\n",
       "\n",
       "    .dataframe thead th {\n",
       "        text-align: right;\n",
       "    }\n",
       "</style>\n",
       "<table border=\"1\" class=\"dataframe\">\n",
       "  <thead>\n",
       "    <tr style=\"text-align: right;\">\n",
       "      <th></th>\n",
       "      <th>Feature Id</th>\n",
       "      <th>Importances</th>\n",
       "    </tr>\n",
       "  </thead>\n",
       "  <tbody>\n",
       "    <tr>\n",
       "      <th>0</th>\n",
       "      <td>body_related</td>\n",
       "      <td>29.100615</td>\n",
       "    </tr>\n",
       "    <tr>\n",
       "      <th>1</th>\n",
       "      <td>body</td>\n",
       "      <td>28.445814</td>\n",
       "    </tr>\n",
       "    <tr>\n",
       "      <th>2</th>\n",
       "      <td>bertscore_recall</td>\n",
       "      <td>8.399147</td>\n",
       "    </tr>\n",
       "    <tr>\n",
       "      <th>3</th>\n",
       "      <td>bertscore_precision</td>\n",
       "      <td>7.160863</td>\n",
       "    </tr>\n",
       "    <tr>\n",
       "      <th>4</th>\n",
       "      <td>vote_count_related</td>\n",
       "      <td>5.995723</td>\n",
       "    </tr>\n",
       "    <tr>\n",
       "      <th>5</th>\n",
       "      <td>bertscore_f1</td>\n",
       "      <td>5.439192</td>\n",
       "    </tr>\n",
       "    <tr>\n",
       "      <th>6</th>\n",
       "      <td>score_related</td>\n",
       "      <td>4.090453</td>\n",
       "    </tr>\n",
       "    <tr>\n",
       "      <th>7</th>\n",
       "      <td>viewcount_related</td>\n",
       "      <td>3.840413</td>\n",
       "    </tr>\n",
       "    <tr>\n",
       "      <th>8</th>\n",
       "      <td>commentcount</td>\n",
       "      <td>1.533732</td>\n",
       "    </tr>\n",
       "    <tr>\n",
       "      <th>9</th>\n",
       "      <td>viewcount</td>\n",
       "      <td>1.476563</td>\n",
       "    </tr>\n",
       "    <tr>\n",
       "      <th>10</th>\n",
       "      <td>avg_comment_score</td>\n",
       "      <td>0.991760</td>\n",
       "    </tr>\n",
       "    <tr>\n",
       "      <th>11</th>\n",
       "      <td>score</td>\n",
       "      <td>0.984696</td>\n",
       "    </tr>\n",
       "    <tr>\n",
       "      <th>12</th>\n",
       "      <td>comment_count</td>\n",
       "      <td>0.854181</td>\n",
       "    </tr>\n",
       "    <tr>\n",
       "      <th>13</th>\n",
       "      <td>avg_comment_score_related</td>\n",
       "      <td>0.439010</td>\n",
       "    </tr>\n",
       "    <tr>\n",
       "      <th>14</th>\n",
       "      <td>answercount</td>\n",
       "      <td>0.361357</td>\n",
       "    </tr>\n",
       "    <tr>\n",
       "      <th>15</th>\n",
       "      <td>answercount_related</td>\n",
       "      <td>0.358703</td>\n",
       "    </tr>\n",
       "    <tr>\n",
       "      <th>16</th>\n",
       "      <td>vote_count</td>\n",
       "      <td>0.243932</td>\n",
       "    </tr>\n",
       "    <tr>\n",
       "      <th>17</th>\n",
       "      <td>commentcount_related</td>\n",
       "      <td>0.160360</td>\n",
       "    </tr>\n",
       "    <tr>\n",
       "      <th>18</th>\n",
       "      <td>comment_count_related</td>\n",
       "      <td>0.123486</td>\n",
       "    </tr>\n",
       "  </tbody>\n",
       "</table>\n",
       "</div>"
      ]
     },
     "execution_count": 6,
     "metadata": {},
     "output_type": "execute_result"
    }
   ],
   "execution_count": 6
  }
 ],
 "metadata": {
  "kernelspec": {
   "display_name": ".venv",
   "language": "python",
   "name": "python3"
  },
  "language_info": {
   "codemirror_mode": {
    "name": "ipython",
    "version": 3
   },
   "file_extension": ".py",
   "mimetype": "text/x-python",
   "name": "python",
   "nbconvert_exporter": "python",
   "pygments_lexer": "ipython3",
   "version": "3.7.8"
  }
 },
 "nbformat": 4,
 "nbformat_minor": 2
}
