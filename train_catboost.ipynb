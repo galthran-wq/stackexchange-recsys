{
 "cells": [
  {
   "cell_type": "code",
   "metadata": {
    "ExecuteTime": {
     "end_time": "2024-12-19T23:38:54.800190Z",
     "start_time": "2024-12-19T23:38:49.003621Z"
    }
   },
   "source": "from data_utils import extract_data, load_data, preprocess_data",
   "outputs": [],
   "execution_count": 1
  },
  {
   "metadata": {
    "ExecuteTime": {
     "end_time": "2024-12-19T23:39:12.632616Z",
     "start_time": "2024-12-19T23:38:54.805451Z"
    }
   },
   "cell_type": "code",
   "source": "data = load_data(\"data\")",
   "outputs": [],
   "execution_count": 2
  },
  {
   "metadata": {
    "ExecuteTime": {
     "end_time": "2024-12-20T00:13:16.956210Z",
     "start_time": "2024-12-19T23:39:12.869105Z"
    }
   },
   "cell_type": "code",
   "source": [
    "X_train, X_test, y_train, y_test = preprocess_data(\n",
    "    data,\n",
    "    add_post_text=True,\n",
    "    include_pooled_comments=False,\n",
    "    add_bertscore=True,\n",
    "    n_negative_samples_per_link=1\n",
    ")"
   ],
   "outputs": [
    {
     "name": "stderr",
     "output_type": "stream",
     "text": [
      "C:\\Users\\Raman\\PycharmProjects\\stackexchange-recsys\\data_utils.py:91: SettingWithCopyWarning: \n",
      "A value is trying to be set on a copy of a slice from a DataFrame.\n",
      "Try using .loc[row_indexer,col_indexer] = value instead\n",
      "\n",
      "See the caveats in the documentation: https://pandas.pydata.org/pandas-docs/stable/user_guide/indexing.html#returning-a-view-versus-a-copy\n",
      "  posts_features['body'] = posts_features['body'].map(clean_html)\n"
     ]
    },
    {
     "data": {
      "text/plain": [
       "Calculating BERTScore (pred: title; ref: title_related; metric: f1):   0%|          | 0/160 [00:00<?, ?it/s]"
      ],
      "application/vnd.jupyter.widget-view+json": {
       "version_major": 2,
       "version_minor": 0,
       "model_id": "cab0de4ca0394daeb0a1241ab24b1e76"
      }
     },
     "metadata": {},
     "output_type": "display_data"
    },
    {
     "name": "stderr",
     "output_type": "stream",
     "text": [
      "Some weights of RobertaModel were not initialized from the model checkpoint at roberta-large and are newly initialized: ['roberta.pooler.dense.bias', 'roberta.pooler.dense.weight']\n",
      "You should probably TRAIN this model on a down-stream task to be able to use it for predictions and inference.\n"
     ]
    },
    {
     "data": {
      "text/plain": [
       "Calculating BERTScore (pred: body; ref: body_related; metric: f1):   0%|          | 0/160 [00:00<?, ?it/s]"
      ],
      "application/vnd.jupyter.widget-view+json": {
       "version_major": 2,
       "version_minor": 0,
       "model_id": "8c48d2b18a1f4910a9ea98b87409e859"
      }
     },
     "metadata": {},
     "output_type": "display_data"
    },
    {
     "name": "stderr",
     "output_type": "stream",
     "text": [
      "Some weights of RobertaModel were not initialized from the model checkpoint at roberta-large and are newly initialized: ['roberta.pooler.dense.bias', 'roberta.pooler.dense.weight']\n",
      "You should probably TRAIN this model on a down-stream task to be able to use it for predictions and inference.\n"
     ]
    },
    {
     "data": {
      "text/plain": [
       "Calculating BERTScore (pred: body_related; ref: title; metric: recall):   0%|          | 0/160 [00:00<?, ?it/s…"
      ],
      "application/vnd.jupyter.widget-view+json": {
       "version_major": 2,
       "version_minor": 0,
       "model_id": "fc1acb2725c54594b9d1d6a48e7d56d4"
      }
     },
     "metadata": {},
     "output_type": "display_data"
    },
    {
     "name": "stderr",
     "output_type": "stream",
     "text": [
      "Some weights of RobertaModel were not initialized from the model checkpoint at roberta-large and are newly initialized: ['roberta.pooler.dense.bias', 'roberta.pooler.dense.weight']\n",
      "You should probably TRAIN this model on a down-stream task to be able to use it for predictions and inference.\n"
     ]
    },
    {
     "data": {
      "text/plain": [
       "Calculating BERTScore (pred: body; ref: title_related; metric: recall):   0%|          | 0/160 [00:00<?, ?it/s…"
      ],
      "application/vnd.jupyter.widget-view+json": {
       "version_major": 2,
       "version_minor": 0,
       "model_id": "7b98a03033574abcb06c92c9f3ccea97"
      }
     },
     "metadata": {},
     "output_type": "display_data"
    },
    {
     "name": "stderr",
     "output_type": "stream",
     "text": [
      "Some weights of RobertaModel were not initialized from the model checkpoint at roberta-large and are newly initialized: ['roberta.pooler.dense.bias', 'roberta.pooler.dense.weight']\n",
      "You should probably TRAIN this model on a down-stream task to be able to use it for predictions and inference.\n"
     ]
    }
   ],
   "execution_count": 3
  },
  {
   "cell_type": "code",
   "metadata": {
    "ExecuteTime": {
     "end_time": "2024-12-20T00:13:23.155644Z",
     "start_time": "2024-12-20T00:13:23.144438Z"
    }
   },
   "source": [
    "# for col in X_train.columns:\n",
    "#     print(X_train[col].)\n",
    "X_train['body'].iloc[0]"
   ],
   "outputs": [
    {
     "data": {
      "text/plain": [
       "\"Pizza sauce and spaghetti sauce are both tomato-based, have roughly the same seasoning (Italian) and look a like. However, I (and a friendly user here) think there is a difference between the two. So what is it? Or isn't there one and you can interchange the two without a weird feeling or taste?\\n\""
      ]
     },
     "execution_count": 4,
     "metadata": {},
     "output_type": "execute_result"
    }
   ],
   "execution_count": 4
  },
  {
   "metadata": {
    "ExecuteTime": {
     "end_time": "2024-12-20T00:13:23.910760Z",
     "start_time": "2024-12-20T00:13:23.869269Z"
    }
   },
   "cell_type": "code",
   "source": "X_train",
   "outputs": [
    {
     "data": {
      "text/plain": [
       "      linktypeid score viewcount answercount commentcount  \\\n",
       "3810           1    17    122701           8            3   \n",
       "2500           1     0        22           0            3   \n",
       "2826           1     2      5016           2            6   \n",
       "4415           1     1       298           2           17   \n",
       "1547           0    27     29311          14            4   \n",
       "...          ...   ...       ...         ...          ...   \n",
       "5594           0     2       970           2            3   \n",
       "5770           0     1        74           2            1   \n",
       "919            1     0        82           1            2   \n",
       "8125           0     2       412           1            0   \n",
       "7773           0     3       328           1            0   \n",
       "\n",
       "                                                   body  \\\n",
       "3810  Pizza sauce and spaghetti sauce are both tomat...   \n",
       "2500  Milk Frosting. \\n1 and a 1/2 Cup Sugar, 1/2 Cu...   \n",
       "2826  I received so many good tips on how to make a ...   \n",
       "4415  I am preparing a chili for a contest. The reci...   \n",
       "1547  Despite my best efforts, my kitchen (and somet...   \n",
       "...                                                 ...   \n",
       "5594  Rose Levy's reviews warn about using the right...   \n",
       "5770  I have my grandmothers handwritten recipe for ...   \n",
       "919   I currently have a 2 lbs beef chuck in the ove...   \n",
       "8125  1) I would think that crisping the meat toward...   \n",
       "7773  I'm looking at buying a mincer and am seeing t...   \n",
       "\n",
       "                                                  title score_related  \\\n",
       "3810  What is the difference between pizza sauce and...             8   \n",
       "2500     How can I make frosting without powdered sugar             5   \n",
       "2826   How to Make Nutella Icing without Powdered Sugar             4   \n",
       "4415        Is it a good idea to use cardamom in chili?            35   \n",
       "1547  How do I pound chicken (or other meat) without...             3   \n",
       "...                                                 ...           ...   \n",
       "5594  In what ways does the size of the baking pan m...             3   \n",
       "5770                missing ingredients in banana bread             3   \n",
       "919   Internal temperature of cuts containing abunda...             7   \n",
       "8125  Crisp skin of meat in the beginning or end of ...             5   \n",
       "7773  What does the number mean in the specification...             4   \n",
       "\n",
       "     viewcount_related answercount_related  ... vote_count vote_count_related  \\\n",
       "3810              9450                   5  ...       17.0                8.0   \n",
       "2500               295                   5  ...        NaN                5.0   \n",
       "2826              3475                   2  ...        2.0                5.0   \n",
       "4415            196988                   2  ...        5.0               64.0   \n",
       "1547              3785                   3  ...       28.0                4.0   \n",
       "...                ...                 ...  ...        ...                ...   \n",
       "5594               155                   1  ...        4.0                4.0   \n",
       "5770               285                   2  ...        1.0                3.0   \n",
       "919                360                   1  ...        NaN                9.0   \n",
       "8125               638                   1  ...        2.0                7.0   \n",
       "7773              1476                   1  ...        3.0                6.0   \n",
       "\n",
       "     avg_comment_score  comment_count  avg_comment_score_related  \\\n",
       "3810          0.333333            3.0                        NaN   \n",
       "2500          0.000000            3.0                        NaN   \n",
       "2826          1.666667            6.0                   0.500000   \n",
       "4415          0.294118           17.0                   1.000000   \n",
       "1547          0.250000            4.0                   0.250000   \n",
       "...                ...            ...                        ...   \n",
       "5594          1.000000            3.0                        NaN   \n",
       "5770          1.000000            1.0                   0.250000   \n",
       "919           0.500000            2.0                        NaN   \n",
       "8125               NaN            NaN                        NaN   \n",
       "7773               NaN            NaN                   0.333333   \n",
       "\n",
       "      comment_count_related  bertscore_title_f1  bertscore_body_f1  \\\n",
       "3810                    NaN            0.938543           0.845361   \n",
       "2500                    NaN            0.880523           0.808598   \n",
       "2826                    2.0            0.895808           0.837342   \n",
       "4415                    1.0            0.867793           0.830425   \n",
       "1547                    4.0            0.871969           0.812368   \n",
       "...                     ...                 ...                ...   \n",
       "5594                    NaN            0.866848           0.821198   \n",
       "5770                    4.0            0.838241           0.829595   \n",
       "919                     NaN            0.830916           0.851076   \n",
       "8125                    NaN            0.834445           0.834747   \n",
       "7773                    6.0            0.851946           0.809661   \n",
       "\n",
       "      bertscore_title_recall  bertscore_title_related_recall  \n",
       "3810                0.886523                        0.885055  \n",
       "2500                0.861942                        0.848273  \n",
       "2826                0.820975                        0.930442  \n",
       "4415                0.863780                        0.830531  \n",
       "1547                0.848907                        0.831084  \n",
       "...                      ...                             ...  \n",
       "5594                0.858796                        0.849260  \n",
       "5770                0.861593                        0.813935  \n",
       "919                 0.840228                        0.837897  \n",
       "8125                0.830131                        0.859137  \n",
       "7773                0.844862                        0.806329  \n",
       "\n",
       "[6391 rows x 23 columns]"
      ],
      "text/html": [
       "<div>\n",
       "<style scoped>\n",
       "    .dataframe tbody tr th:only-of-type {\n",
       "        vertical-align: middle;\n",
       "    }\n",
       "\n",
       "    .dataframe tbody tr th {\n",
       "        vertical-align: top;\n",
       "    }\n",
       "\n",
       "    .dataframe thead th {\n",
       "        text-align: right;\n",
       "    }\n",
       "</style>\n",
       "<table border=\"1\" class=\"dataframe\">\n",
       "  <thead>\n",
       "    <tr style=\"text-align: right;\">\n",
       "      <th></th>\n",
       "      <th>linktypeid</th>\n",
       "      <th>score</th>\n",
       "      <th>viewcount</th>\n",
       "      <th>answercount</th>\n",
       "      <th>commentcount</th>\n",
       "      <th>body</th>\n",
       "      <th>title</th>\n",
       "      <th>score_related</th>\n",
       "      <th>viewcount_related</th>\n",
       "      <th>answercount_related</th>\n",
       "      <th>...</th>\n",
       "      <th>vote_count</th>\n",
       "      <th>vote_count_related</th>\n",
       "      <th>avg_comment_score</th>\n",
       "      <th>comment_count</th>\n",
       "      <th>avg_comment_score_related</th>\n",
       "      <th>comment_count_related</th>\n",
       "      <th>bertscore_title_f1</th>\n",
       "      <th>bertscore_body_f1</th>\n",
       "      <th>bertscore_title_recall</th>\n",
       "      <th>bertscore_title_related_recall</th>\n",
       "    </tr>\n",
       "  </thead>\n",
       "  <tbody>\n",
       "    <tr>\n",
       "      <th>3810</th>\n",
       "      <td>1</td>\n",
       "      <td>17</td>\n",
       "      <td>122701</td>\n",
       "      <td>8</td>\n",
       "      <td>3</td>\n",
       "      <td>Pizza sauce and spaghetti sauce are both tomat...</td>\n",
       "      <td>What is the difference between pizza sauce and...</td>\n",
       "      <td>8</td>\n",
       "      <td>9450</td>\n",
       "      <td>5</td>\n",
       "      <td>...</td>\n",
       "      <td>17.0</td>\n",
       "      <td>8.0</td>\n",
       "      <td>0.333333</td>\n",
       "      <td>3.0</td>\n",
       "      <td>NaN</td>\n",
       "      <td>NaN</td>\n",
       "      <td>0.938543</td>\n",
       "      <td>0.845361</td>\n",
       "      <td>0.886523</td>\n",
       "      <td>0.885055</td>\n",
       "    </tr>\n",
       "    <tr>\n",
       "      <th>2500</th>\n",
       "      <td>1</td>\n",
       "      <td>0</td>\n",
       "      <td>22</td>\n",
       "      <td>0</td>\n",
       "      <td>3</td>\n",
       "      <td>Milk Frosting. \\n1 and a 1/2 Cup Sugar, 1/2 Cu...</td>\n",
       "      <td>How can I make frosting without powdered sugar</td>\n",
       "      <td>5</td>\n",
       "      <td>295</td>\n",
       "      <td>5</td>\n",
       "      <td>...</td>\n",
       "      <td>NaN</td>\n",
       "      <td>5.0</td>\n",
       "      <td>0.000000</td>\n",
       "      <td>3.0</td>\n",
       "      <td>NaN</td>\n",
       "      <td>NaN</td>\n",
       "      <td>0.880523</td>\n",
       "      <td>0.808598</td>\n",
       "      <td>0.861942</td>\n",
       "      <td>0.848273</td>\n",
       "    </tr>\n",
       "    <tr>\n",
       "      <th>2826</th>\n",
       "      <td>1</td>\n",
       "      <td>2</td>\n",
       "      <td>5016</td>\n",
       "      <td>2</td>\n",
       "      <td>6</td>\n",
       "      <td>I received so many good tips on how to make a ...</td>\n",
       "      <td>How to Make Nutella Icing without Powdered Sugar</td>\n",
       "      <td>4</td>\n",
       "      <td>3475</td>\n",
       "      <td>2</td>\n",
       "      <td>...</td>\n",
       "      <td>2.0</td>\n",
       "      <td>5.0</td>\n",
       "      <td>1.666667</td>\n",
       "      <td>6.0</td>\n",
       "      <td>0.500000</td>\n",
       "      <td>2.0</td>\n",
       "      <td>0.895808</td>\n",
       "      <td>0.837342</td>\n",
       "      <td>0.820975</td>\n",
       "      <td>0.930442</td>\n",
       "    </tr>\n",
       "    <tr>\n",
       "      <th>4415</th>\n",
       "      <td>1</td>\n",
       "      <td>1</td>\n",
       "      <td>298</td>\n",
       "      <td>2</td>\n",
       "      <td>17</td>\n",
       "      <td>I am preparing a chili for a contest. The reci...</td>\n",
       "      <td>Is it a good idea to use cardamom in chili?</td>\n",
       "      <td>35</td>\n",
       "      <td>196988</td>\n",
       "      <td>2</td>\n",
       "      <td>...</td>\n",
       "      <td>5.0</td>\n",
       "      <td>64.0</td>\n",
       "      <td>0.294118</td>\n",
       "      <td>17.0</td>\n",
       "      <td>1.000000</td>\n",
       "      <td>1.0</td>\n",
       "      <td>0.867793</td>\n",
       "      <td>0.830425</td>\n",
       "      <td>0.863780</td>\n",
       "      <td>0.830531</td>\n",
       "    </tr>\n",
       "    <tr>\n",
       "      <th>1547</th>\n",
       "      <td>0</td>\n",
       "      <td>27</td>\n",
       "      <td>29311</td>\n",
       "      <td>14</td>\n",
       "      <td>4</td>\n",
       "      <td>Despite my best efforts, my kitchen (and somet...</td>\n",
       "      <td>How do I pound chicken (or other meat) without...</td>\n",
       "      <td>3</td>\n",
       "      <td>3785</td>\n",
       "      <td>3</td>\n",
       "      <td>...</td>\n",
       "      <td>28.0</td>\n",
       "      <td>4.0</td>\n",
       "      <td>0.250000</td>\n",
       "      <td>4.0</td>\n",
       "      <td>0.250000</td>\n",
       "      <td>4.0</td>\n",
       "      <td>0.871969</td>\n",
       "      <td>0.812368</td>\n",
       "      <td>0.848907</td>\n",
       "      <td>0.831084</td>\n",
       "    </tr>\n",
       "    <tr>\n",
       "      <th>...</th>\n",
       "      <td>...</td>\n",
       "      <td>...</td>\n",
       "      <td>...</td>\n",
       "      <td>...</td>\n",
       "      <td>...</td>\n",
       "      <td>...</td>\n",
       "      <td>...</td>\n",
       "      <td>...</td>\n",
       "      <td>...</td>\n",
       "      <td>...</td>\n",
       "      <td>...</td>\n",
       "      <td>...</td>\n",
       "      <td>...</td>\n",
       "      <td>...</td>\n",
       "      <td>...</td>\n",
       "      <td>...</td>\n",
       "      <td>...</td>\n",
       "      <td>...</td>\n",
       "      <td>...</td>\n",
       "      <td>...</td>\n",
       "      <td>...</td>\n",
       "    </tr>\n",
       "    <tr>\n",
       "      <th>5594</th>\n",
       "      <td>0</td>\n",
       "      <td>2</td>\n",
       "      <td>970</td>\n",
       "      <td>2</td>\n",
       "      <td>3</td>\n",
       "      <td>Rose Levy's reviews warn about using the right...</td>\n",
       "      <td>In what ways does the size of the baking pan m...</td>\n",
       "      <td>3</td>\n",
       "      <td>155</td>\n",
       "      <td>1</td>\n",
       "      <td>...</td>\n",
       "      <td>4.0</td>\n",
       "      <td>4.0</td>\n",
       "      <td>1.000000</td>\n",
       "      <td>3.0</td>\n",
       "      <td>NaN</td>\n",
       "      <td>NaN</td>\n",
       "      <td>0.866848</td>\n",
       "      <td>0.821198</td>\n",
       "      <td>0.858796</td>\n",
       "      <td>0.849260</td>\n",
       "    </tr>\n",
       "    <tr>\n",
       "      <th>5770</th>\n",
       "      <td>0</td>\n",
       "      <td>1</td>\n",
       "      <td>74</td>\n",
       "      <td>2</td>\n",
       "      <td>1</td>\n",
       "      <td>I have my grandmothers handwritten recipe for ...</td>\n",
       "      <td>missing ingredients in banana bread</td>\n",
       "      <td>3</td>\n",
       "      <td>285</td>\n",
       "      <td>2</td>\n",
       "      <td>...</td>\n",
       "      <td>1.0</td>\n",
       "      <td>3.0</td>\n",
       "      <td>1.000000</td>\n",
       "      <td>1.0</td>\n",
       "      <td>0.250000</td>\n",
       "      <td>4.0</td>\n",
       "      <td>0.838241</td>\n",
       "      <td>0.829595</td>\n",
       "      <td>0.861593</td>\n",
       "      <td>0.813935</td>\n",
       "    </tr>\n",
       "    <tr>\n",
       "      <th>919</th>\n",
       "      <td>1</td>\n",
       "      <td>0</td>\n",
       "      <td>82</td>\n",
       "      <td>1</td>\n",
       "      <td>2</td>\n",
       "      <td>I currently have a 2 lbs beef chuck in the ove...</td>\n",
       "      <td>Internal temperature of cuts containing abunda...</td>\n",
       "      <td>7</td>\n",
       "      <td>360</td>\n",
       "      <td>1</td>\n",
       "      <td>...</td>\n",
       "      <td>NaN</td>\n",
       "      <td>9.0</td>\n",
       "      <td>0.500000</td>\n",
       "      <td>2.0</td>\n",
       "      <td>NaN</td>\n",
       "      <td>NaN</td>\n",
       "      <td>0.830916</td>\n",
       "      <td>0.851076</td>\n",
       "      <td>0.840228</td>\n",
       "      <td>0.837897</td>\n",
       "    </tr>\n",
       "    <tr>\n",
       "      <th>8125</th>\n",
       "      <td>0</td>\n",
       "      <td>2</td>\n",
       "      <td>412</td>\n",
       "      <td>1</td>\n",
       "      <td>0</td>\n",
       "      <td>1) I would think that crisping the meat toward...</td>\n",
       "      <td>Crisp skin of meat in the beginning or end of ...</td>\n",
       "      <td>5</td>\n",
       "      <td>638</td>\n",
       "      <td>1</td>\n",
       "      <td>...</td>\n",
       "      <td>2.0</td>\n",
       "      <td>7.0</td>\n",
       "      <td>NaN</td>\n",
       "      <td>NaN</td>\n",
       "      <td>NaN</td>\n",
       "      <td>NaN</td>\n",
       "      <td>0.834445</td>\n",
       "      <td>0.834747</td>\n",
       "      <td>0.830131</td>\n",
       "      <td>0.859137</td>\n",
       "    </tr>\n",
       "    <tr>\n",
       "      <th>7773</th>\n",
       "      <td>0</td>\n",
       "      <td>3</td>\n",
       "      <td>328</td>\n",
       "      <td>1</td>\n",
       "      <td>0</td>\n",
       "      <td>I'm looking at buying a mincer and am seeing t...</td>\n",
       "      <td>What does the number mean in the specification...</td>\n",
       "      <td>4</td>\n",
       "      <td>1476</td>\n",
       "      <td>1</td>\n",
       "      <td>...</td>\n",
       "      <td>3.0</td>\n",
       "      <td>6.0</td>\n",
       "      <td>NaN</td>\n",
       "      <td>NaN</td>\n",
       "      <td>0.333333</td>\n",
       "      <td>6.0</td>\n",
       "      <td>0.851946</td>\n",
       "      <td>0.809661</td>\n",
       "      <td>0.844862</td>\n",
       "      <td>0.806329</td>\n",
       "    </tr>\n",
       "  </tbody>\n",
       "</table>\n",
       "<p>6391 rows × 23 columns</p>\n",
       "</div>"
      ]
     },
     "execution_count": 5,
     "metadata": {},
     "output_type": "execute_result"
    }
   ],
   "execution_count": 5
  },
  {
   "cell_type": "code",
   "metadata": {
    "ExecuteTime": {
     "end_time": "2024-12-20T00:13:34.261813Z",
     "start_time": "2024-12-20T00:13:34.230094Z"
    }
   },
   "source": [
    "X_train.info()"
   ],
   "outputs": [
    {
     "name": "stdout",
     "output_type": "stream",
     "text": [
      "<class 'pandas.core.frame.DataFrame'>\n",
      "Index: 6391 entries, 3810 to 7773\n",
      "Data columns (total 23 columns):\n",
      " #   Column                          Non-Null Count  Dtype  \n",
      "---  ------                          --------------  -----  \n",
      " 0   linktypeid                      6391 non-null   int64  \n",
      " 1   score                           6391 non-null   object \n",
      " 2   viewcount                       6391 non-null   object \n",
      " 3   answercount                     6391 non-null   object \n",
      " 4   commentcount                    6391 non-null   object \n",
      " 5   body                            6391 non-null   object \n",
      " 6   title                           6391 non-null   object \n",
      " 7   score_related                   6391 non-null   object \n",
      " 8   viewcount_related               6391 non-null   object \n",
      " 9   answercount_related             6391 non-null   object \n",
      " 10  commentcount_related            6391 non-null   object \n",
      " 11  body_related                    6391 non-null   object \n",
      " 12  title_related                   6391 non-null   object \n",
      " 13  vote_count                      5997 non-null   float64\n",
      " 14  vote_count_related              6174 non-null   float64\n",
      " 15  avg_comment_score               4465 non-null   float64\n",
      " 16  comment_count                   4465 non-null   float64\n",
      " 17  avg_comment_score_related       4106 non-null   float64\n",
      " 18  comment_count_related           4106 non-null   float64\n",
      " 19  bertscore_title_f1              6391 non-null   float64\n",
      " 20  bertscore_body_f1               6391 non-null   float64\n",
      " 21  bertscore_title_recall          6391 non-null   float64\n",
      " 22  bertscore_title_related_recall  6391 non-null   float64\n",
      "dtypes: float64(10), int64(1), object(12)\n",
      "memory usage: 1.2+ MB\n"
     ]
    }
   ],
   "execution_count": 6
  },
  {
   "cell_type": "code",
   "metadata": {
    "ExecuteTime": {
     "end_time": "2024-12-20T00:13:35.244827Z",
     "start_time": "2024-12-20T00:13:35.229160Z"
    }
   },
   "source": [
    "X_train[\"linktypeid\"].value_counts()"
   ],
   "outputs": [
    {
     "data": {
      "text/plain": [
       "linktypeid\n",
       "0    3472\n",
       "1    2919\n",
       "Name: count, dtype: int64"
      ]
     },
     "execution_count": 7,
     "metadata": {},
     "output_type": "execute_result"
    }
   ],
   "execution_count": 7
  },
  {
   "cell_type": "code",
   "metadata": {
    "ExecuteTime": {
     "end_time": "2024-12-20T00:13:36.202661Z",
     "start_time": "2024-12-20T00:13:36.181251Z"
    }
   },
   "source": [
    "X_test[\"linktypeid\"].value_counts()"
   ],
   "outputs": [
    {
     "data": {
      "text/plain": [
       "linktypeid\n",
       "0    800\n",
       "1    798\n",
       "Name: count, dtype: int64"
      ]
     },
     "execution_count": 8,
     "metadata": {},
     "output_type": "execute_result"
    }
   ],
   "execution_count": 8
  },
  {
   "cell_type": "code",
   "metadata": {
    "ExecuteTime": {
     "end_time": "2024-12-20T00:13:39.497377Z",
     "start_time": "2024-12-20T00:13:39.465442Z"
    }
   },
   "source": [
    "X_train.drop(columns=[\"linktypeid\"], inplace=True)\n",
    "X_test.drop(columns=[\"linktypeid\"], inplace=True)"
   ],
   "outputs": [],
   "execution_count": 9
  },
  {
   "cell_type": "code",
   "metadata": {
    "ExecuteTime": {
     "end_time": "2024-12-20T00:18:04.231495Z",
     "start_time": "2024-12-20T00:13:41.194664Z"
    }
   },
   "source": [
    "from catboost import CatBoostClassifier, Pool\n",
    "from sklearn.metrics import accuracy_score\n",
    "\n",
    "# Define categorical features indices if you have any\n",
    "categorical_features_indices = []  # e.g., [0, 1, 2] if your first three columns are categorical\n",
    "\n",
    "# Initialize CatBoostClassifier\n",
    "model = CatBoostClassifier(\n",
    "    iterations=1000,  # Number of boosting iterations\n",
    "    learning_rate=0.1,  # Learning rate\n",
    "    depth=6,  # Depth of the tree\n",
    "    cat_features=categorical_features_indices,  # Specify categorical features\n",
    "    # text_features=[\"body\", \"comments_text\", \"comments_text_related\", \"body_related\"],\n",
    "    text_features=[\"body\", \"body_related\", \"title\", \"title_related\"],\n",
    "    verbose=100  # Print training progress every 100 iterations\n",
    ")\n",
    "\n",
    "# Train the model\n",
    "model.fit(X_train, y_train, eval_set=(X_test, y_test), plot=True)\n",
    "\n",
    "# Make predictions\n",
    "y_pred = model.predict(X_test)\n",
    "\n",
    "# Evaluate the model\n",
    "accuracy = accuracy_score(y_test, y_pred)\n",
    "print(f\"Accuracy: {accuracy:.4f}\")"
   ],
   "outputs": [
    {
     "data": {
      "text/plain": [
       "MetricVisualizer(layout=Layout(align_self='stretch', height='500px'))"
      ],
      "application/vnd.jupyter.widget-view+json": {
       "version_major": 2,
       "version_minor": 0,
       "model_id": "fffd471a66e849a39fb226e0dcfecb67"
      }
     },
     "metadata": {},
     "output_type": "display_data"
    },
    {
     "name": "stdout",
     "output_type": "stream",
     "text": [
      "0:\tlearn: 0.6364593\ttest: 0.6354369\tbest: 0.6354369 (0)\ttotal: 449ms\tremaining: 7m 28s\n",
      "100:\tlearn: 0.2725997\ttest: 0.3211095\tbest: 0.3208559 (97)\ttotal: 26.5s\tremaining: 3m 55s\n",
      "200:\tlearn: 0.2019869\ttest: 0.3048462\tbest: 0.3047665 (199)\ttotal: 52.2s\tremaining: 3m 27s\n",
      "300:\tlearn: 0.1607665\ttest: 0.2988027\tbest: 0.2985293 (286)\ttotal: 1m 17s\tremaining: 3m 1s\n",
      "400:\tlearn: 0.1332301\ttest: 0.2998028\tbest: 0.2975733 (343)\ttotal: 1m 43s\tremaining: 2m 34s\n",
      "500:\tlearn: 0.1123858\ttest: 0.2987192\tbest: 0.2975733 (343)\ttotal: 2m 9s\tremaining: 2m 8s\n",
      "600:\tlearn: 0.0958479\ttest: 0.2996055\tbest: 0.2975733 (343)\ttotal: 2m 36s\tremaining: 1m 44s\n",
      "700:\tlearn: 0.0818030\ttest: 0.3001195\tbest: 0.2975733 (343)\ttotal: 3m 2s\tremaining: 1m 17s\n",
      "800:\tlearn: 0.0717824\ttest: 0.3014666\tbest: 0.2975733 (343)\ttotal: 3m 28s\tremaining: 51.9s\n",
      "900:\tlearn: 0.0627916\ttest: 0.3031494\tbest: 0.2975733 (343)\ttotal: 3m 55s\tremaining: 25.8s\n",
      "999:\tlearn: 0.0551821\ttest: 0.3061976\tbest: 0.2975733 (343)\ttotal: 4m 20s\tremaining: 0us\n",
      "\n",
      "bestTest = 0.2975733174\n",
      "bestIteration = 343\n",
      "\n",
      "Shrink model to first 344 iterations.\n",
      "Accuracy: 0.8711\n"
     ]
    }
   ],
   "execution_count": 10
  },
  {
   "cell_type": "code",
   "metadata": {
    "ExecuteTime": {
     "end_time": "2024-12-20T00:18:10.923164Z",
     "start_time": "2024-12-20T00:18:10.891847Z"
    }
   },
   "source": [
    "model.get_feature_importance(prettified=True)"
   ],
   "outputs": [
    {
     "data": {
      "text/plain": [
       "                        Feature Id  Importances\n",
       "0   bertscore_title_related_recall    17.612839\n",
       "1                             body    16.560653\n",
       "2                     body_related    15.146583\n",
       "3           bertscore_title_recall    10.786627\n",
       "4                    title_related     8.087154\n",
       "5               vote_count_related     6.530304\n",
       "6                bertscore_body_f1     5.777578\n",
       "7                            title     5.016989\n",
       "8                    score_related     4.283804\n",
       "9                viewcount_related     2.823458\n",
       "10              bertscore_title_f1     1.499569\n",
       "11                   comment_count     1.192598\n",
       "12                       viewcount     1.114788\n",
       "13               avg_comment_score     1.027892\n",
       "14                    commentcount     0.767511\n",
       "15                           score     0.597802\n",
       "16                      vote_count     0.379672\n",
       "17             answercount_related     0.300458\n",
       "18       avg_comment_score_related     0.188822\n",
       "19            commentcount_related     0.142455\n",
       "20                     answercount     0.102024\n",
       "21           comment_count_related     0.060420"
      ],
      "text/html": [
       "<div>\n",
       "<style scoped>\n",
       "    .dataframe tbody tr th:only-of-type {\n",
       "        vertical-align: middle;\n",
       "    }\n",
       "\n",
       "    .dataframe tbody tr th {\n",
       "        vertical-align: top;\n",
       "    }\n",
       "\n",
       "    .dataframe thead th {\n",
       "        text-align: right;\n",
       "    }\n",
       "</style>\n",
       "<table border=\"1\" class=\"dataframe\">\n",
       "  <thead>\n",
       "    <tr style=\"text-align: right;\">\n",
       "      <th></th>\n",
       "      <th>Feature Id</th>\n",
       "      <th>Importances</th>\n",
       "    </tr>\n",
       "  </thead>\n",
       "  <tbody>\n",
       "    <tr>\n",
       "      <th>0</th>\n",
       "      <td>bertscore_title_related_recall</td>\n",
       "      <td>17.612839</td>\n",
       "    </tr>\n",
       "    <tr>\n",
       "      <th>1</th>\n",
       "      <td>body</td>\n",
       "      <td>16.560653</td>\n",
       "    </tr>\n",
       "    <tr>\n",
       "      <th>2</th>\n",
       "      <td>body_related</td>\n",
       "      <td>15.146583</td>\n",
       "    </tr>\n",
       "    <tr>\n",
       "      <th>3</th>\n",
       "      <td>bertscore_title_recall</td>\n",
       "      <td>10.786627</td>\n",
       "    </tr>\n",
       "    <tr>\n",
       "      <th>4</th>\n",
       "      <td>title_related</td>\n",
       "      <td>8.087154</td>\n",
       "    </tr>\n",
       "    <tr>\n",
       "      <th>5</th>\n",
       "      <td>vote_count_related</td>\n",
       "      <td>6.530304</td>\n",
       "    </tr>\n",
       "    <tr>\n",
       "      <th>6</th>\n",
       "      <td>bertscore_body_f1</td>\n",
       "      <td>5.777578</td>\n",
       "    </tr>\n",
       "    <tr>\n",
       "      <th>7</th>\n",
       "      <td>title</td>\n",
       "      <td>5.016989</td>\n",
       "    </tr>\n",
       "    <tr>\n",
       "      <th>8</th>\n",
       "      <td>score_related</td>\n",
       "      <td>4.283804</td>\n",
       "    </tr>\n",
       "    <tr>\n",
       "      <th>9</th>\n",
       "      <td>viewcount_related</td>\n",
       "      <td>2.823458</td>\n",
       "    </tr>\n",
       "    <tr>\n",
       "      <th>10</th>\n",
       "      <td>bertscore_title_f1</td>\n",
       "      <td>1.499569</td>\n",
       "    </tr>\n",
       "    <tr>\n",
       "      <th>11</th>\n",
       "      <td>comment_count</td>\n",
       "      <td>1.192598</td>\n",
       "    </tr>\n",
       "    <tr>\n",
       "      <th>12</th>\n",
       "      <td>viewcount</td>\n",
       "      <td>1.114788</td>\n",
       "    </tr>\n",
       "    <tr>\n",
       "      <th>13</th>\n",
       "      <td>avg_comment_score</td>\n",
       "      <td>1.027892</td>\n",
       "    </tr>\n",
       "    <tr>\n",
       "      <th>14</th>\n",
       "      <td>commentcount</td>\n",
       "      <td>0.767511</td>\n",
       "    </tr>\n",
       "    <tr>\n",
       "      <th>15</th>\n",
       "      <td>score</td>\n",
       "      <td>0.597802</td>\n",
       "    </tr>\n",
       "    <tr>\n",
       "      <th>16</th>\n",
       "      <td>vote_count</td>\n",
       "      <td>0.379672</td>\n",
       "    </tr>\n",
       "    <tr>\n",
       "      <th>17</th>\n",
       "      <td>answercount_related</td>\n",
       "      <td>0.300458</td>\n",
       "    </tr>\n",
       "    <tr>\n",
       "      <th>18</th>\n",
       "      <td>avg_comment_score_related</td>\n",
       "      <td>0.188822</td>\n",
       "    </tr>\n",
       "    <tr>\n",
       "      <th>19</th>\n",
       "      <td>commentcount_related</td>\n",
       "      <td>0.142455</td>\n",
       "    </tr>\n",
       "    <tr>\n",
       "      <th>20</th>\n",
       "      <td>answercount</td>\n",
       "      <td>0.102024</td>\n",
       "    </tr>\n",
       "    <tr>\n",
       "      <th>21</th>\n",
       "      <td>comment_count_related</td>\n",
       "      <td>0.060420</td>\n",
       "    </tr>\n",
       "  </tbody>\n",
       "</table>\n",
       "</div>"
      ]
     },
     "execution_count": 11,
     "metadata": {},
     "output_type": "execute_result"
    }
   ],
   "execution_count": 11
  }
 ],
 "metadata": {
  "kernelspec": {
   "display_name": ".venv",
   "language": "python",
   "name": "python3"
  },
  "language_info": {
   "codemirror_mode": {
    "name": "ipython",
    "version": 3
   },
   "file_extension": ".py",
   "mimetype": "text/x-python",
   "name": "python",
   "nbconvert_exporter": "python",
   "pygments_lexer": "ipython3",
   "version": "3.7.8"
  }
 },
 "nbformat": 4,
 "nbformat_minor": 2
}
